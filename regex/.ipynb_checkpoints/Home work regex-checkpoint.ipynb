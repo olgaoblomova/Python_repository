{
 "cells": [
  {
   "cell_type": "code",
   "execution_count": 1,
   "metadata": {},
   "outputs": [],
   "source": [
    "import re"
   ]
  },
  {
   "cell_type": "code",
   "execution_count": 2,
   "metadata": {},
   "outputs": [
    {
     "name": "stdout",
     "output_type": "stream",
     "text": [
      "Номер A222BC валиден. Регион 96\n"
     ]
    }
   ],
   "source": [
    "# Задание 1\n",
    "# Напишите функцию, которая принимает на вход строку и проверяет является ли она валидным транспортным номером\n",
    "# (1 буква, 3 цифры, 2 буквы, 2-3 цифры). Обратите внимание, что не все буквы кириллического алфавита используются\n",
    "# в транспортных номерах.\n",
    "\n",
    "# Если номер валиден, то функция должна возвращать отдельно номер и регион.\n",
    "\n",
    "\n",
    "def check_car_number(car_id):\n",
    "    \"\"\"\n",
    "    Функция проверки валидности автомобильных номеров\n",
    "    \"\"\"\n",
    "    try:\n",
    "        result = re.search(r'(^[АВЕКМНОРСТУХABEKMHOPCTYX]{1}(?!000)\\d{3}[АВЕКМНОРСТУХABEKMHOPCTYX]{2})(\\d{2,3})$', car_id)\n",
    "        result.group()\n",
    "        return print(f'Номер {result.group(1)} валиден. Регион {result.group(2)}')\n",
    "    except:\n",
    "        return print('Номер не валиден')\n",
    "car_id = 'A222BC96' \n",
    "#car_id = 'К000КВ777'\n",
    "#car_id = 'АБ22ВВ193'\n",
    "check_car_number(car_id)"
   ]
  },
  {
   "cell_type": "code",
   "execution_count": 3,
   "metadata": {},
   "outputs": [
    {
     "name": "stdout",
     "output_type": "stream",
     "text": [
      "Напишите функцию, которая будет удалять все последовательные повторы слов из заданной строки при помощи регулярных выражений.\n"
     ]
    }
   ],
   "source": [
    "# Задание 2\n",
    "# Напишите функцию, которая будет удалять все последовательные повторы слов из заданной строки\n",
    "# при помощи регулярных выражений.\n",
    "# Пример работы программы:\n",
    "# Результат:\n",
    "# Напишите функцию, которая будет удалять все последовательные повторы слов из заданной строки при помощи\n",
    "# регулярных выражений.\n",
    "\n",
    "def del_repeat(some_string):\n",
    "    \"\"\"\n",
    "    Функция удаляет последовательные повторы в предложении\n",
    "    \"\"\"\n",
    "    zam = re.sub(r'(\\w+)(\\s+\\1)+', r'\\1', some_string)\n",
    "    return print(zam)\n",
    "some_string = 'Напишите функцию функцию, которая будет будет будет будет удалять все все все все последовательные повторы слов из из из из заданной строки строки при помощи регулярных выражений.'\n",
    "del_repeat(some_string)"
   ]
  },
  {
   "cell_type": "code",
   "execution_count": 13,
   "metadata": {},
   "outputs": [
    {
     "name": "stdout",
     "output_type": "stream",
     "text": [
      "ИТ\n"
     ]
    }
   ],
   "source": [
    "# Задание 3\n",
    "# Напишите функцию, которая будет возвращать акроним по переданной в нее строке со словами.\n",
    "# Примеры работы программы:\n",
    "some_words = 'Информационные технологии'\n",
    "# Результат: ИТ\n",
    "#some_words = 'Near Field Communication'\n",
    "# Результат: NFC\n",
    "def acronim(some_words):\n",
    "    \"\"\"\n",
    "    Функция возвращает акроним по переданной в нее строке со словами\n",
    "    \"\"\"\n",
    "    zam = (re.sub(r'\\b(\\w)(?:\\S+\\s*)', r'\\1', some_words)).upper()\n",
    "    return print(zam)\n",
    "acronim(some_words)"
   ]
  },
  {
   "cell_type": "code",
   "execution_count": 4,
   "metadata": {},
   "outputs": [
    {
     "name": "stdout",
     "output_type": "stream",
     "text": [
      "gmail.com :  2\n",
      "test.in :  1\n",
      "ya.ru :  2\n",
      "mail.ru :  1\n"
     ]
    }
   ],
   "source": [
    "# Задание 4\n",
    "# Напишите функцию, которая будет принимать на вход список email-адресов и выводить их распределение по доменным зонам.\n",
    "# Пример работы программы:\n",
    "# Результат:\n",
    "# gmail.com: 2\n",
    "# test.in: 1 \n",
    "# ya.ru: 2 \n",
    "# mail.ru: 1\n",
    "emails = ['test@gmail.com', 'xyz@test.in', 'test@ya.ru', 'xyz@mail.ru', 'xyz@ya.ru', 'xyz@gmail.com']\n",
    "def count_domain(emails):\n",
    "    \"\"\"\n",
    "    Функция принимает на вход список email-адресов и выводит их распределение по доменным зонам\n",
    "    \"\"\"\n",
    "    dict_email = {}\n",
    "    for domain in emails:\n",
    "        domain = re.search(r'(?<=@)(\\w+\\.\\w{2,3})', domain).group(1)\n",
    "        dict_email.setdefault(domain, 0)\n",
    "        if domain in dict_email:\n",
    "            dict_email[domain] += 1\n",
    "        else:\n",
    "            dict_email[domain] = 1\n",
    "    for key, value in dict_email.items():\n",
    "        print(key,': ', value)\n",
    "        \n",
    "count_domain(emails)"
   ]
  },
  {
   "cell_type": "code",
   "execution_count": 5,
   "metadata": {},
   "outputs": [
    {
     "name": "stdout",
     "output_type": "stream",
     "text": [
      "Слов на гласные буквы: 9\n",
      "Слов на согласные буквы: 21\n"
     ]
    }
   ],
   "source": [
    "# Задание 5\n",
    "# Напишите функцию, которая будет подсчитывать сколько слов начинается на гласные, а сколько на согласные буквы в тексте (текст может быть написан как с использованием букв кириллицы, так и латиницы).\n",
    "# Пример работы программы:\n",
    "# Результат:\n",
    "# Слов на гласные буквы: 9\n",
    "# Слов на согласные буквы: 21\n",
    "some_text = 'Эталонной реализацией Python является интерпретатор CPython, поддерживающий большинство активно используемых платформ. Он распространяется под свободной лицензией Python Software Foundation License, позволяющей использовать его без ограничений в любых приложениях, включая проприетарные.'\n",
    "\n",
    "def check_first_letter(some_text):\n",
    "    \"\"\"\n",
    "    Функция подсчитывает сколько слов начинается на гласные, а сколько на согласные буквы в тексте\n",
    "    \"\"\"\n",
    "    zam_vowels = re.findall(r'(\\b[AEUOIaeuoiаеёиоуыэюяАЕЁИОУЫЭЮЯ])', some_text)\n",
    "    zam_consonants = re.findall(r'(\\b[Б-ДЖЗЙ-НП-ТФ-Щб-джзй-нп-тф-щB-DF-HJ-NP-TV-Zb-df-hj-np-tv-z])', some_text)\n",
    "    print(f'Слов на гласные буквы: {len(zam_vowels)}')\n",
    "    print(f'Слов на согласные буквы: {len(zam_consonants)}')\n",
    "check_first_letter(some_text)"
   ]
  },
  {
   "cell_type": "code",
   "execution_count": 6,
   "metadata": {},
   "outputs": [
    {
     "name": "stdout",
     "output_type": "stream",
     "text": [
      "Результат: +7-955-555-55-55\n"
     ]
    }
   ],
   "source": [
    "# Задание 6\n",
    "# Напишите функцию, которая будет проверять номер сотового телефона на валидность (только для российского формата), если он валиден, то переводить его в формат:\n",
    "# +7-xxx-xxx-xx-xx\n",
    "# Постарайтесь предусмотреть как можно больше адекватных форматов изначального ввода номера. Примеры работы программы:\n",
    "#phone = '+7955 55 556 55'\n",
    "#phone = '8(955)555-55-55'\n",
    "phone = '+7 955 555 55 55'\n",
    "#phone = '7(955)555 55 55'\n",
    "#phone = '423-555-55-5555'\n",
    "#phone = '123-456-789'\n",
    "# Результат: Номер не валиден\n",
    "def check_phone(phone):\n",
    "    \"\"\"\n",
    "    Функция проверяет номер сотового телефона на валидность (только для российского формата),\n",
    "    если он валиден, то переводит его в формат: +7-xxx-xxx-xx-xx\n",
    "    \"\"\"\n",
    "    try:\n",
    "        f = re.search(r'(^[+]?[78])([^0-9]*)?(\\d\\d\\d)([^0-9]*)?(\\d\\d\\d)([^0-9]*)?(\\d\\d)([^0-9]*)?(\\d{2}$)', phone).group(1,3,5,7,9)\n",
    "        print(f'Результат: +7-{f[1]}-{f[2]}-{f[3]}-{f[4]}')\n",
    "    except:\n",
    "        print('Результат: Номер не валиден')\n",
    "check_phone(phone)"
   ]
  }
 ],
 "metadata": {
  "kernelspec": {
   "display_name": "Python 3",
   "language": "python",
   "name": "python3"
  },
  "language_info": {
   "codemirror_mode": {
    "name": "ipython",
    "version": 3
   },
   "file_extension": ".py",
   "mimetype": "text/x-python",
   "name": "python",
   "nbconvert_exporter": "python",
   "pygments_lexer": "ipython3",
   "version": "3.8.5"
  }
 },
 "nbformat": 4,
 "nbformat_minor": 4
}
