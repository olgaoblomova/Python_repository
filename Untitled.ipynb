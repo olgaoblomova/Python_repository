{
 "cells": [
  {
   "cell_type": "code",
   "execution_count": 1,
   "metadata": {},
   "outputs": [],
   "source": [
    "import requests"
   ]
  },
  {
   "cell_type": "code",
   "execution_count": 8,
   "metadata": {},
   "outputs": [],
   "source": [
    "from libs.exchange import Rate"
   ]
  },
  {
   "cell_type": "code",
   "execution_count": 5,
   "metadata": {},
   "outputs": [],
   "source": [
    "import sys\n",
    "sys.path.append('C:\\\\Users\\\\ASUS\\\\Desktop\\\\Netologiya\\\\Python\\\\Python_class\\\\')"
   ]
  },
  {
   "cell_type": "code",
   "execution_count": 6,
   "metadata": {},
   "outputs": [
    {
     "data": {
      "text/plain": [
       "['C:\\\\Users\\\\ASUS\\\\Desktop\\\\Netologiya\\\\Python_repository',\n",
       " 'C:\\\\Users\\\\ASUS\\\\anaconda3\\\\python38.zip',\n",
       " 'C:\\\\Users\\\\ASUS\\\\anaconda3\\\\DLLs',\n",
       " 'C:\\\\Users\\\\ASUS\\\\anaconda3\\\\lib',\n",
       " 'C:\\\\Users\\\\ASUS\\\\anaconda3',\n",
       " '',\n",
       " 'C:\\\\Users\\\\ASUS\\\\anaconda3\\\\lib\\\\site-packages',\n",
       " 'C:\\\\Users\\\\ASUS\\\\anaconda3\\\\lib\\\\site-packages\\\\win32',\n",
       " 'C:\\\\Users\\\\ASUS\\\\anaconda3\\\\lib\\\\site-packages\\\\win32\\\\lib',\n",
       " 'C:\\\\Users\\\\ASUS\\\\anaconda3\\\\lib\\\\site-packages\\\\Pythonwin',\n",
       " 'C:\\\\Users\\\\ASUS\\\\anaconda3\\\\lib\\\\site-packages\\\\IPython\\\\extensions',\n",
       " 'C:\\\\Users\\\\ASUS\\\\.ipython',\n",
       " 'C:\\\\Users\\\\ASUS\\\\Desktop\\\\Netologiya\\\\Python\\\\Python_class\\\\']"
      ]
     },
     "execution_count": 6,
     "metadata": {},
     "output_type": "execute_result"
    }
   ],
   "source": [
    "sys.path"
   ]
  },
  {
   "cell_type": "code",
   "execution_count": 46,
   "metadata": {},
   "outputs": [],
   "source": [
    "# class Rate:\n",
    "#     def __init__(self, format_='value'):\n",
    "#         self.format = format_\n",
    "    \n",
    "#     def exchange_rates(self):\n",
    "#         \"\"\"\n",
    "#         Возвращает ответ сервиса с информацией о валютах в виде:\n",
    "        \n",
    "#         {\n",
    "#             'AMD': {\n",
    "#                 'CharCode': 'AMD',\n",
    "#                 'ID': 'R01060',\n",
    "#                 'Name': 'Армянских драмов',\n",
    "#                 'Nominal': 100,\n",
    "#                 'NumCode': '051',\n",
    "#                 'Previous': 14.103,\n",
    "#                 'Value': 14.0879\n",
    "#                 },\n",
    "#             ...\n",
    "#         }\n",
    "#         \"\"\"\n",
    "#         self.r = requests.get('https://www.cbr-xml-daily.ru/daily_json.js')\n",
    "#         return self.r.json()['Valute']\n",
    "    \n",
    "#     def make_format(self, currency):\n",
    "#         \"\"\"\n",
    "#         Возвращает информацию о валюте currency в двух вариантах:\n",
    "#         - полная информация о валюте при self.format = 'full':\n",
    "#         Rate('full').make_format('EUR')\n",
    "#         {\n",
    "#             'CharCode': 'EUR',\n",
    "#             'ID': 'R01239',\n",
    "#             'Name': 'Евро',\n",
    "#             'Nominal': 1,\n",
    "#             'NumCode': '978',\n",
    "#             'Previous': 79.6765,\n",
    "#             'Value': 79.4966\n",
    "#         }\n",
    "        \n",
    "#         Rate('value').make_format('EUR')\n",
    "#         79.4966\n",
    "#         \"\"\"\n",
    "#         response = self.exchange_rates()\n",
    "        \n",
    "#         if currency in response:\n",
    "#             if self.format == 'full':\n",
    "#                 return response[currency]\n",
    "            \n",
    "#             if self.format == 'value':\n",
    "#                 return response[currency]['Value']\n",
    "        \n",
    "#         return 'Error'\n",
    "    \n",
    "#     def eur(self):\n",
    "#         \"\"\"Возвращает курс евро на сегодня в формате self.format\"\"\"\n",
    "#         return self.make_format('EUR')\n",
    "    \n",
    "#     def usd(self):\n",
    "#         \"\"\"Возвращает курс доллара на сегодня в формате self.format\"\"\"\n",
    "#         return self.make_format('USD')\n",
    "    \n",
    "#     def brl(self):\n",
    "#         \"\"\"Возвращает курс бразильского реала на сегодня в формате self.format\"\"\"\n",
    "#         return self.make_format('BRL')"
   ]
  },
  {
   "cell_type": "code",
   "execution_count": 163,
   "metadata": {},
   "outputs": [],
   "source": [
    "class Rate_diff(Rate):\n",
    "    def __init__(self, format_ = 'value'):\n",
    "        super().__init__(format_)  \n",
    "        \n",
    "    def eur(self, diff):\n",
    "        input_format = self.format\n",
    "        if diff:\n",
    "            \"\"\"Возвращает  изменение курса евро по сравнению в прошлым значением\"\"\"\n",
    "            self.format = 'full'\n",
    "            rez = round(self.make_format('EUR')['Value'] - self.make_format('EUR')['Previous'],4)\n",
    "            self.format = input_format \n",
    "            return  rez\n",
    "        else:\n",
    "            \"\"\"Возвращает курс евро на сегодня в формате self.format\"\"\"\n",
    "            return self.make_format('EUR')\n",
    "        \n",
    "    def usd(self, diff):\n",
    "        input_format = self.format\n",
    "        if diff:\n",
    "            \"\"\"Возвращает  изменение курса доллара по сравнению в прошлым значением\"\"\"\n",
    "            self.format = 'full'\n",
    "            rez = round(self.make_format('USD')['Value'] - self.make_format('USD')['Previous'],4)\n",
    "            self.format = input_format \n",
    "            return  rez \n",
    "        else:\n",
    "            \"\"\"Возвращает курс доллара на сегодня в формате self.format\"\"\"\n",
    "            return self.make_format('USD')\n",
    "        \n",
    "    def AZN(self, diff):\n",
    "        input_format = self.format\n",
    "        if diff:\n",
    "            \"\"\"Возвращает  изменение курса доллара по сравнению в прошлым значением\"\"\"\n",
    "            self.format = 'full'\n",
    "            rez = round(self.make_format('AZN')['Value'] - self.make_format('AZN')['Previous'],4)\n",
    "            self.format = input_format \n",
    "            return  rez \n",
    "        else:\n",
    "            \"\"\"Возвращает курс доллара на сегодня в формате self.format\"\"\"\n",
    "            return self.make_format('AZN')\n",
    "        \n",
    "        "
   ]
  },
  {
   "cell_type": "code",
   "execution_count": 164,
   "metadata": {},
   "outputs": [],
   "source": [
    "R = Rate_diff()"
   ]
  },
  {
   "cell_type": "code",
   "execution_count": 165,
   "metadata": {},
   "outputs": [
    {
     "data": {
      "text/plain": [
       "0.1177"
      ]
     },
     "execution_count": 165,
     "metadata": {},
     "output_type": "execute_result"
    }
   ],
   "source": [
    "R.eur(True)"
   ]
  },
  {
   "cell_type": "code",
   "execution_count": 151,
   "metadata": {},
   "outputs": [
    {
     "data": {
      "text/plain": [
       "89.6604"
      ]
     },
     "execution_count": 151,
     "metadata": {},
     "output_type": "execute_result"
    }
   ],
   "source": [
    "R.eur(False)"
   ]
  },
  {
   "cell_type": "code",
   "execution_count": 161,
   "metadata": {},
   "outputs": [
    {
     "data": {
      "text/plain": [
       "0.0116"
      ]
     },
     "execution_count": 161,
     "metadata": {},
     "output_type": "execute_result"
    }
   ],
   "source": [
    "R.usd(True)"
   ]
  },
  {
   "cell_type": "code",
   "execution_count": 162,
   "metadata": {},
   "outputs": [
    {
     "data": {
      "text/plain": [
       "{'ID': 'R01235',\n",
       " 'NumCode': '840',\n",
       " 'CharCode': 'USD',\n",
       " 'Nominal': 1,\n",
       " 'Name': 'Доллар США',\n",
       " 'Value': 73.9833,\n",
       " 'Previous': 73.9717}"
      ]
     },
     "execution_count": 162,
     "metadata": {},
     "output_type": "execute_result"
    }
   ],
   "source": [
    "R.usd(False)"
   ]
  },
  {
   "cell_type": "code",
   "execution_count": 168,
   "metadata": {},
   "outputs": [],
   "source": [
    "R.format = 'full'"
   ]
  },
  {
   "cell_type": "code",
   "execution_count": 169,
   "metadata": {},
   "outputs": [
    {
     "data": {
      "text/plain": [
       "-0.0188"
      ]
     },
     "execution_count": 169,
     "metadata": {},
     "output_type": "execute_result"
    }
   ],
   "source": [
    "R.AZN(True)"
   ]
  },
  {
   "cell_type": "code",
   "execution_count": null,
   "metadata": {},
   "outputs": [],
   "source": []
  },
  {
   "cell_type": "code",
   "execution_count": 239,
   "metadata": {},
   "outputs": [],
   "source": [
    "class Rate_diff_2(Rate):\n",
    "    \"\"\"\n",
    "        возвращает\n",
    "        \"\"\"\n",
    "    def __init__(self, diff, format_ = 'value'):\n",
    "        #super().__init__(self, format_ = 'value')  \n",
    "        self.diff = diff\n",
    "        self.format = format_\n",
    "        \n",
    "    def currency(self, CharCode = 'EUR'):\n",
    "        input_format = self.format\n",
    "        if self.diff:\n",
    "            \"\"\"Возвращает  изменение курса валюты по сравнению в прошлым значением\"\"\"\n",
    "            self.format = 'full'\n",
    "            rez = round(self.make_format(CharCode)['Value'] - self.make_format(CharCode)['Previous'],4)\n",
    "            self.format = input_format \n",
    "            return  rez\n",
    "        else:\n",
    "            \"\"\"Возвращает курс валюты на сегодня в формате self.format\"\"\"\n",
    "            return self.make_format(CharCode)\n",
    "    def euro(self, CharCode = 'EUR'):\n",
    "        return self.currency('EUR')\n",
    "    \n",
    "    def usd(self, CharCode = 'USD'):\n",
    "        return self.currency('USD')\n",
    "    \n",
    "    def AZN(self, CharCode = 'AZN'):\n",
    "        return self.currency('AZN')"
   ]
  },
  {
   "cell_type": "code",
   "execution_count": 224,
   "metadata": {},
   "outputs": [],
   "source": [
    "g = Rate_diff_2(False)"
   ]
  },
  {
   "cell_type": "code",
   "execution_count": 225,
   "metadata": {},
   "outputs": [
    {
     "data": {
      "text/plain": [
       "89.6604"
      ]
     },
     "execution_count": 225,
     "metadata": {},
     "output_type": "execute_result"
    }
   ],
   "source": [
    "g.currency()"
   ]
  },
  {
   "cell_type": "code",
   "execution_count": 226,
   "metadata": {},
   "outputs": [
    {
     "data": {
      "text/plain": [
       "False"
      ]
     },
     "execution_count": 226,
     "metadata": {},
     "output_type": "execute_result"
    }
   ],
   "source": [
    "g.diff"
   ]
  },
  {
   "cell_type": "code",
   "execution_count": 227,
   "metadata": {},
   "outputs": [
    {
     "data": {
      "text/plain": [
       "'value'"
      ]
     },
     "execution_count": 227,
     "metadata": {},
     "output_type": "execute_result"
    }
   ],
   "source": [
    "g.format"
   ]
  },
  {
   "cell_type": "code",
   "execution_count": 231,
   "metadata": {},
   "outputs": [],
   "source": [
    "g.format = 'full'"
   ]
  },
  {
   "cell_type": "code",
   "execution_count": 232,
   "metadata": {},
   "outputs": [
    {
     "data": {
      "text/plain": [
       "{'ID': 'R01239',\n",
       " 'NumCode': '978',\n",
       " 'CharCode': 'EUR',\n",
       " 'Nominal': 1,\n",
       " 'Name': 'Евро',\n",
       " 'Value': 89.6604,\n",
       " 'Previous': 89.5427}"
      ]
     },
     "execution_count": 232,
     "metadata": {},
     "output_type": "execute_result"
    }
   ],
   "source": [
    "g.euro()"
   ]
  },
  {
   "cell_type": "code",
   "execution_count": 233,
   "metadata": {},
   "outputs": [
    {
     "data": {
      "text/plain": [
       "{'ID': 'R01020A',\n",
       " 'NumCode': '944',\n",
       " 'CharCode': 'AZN',\n",
       " 'Nominal': 1,\n",
       " 'Name': 'Азербайджанский манат',\n",
       " 'Value': 43.5196,\n",
       " 'Previous': 43.5384}"
      ]
     },
     "execution_count": 233,
     "metadata": {},
     "output_type": "execute_result"
    }
   ],
   "source": [
    "g.AZN()"
   ]
  },
  {
   "cell_type": "code",
   "execution_count": 234,
   "metadata": {},
   "outputs": [
    {
     "data": {
      "text/plain": [
       "{'ID': 'R01235',\n",
       " 'NumCode': '840',\n",
       " 'CharCode': 'USD',\n",
       " 'Nominal': 1,\n",
       " 'Name': 'Доллар США',\n",
       " 'Value': 73.9833,\n",
       " 'Previous': 73.9717}"
      ]
     },
     "execution_count": 234,
     "metadata": {},
     "output_type": "execute_result"
    }
   ],
   "source": [
    "g.usd()"
   ]
  }
 ],
 "metadata": {
  "kernelspec": {
   "display_name": "Python 3",
   "language": "python",
   "name": "python3"
  },
  "language_info": {
   "codemirror_mode": {
    "name": "ipython",
    "version": 3
   },
   "file_extension": ".py",
   "mimetype": "text/x-python",
   "name": "python",
   "nbconvert_exporter": "python",
   "pygments_lexer": "ipython3",
   "version": "3.8.5"
  }
 },
 "nbformat": 4,
 "nbformat_minor": 4
}
