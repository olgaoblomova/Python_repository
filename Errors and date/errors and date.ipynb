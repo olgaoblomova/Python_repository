{
 "cells": [
  {
   "cell_type": "code",
   "execution_count": 143,
   "metadata": {},
   "outputs": [
    {
     "data": {
      "text/plain": [
       "'\\nThe Moscow Times - Wednesday, October 2, 2002\\nThe Guardian - Friday, 11.10.13\\nDaily News - Thursday, 18 August 1977\\n'"
      ]
     },
     "execution_count": 143,
     "metadata": {},
     "output_type": "execute_result"
    }
   ],
   "source": [
    "# Задача 1\n",
    "'''\n",
    "The Moscow Times - Wednesday, October 2, 2002\n",
    "The Guardian - Friday, 11.10.13\n",
    "Daily News - Thursday, 18 August 1977\n",
    "'''"
   ]
  },
  {
   "cell_type": "code",
   "execution_count": 144,
   "metadata": {},
   "outputs": [],
   "source": [
    "from datetime import datetime"
   ]
  },
  {
   "cell_type": "code",
   "execution_count": 145,
   "metadata": {},
   "outputs": [
    {
     "data": {
      "text/plain": [
       "datetime.datetime(2002, 10, 2, 0, 0)"
      ]
     },
     "execution_count": 145,
     "metadata": {},
     "output_type": "execute_result"
    }
   ],
   "source": [
    "date_string_Moscow = 'Wednesday, October 2, 2002'\n",
    "datetime.strptime(date_string_Moscow, '%A, %B %d, %Y')"
   ]
  },
  {
   "cell_type": "code",
   "execution_count": 146,
   "metadata": {},
   "outputs": [
    {
     "data": {
      "text/plain": [
       "datetime.datetime(2013, 10, 11, 0, 0)"
      ]
     },
     "execution_count": 146,
     "metadata": {},
     "output_type": "execute_result"
    }
   ],
   "source": [
    "date_string_Guardian = 'Friday, 11.10.13'\n",
    "datetime.strptime(date_string_Guardian, '%A, %d.%m.%y')"
   ]
  },
  {
   "cell_type": "code",
   "execution_count": 147,
   "metadata": {},
   "outputs": [
    {
     "data": {
      "text/plain": [
       "datetime.datetime(1977, 8, 18, 0, 0)"
      ]
     },
     "execution_count": 147,
     "metadata": {},
     "output_type": "execute_result"
    }
   ],
   "source": [
    "date_string_News = 'Thursday, 18 August 1977'\n",
    "datetime.strptime(date_string_News, '%A, %d %B %Y')"
   ]
  },
  {
   "cell_type": "code",
   "execution_count": 148,
   "metadata": {},
   "outputs": [
    {
     "name": "stdout",
     "output_type": "stream",
     "text": [
      "2018-04-02 00:00:00 - True\n",
      "2018-02-29  - False\n",
      "2018-19-02  - False\n"
     ]
    }
   ],
   "source": [
    "# Задача 2\n",
    "'''\n",
    "Дан поток дат в формате YYYY-MM-DD, в которых встречаются некорректные значения:\n",
    "stream = [‘2018-04-02’, ‘2018-02-29’, ‘2018-19-02’]\n",
    "Напишите функцию, которая проверяет эти даты на корректность. \n",
    "Т. е. для каждой даты возвращает True (дата корректна) или False (некорректная дата).\n",
    "'''\n",
    "stream = ['2018-04-02', '2018-02-29', '2018-19-02']\n",
    "stream1 = ['2018-04-02', '2018-02-28', '2018-11-02']\n",
    "def check_data(stream_list):\n",
    "    for el in stream_list:\n",
    "        try:\n",
    "            el = datetime.strptime(el, '%Y-%m-%d') \n",
    "            print(el, '- True')\n",
    "        except:\n",
    "            print(el, ' - False')\n",
    "            pass\n",
    "        \n",
    "check_data(stream)"
   ]
  },
  {
   "cell_type": "code",
   "execution_count": 149,
   "metadata": {},
   "outputs": [
    {
     "data": {
      "text/plain": [
       "['2021-04-30',\n",
       " '2021-05-01',\n",
       " '2021-05-02',\n",
       " '2021-05-03',\n",
       " '2021-05-04',\n",
       " '2021-05-05',\n",
       " '2021-05-06',\n",
       " '2021-05-07',\n",
       " '2021-05-08',\n",
       " '2021-05-09',\n",
       " '2021-05-10',\n",
       " '2021-05-11',\n",
       " '2021-05-12',\n",
       " '2021-05-13',\n",
       " '2021-05-14',\n",
       " '2021-05-15',\n",
       " '2021-05-16',\n",
       " '2021-05-17',\n",
       " '2021-05-18',\n",
       " '2021-05-19',\n",
       " '2021-05-20',\n",
       " '2021-05-21',\n",
       " '2021-05-22',\n",
       " '2021-05-23',\n",
       " '2021-05-24',\n",
       " '2021-05-25',\n",
       " '2021-05-26',\n",
       " '2021-05-27',\n",
       " '2021-05-28']"
      ]
     },
     "execution_count": 149,
     "metadata": {},
     "output_type": "execute_result"
    }
   ],
   "source": [
    "#Задача 3\n",
    "'''\n",
    "Напишите функцию date_range, которая возвращает список дат за период от start_date до end_date.\n",
    "Даты должны вводиться в формате YYYY-MM-DD. \n",
    "В случае неверного формата или при start_date > end_date должен возвращаться пустой список.\n",
    "'''\n",
    "from datetime import datetime\n",
    "from datetime import timedelta\n",
    "# start_date = '2018-04-02'\n",
    "# end_date = '2018-04-28'\n",
    "\n",
    "def date_range(start_date, end_date):\n",
    "    list_date = []\n",
    "    try:\n",
    "        start_date_dt = datetime.strptime(start_date,'%Y-%m-%d')\n",
    "        end_date_dt = datetime.strptime(end_date,'%Y-%m-%d')\n",
    "        while start_date_dt <= end_date_dt:\n",
    "            list_date.append(start_date_dt.strftime('%Y-%m-%d'))\n",
    "            start_date_dt += timedelta(days=1)\n",
    "    except:\n",
    "        pass\n",
    "    return list_date   \n",
    "date_range('2021-04-30','2021-05-28')"
   ]
  },
  {
   "cell_type": "code",
   "execution_count": 150,
   "metadata": {},
   "outputs": [
    {
     "name": "stdout",
     "output_type": "stream",
     "text": [
      "результаты после 1 удаления:\n",
      "default_list =  ['A100', 'A101']\n",
      "DEFAULT_USER_COUNT =  2\n",
      "A101\n",
      "*************************\n",
      "результаты после 2 удаления:\n",
      "default_list =  ['A100']\n",
      "DEFAULT_USER_COUNT =  1\n",
      "A100\n",
      "*************************\n",
      "результаты после 3 удаления:\n",
      "default_list =  []\n",
      "DEFAULT_USER_COUNT =  0\n",
      "Все пользователи удалены\n"
     ]
    }
   ],
   "source": [
    "'''\n",
    "Удаляет из списка default_list последнего пользователя\n",
    "и возвращает ID нового последнего пользователя.\n",
    "\n",
    "    1.Что значит ошибка list index out of range? - индекс списка вне допустимого диапазона\n",
    "- индекс списка default_list принял отрицательное значение - default_list[-1]')\n",
    "    2.Почему при первом запуске функция работает корректно, а при втором - нет? Причина в переменной DEFAULT_USER_COUNT,\n",
    "    на втором запуске индекс списка default_list принял отрицательное значение - default_list[-1].\n",
    "    Поправила функцию, сделав эту переменную изменяемой.\n",
    "'''\n",
    "\n",
    "#DEFAULT_USER_COUNT = 3\n",
    "def delete_and_return_last_user(region, default_list=['A100', 'A101', 'A102']):\n",
    "    try:\n",
    "        DEFAULT_USER_COUNT = len(default_list)\n",
    "        element_to_delete = default_list[-1]\n",
    "        default_list.remove(element_to_delete)\n",
    "        DEFAULT_USER_COUNT -= 1\n",
    "        print(f'результаты после {(DEFAULT_USER_COUNT - 3)*-1} удаления:')\n",
    "        print('default_list = ',default_list)\n",
    "        print('DEFAULT_USER_COUNT = ',DEFAULT_USER_COUNT)\n",
    "        print(default_list[DEFAULT_USER_COUNT-1])\n",
    "        print('*'*25)\n",
    "        return default_list[DEFAULT_USER_COUNT-1]\n",
    "    except:\n",
    "        print('Все пользователи удалены')\n",
    "\n",
    "delete_and_return_last_user('NN')\n",
    "delete_and_return_last_user('NN')\n",
    "delete_and_return_last_user('NN')\n"
   ]
  }
 ],
 "metadata": {
  "kernelspec": {
   "display_name": "Python 3",
   "language": "python",
   "name": "python3"
  },
  "language_info": {
   "codemirror_mode": {
    "name": "ipython",
    "version": 3
   },
   "file_extension": ".py",
   "mimetype": "text/x-python",
   "name": "python",
   "nbconvert_exporter": "python",
   "pygments_lexer": "ipython3",
   "version": "3.8.5"
  }
 },
 "nbformat": 4,
 "nbformat_minor": 4
}
