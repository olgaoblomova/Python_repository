{
 "cells": [
  {
   "cell_type": "code",
   "execution_count": 1,
   "metadata": {},
   "outputs": [
    {
     "name": "stdout",
     "output_type": "stream",
     "text": [
      "Результат: {98, 35, 15, 213, 54, 119}\n"
     ]
    }
   ],
   "source": [
    "#Задача 1\n",
    "ids = {\n",
    "    'user1': [213, 213, 213, 15, 213],\n",
    "    'user2': [54, 54, 119, 119, 119],\n",
    "    'user3': [213, 98, 98, 35]\n",
    "}\n",
    "total_ids = []\n",
    "for value in ids.values():\n",
    "    [total_ids.append(v) for v in value]\n",
    "print('Результат:', set(total_ids))"
   ]
  },
  {
   "cell_type": "code",
   "execution_count": 2,
   "metadata": {},
   "outputs": [
    {
     "name": "stdout",
     "output_type": "stream",
     "text": [
      "Результат: {98, 35, 15, 213, 54, 119}\n"
     ]
    }
   ],
   "source": [
    "#Задача 1 методом разглаживания списков\n",
    "ids = {\n",
    "    'user1': [213, 213, 213, 15, 213],\n",
    "    'user2': [54, 54, 119, 119, 119],\n",
    "    'user3': [213, 98, 98, 35]\n",
    "}\n",
    "print('Результат:', set(sum(ids.values(),[])))"
   ]
  },
  {
   "cell_type": "code",
   "execution_count": 3,
   "metadata": {},
   "outputs": [
    {
     "name": "stdout",
     "output_type": "stream",
     "text": [
      "Поисковых запросов, содержащих 2 слов(а):  42.86\n",
      "Поисковых запросов, содержащих 3 слов(а):  57.14\n"
     ]
    }
   ],
   "source": [
    "# Задача 2\n",
    "queries = [\n",
    "'смотреть сериалы онлайн',\n",
    "'новости спорта',\n",
    "'афиша кино',\n",
    "'курс доллара',\n",
    "'сериалы этим летом',\n",
    "'курс по питону',\n",
    "'сериалы про спорт',\n",
    "]\n",
    "s = 0\n",
    "sort = {}\n",
    "for q in queries:\n",
    "    sort.setdefault(len(q.split(' ')), 0)\n",
    "    sort[len(q.split(' '))] += 1\n",
    "s = sum(sort.values())\n",
    "for key in sorted(sort.keys()):\n",
    "    print('Поисковых запросов, содержащих', key, 'слов(а): ', round(sort[key]*100/s,2))"
   ]
  },
  {
   "cell_type": "code",
   "execution_count": 4,
   "metadata": {},
   "outputs": [
    {
     "name": "stdout",
     "output_type": "stream",
     "text": [
      "{'adwords': {'ROI': 2.94, 'cost': 34, 'revenue': 35}, 'facebook': {'ROI': -6.36, 'cost': 110, 'revenue': 103}, 'twitter': {'ROI': -54.17, 'cost': 24, 'revenue': 11}, 'vk': {'ROI': 5.1, 'cost': 98, 'revenue': 103}, 'yandex': {'ROI': 16.99, 'cost': 153, 'revenue': 179}}\n"
     ]
    }
   ],
   "source": [
    "#Задача 3\n",
    "results = {\n",
    "'vk': {'revenue': 103, 'cost': 98},\n",
    "'yandex': {'revenue': 179, 'cost': 153},\n",
    "'facebook': {'revenue': 103, 'cost': 110},\n",
    "'adwords': {'revenue': 35, 'cost': 34},\n",
    "'twitter': {'revenue': 11, 'cost': 24},\n",
    "}\n",
    "'''\n",
    "Результат:\n",
    "\n",
    "{‘adwords’: {‘ROI’: 2.94, ‘cost’: 34, ‘revenue’: 35},\n",
    "‘facebook’: {‘ROI’: -6.36, ‘cost’: 110, ‘revenue’: 103},\n",
    "‘twitter’: {‘ROI’: -54.17, ‘cost’: 24, ‘revenue’: 11},\n",
    "‘vk’: {‘ROI’: 5.1, ‘cost’: 98, ‘revenue’: 103},\n",
    "‘yandex’: {‘ROI’: 16.99, ‘cost’: 153, ‘revenue’: 179}}\n",
    "\n",
    "revenue / cost - 1) * 100\n",
    "'''\n",
    "for key, value in results.items():\n",
    "    value['ROI'] = round(((value['revenue']/value['cost'] - 1)*100),2)\n",
    "    results[key] = {'ROI':value['ROI'],'cost':value['cost'], 'revenue':value['revenue']} \n",
    "res = dict(sorted(results.items()))\n",
    "print(res)\n",
    "#for i in res:\n",
    "    #print(i, res[i])\n"
   ]
  },
  {
   "cell_type": "code",
   "execution_count": 5,
   "metadata": {},
   "outputs": [
    {
     "name": "stdout",
     "output_type": "stream",
     "text": [
      "Максимальный объем продаж на рекламном канале: vk\n"
     ]
    }
   ],
   "source": [
    "#Задача 4\n",
    "stats = {'facebook': 55, 'yandex': 115, 'vk': 120, 'google': 99, 'email': 42, 'ok': 98}\n",
    "\n",
    "s = []\n",
    "maximum = 0\n",
    "for channel in stats:\n",
    "    s.append(stats[channel])\n",
    "maximum = max(s)\n",
    "for key, value in stats.items():\n",
    "    if value == maximum:\n",
    "        print(f\"Максимальный объем продаж на рекламном канале: {key}\")"
   ]
  },
  {
   "cell_type": "code",
   "execution_count": 6,
   "metadata": {},
   "outputs": [
    {
     "name": "stdout",
     "output_type": "stream",
     "text": [
      "{'2018-01-01': {'yandex': {'cpc': 100}}}\n"
     ]
    }
   ],
   "source": [
    "#Задача 5\n",
    "\n",
    "my_list = ['2018-01-01', 'yandex', 'cpc', 100]\n",
    "#Результат: {‘2018-01-01’: {‘yandex’: {‘cpc’: 100}}}\n",
    "\n",
    "#my_list = ['a', 'b', 'c', 'd', 'e', 'f']\n",
    "#Результат: {‘a’: {‘b’: {‘c’: {‘d’: {‘e’: ‘f’}}}}}\n",
    "\n",
    "my_list_rev = list(reversed(my_list))\n",
    "result = {str(my_list_rev[1]):my_list_rev[0]}\n",
    "for el in my_list_rev[2:]:\n",
    "    result_temp = {el:result}\n",
    "    result = result_temp\n",
    "print(result)"
   ]
  },
  {
   "cell_type": "code",
   "execution_count": 7,
   "metadata": {},
   "outputs": [
    {
     "name": "stdout",
     "output_type": "stream",
     "text": [
      "Введите количество порций: 3\n",
      "Сыр 210\n",
      "Томаты 66\n",
      "Огурцы 60\n",
      "Маслины 30\n",
      "Оливковое Масло 60\n",
      "Салат 30\n",
      "Перец 60\n",
      "Колбаса 90\n",
      "Бекон 90\n",
      "Оливки 30\n",
      "Тесто 300\n",
      "Лимон 3\n",
      "Вода 600\n",
      "Сахар 30\n",
      "Лайм 60\n"
     ]
    }
   ],
   "source": [
    "#Задача 6 \n",
    "# Не получилась, не стала доделывать, так как\n",
    "#проблема с помидорами - они есть и в гр и в шт. Ниже есть еще попытка..\n",
    "cook_book = {\n",
    "'салат': [\n",
    "{'ingridient_name': 'сыр', 'quantity': 50, 'measure': 'гр'},\n",
    "{'ingridient_name': 'томаты', 'quantity': 2, 'measure': 'шт'},\n",
    "{'ingridient_name': 'огурцы', 'quantity': 20, 'measure': 'гр'},\n",
    "{'ingridient_name': 'маслины', 'quantity': 10, 'measure': 'гр'},\n",
    "{'ingridient_name': 'оливковое масло', 'quantity': 20, 'measure': 'мл'},\n",
    "{'ingridient_name': 'салат', 'quantity': 10, 'measure': 'гр'},\n",
    "{'ingridient_name': 'перец', 'quantity': 20, 'measure': 'гр'}\n",
    "],\n",
    "'пицца': [\n",
    "{'ingridient_name': 'сыр', 'quantity': 20, 'measure': 'гр'},\n",
    "{'ingridient_name': 'колбаса', 'quantity': 30, 'measure': 'гр'},\n",
    "{'ingridient_name': 'бекон', 'quantity': 30, 'measure': 'гр'},\n",
    "{'ingridient_name': 'оливки', 'quantity': 10, 'measure': 'гр'},\n",
    "{'ingridient_name': 'томаты', 'quantity': 20, 'measure': 'гр'},\n",
    "{'ingridient_name': 'тесто', 'quantity': 100, 'measure': 'гр'},\n",
    "],\n",
    "'лимонад': [\n",
    "{'ingridient_name': 'лимон', 'quantity': 1, 'measure': 'шт'},\n",
    "{'ingridient_name': 'вода', 'quantity': 200, 'measure': 'мл'},\n",
    "{'ingridient_name': 'сахар', 'quantity': 10, 'measure': 'гр'},\n",
    "{'ingridient_name': 'лайм', 'quantity': 20, 'measure': 'гр'},\n",
    "]\n",
    "}\n",
    "product = {}\n",
    "measure ={}\n",
    "for food, ing in cook_book.items():\n",
    "    for i in ing:\n",
    "        product.setdefault(i['ingridient_name'] ,0)\n",
    "        product[i['ingridient_name']] += i['quantity']\n",
    "        measure.setdefault(i['ingridient_name'],0)\n",
    "        measure[i['ingridient_name']] = i['measure']\n",
    "count = int(input('Введите количество порций: '))\n",
    "for name, line in product.items():\n",
    "    print(name.title(), line*count)"
   ]
  },
  {
   "cell_type": "code",
   "execution_count": 8,
   "metadata": {},
   "outputs": [
    {
     "name": "stdout",
     "output_type": "stream",
     "text": [
      "food  {'ingridient_name': 'сыр', 'quantity': 50, 'measure': 'гр'}\n",
      "food  {'ingridient_name': 'томаты', 'quantity': 2, 'measure': 'шт'}\n",
      "food  {'ingridient_name': 'огурцы', 'quantity': 20, 'measure': 'гр'}\n",
      "food  {'ingridient_name': 'маслины', 'quantity': 10, 'measure': 'гр'}\n",
      "food  {'ingridient_name': 'оливковое масло', 'quantity': 20, 'measure': 'мл'}\n",
      "food  {'ingridient_name': 'салат', 'quantity': 10, 'measure': 'гр'}\n",
      "food  {'ingridient_name': 'перец', 'quantity': 20, 'measure': 'гр'}\n",
      "food  {'ingridient_name': 'сыр', 'quantity': 20, 'measure': 'гр'}\n",
      "food  {'ingridient_name': 'колбаса', 'quantity': 30, 'measure': 'гр'}\n",
      "food  {'ingridient_name': 'бекон', 'quantity': 30, 'measure': 'гр'}\n",
      "food  {'ingridient_name': 'оливки', 'quantity': 10, 'measure': 'гр'}\n",
      "food  {'ingridient_name': 'томаты', 'quantity': 20, 'measure': 'гр'}\n",
      "food  {'ingridient_name': 'тесто', 'quantity': 100, 'measure': 'гр'}\n",
      "food  {'ingridient_name': 'лимон', 'quantity': 1, 'measure': 'шт'}\n",
      "food  {'ingridient_name': 'вода', 'quantity': 200, 'measure': 'мл'}\n",
      "food  {'ingridient_name': 'сахар', 'quantity': 10, 'measure': 'гр'}\n",
      "food  {'ingridient_name': 'лайм', 'quantity': 20, 'measure': 'гр'}\n",
      "food['quantity']1 сыр\n",
      "s1 === 50\n",
      "food['quantity']2 томаты\n",
      "food['quantity']1 огурцы\n",
      "s1 === 20\n",
      "food['quantity']1 маслины\n",
      "s1 === 10\n",
      "food['quantity']3 оливковое масло\n",
      "food['quantity']1 салат\n",
      "s1 === 10\n",
      "food['quantity']1 перец\n",
      "s1 === 20\n",
      "food['quantity']1 сыр\n",
      "s1 === 20\n",
      "food['quantity']1 колбаса\n",
      "s1 === 30\n",
      "food['quantity']1 бекон\n",
      "s1 === 30\n",
      "food['quantity']1 оливки\n",
      "s1 === 10\n",
      "food['quantity']1 томаты\n",
      "s1 === 20\n",
      "food['quantity']1 тесто\n",
      "s1 === 100\n",
      "food['quantity']2 лимон\n",
      "food['quantity']3 вода\n",
      "food['quantity']1 сахар\n",
      "s1 === 10\n",
      "food['quantity']1 лайм\n",
      "s1 === 20\n",
      "{'гр': {'сыр': 50, 'огурцы': 20, 'маслины': 10, 'салат': 10, 'перец': 20, 'колбаса': 30, 'бекон': 30, 'оливки': 10, 'томаты': 20, 'тесто': 100, 'сахар': 10, 'лайм': 20}, 'шт': {'томаты': 2, 'лимон': 1}, 'мл': {'оливковое масло': 40, 'вода': 400}}\n",
      "50\n",
      "20\n",
      "10\n",
      "10\n",
      "20\n",
      "30\n",
      "30\n",
      "10\n",
      "20\n",
      "100\n",
      "10\n",
      "20\n",
      "2\n",
      "1\n",
      "40\n",
      "400\n"
     ]
    }
   ],
   "source": [
    "#Задача 6 Пыталась создать словарь с ключем 'measure', в качестве значения ключа - словарь ['ingridient_name':'quantity']\n",
    "# запуталась,  не получается суммировать значения меры веса по продуктам\n",
    "cook_book = {\n",
    "'салат': [\n",
    "{'ingridient_name': 'сыр', 'quantity': 50, 'measure': 'гр'},\n",
    "{'ingridient_name': 'томаты', 'quantity': 2, 'measure': 'шт'},\n",
    "{'ingridient_name': 'огурцы', 'quantity': 20, 'measure': 'гр'},\n",
    "{'ingridient_name': 'маслины', 'quantity': 10, 'measure': 'гр'},\n",
    "{'ingridient_name': 'оливковое масло', 'quantity': 20, 'measure': 'мл'},\n",
    "{'ingridient_name': 'салат', 'quantity': 10, 'measure': 'гр'},\n",
    "{'ingridient_name': 'перец', 'quantity': 20, 'measure': 'гр'}\n",
    "],\n",
    "'пицца': [\n",
    "{'ingridient_name': 'сыр', 'quantity': 20, 'measure': 'гр'},\n",
    "{'ingridient_name': 'колбаса', 'quantity': 30, 'measure': 'гр'},\n",
    "{'ingridient_name': 'бекон', 'quantity': 30, 'measure': 'гр'},\n",
    "{'ingridient_name': 'оливки', 'quantity': 10, 'measure': 'гр'},\n",
    "{'ingridient_name': 'томаты', 'quantity': 20, 'measure': 'гр'},\n",
    "{'ingridient_name': 'тесто', 'quantity': 100, 'measure': 'гр'},\n",
    "],\n",
    "'лимонад': [\n",
    "{'ingridient_name': 'лимон', 'quantity': 1, 'measure': 'шт'},\n",
    "{'ingridient_name': 'вода', 'quantity': 200, 'measure': 'мл'},\n",
    "{'ingridient_name': 'сахар', 'quantity': 10, 'measure': 'гр'},\n",
    "{'ingridient_name': 'лайм', 'quantity': 20, 'measure': 'гр'},\n",
    "]\n",
    "}\n",
    "prod = []\n",
    "tabl =[]\n",
    "measuring ={}\n",
    "meal_gr = {}\n",
    "meal_ml ={}\n",
    "meal_thing = {}\n",
    "s1 = 0\n",
    "s2 = 0\n",
    "s3 = 0\n",
    "for ing in cook_book.values():\n",
    "    for key in ing:\n",
    "        prod.append(key)\n",
    "for food in prod:\n",
    "    measuring.setdefault(food['measure'],0) \n",
    "    print('food ', food)\n",
    "for food in prod:\n",
    "    s1 = 0\n",
    "    s2 = 0\n",
    "    s3 = 0\n",
    "    if food['measure'] == 'гр':\n",
    "        print(\"food['quantity']1\", food['ingridient_name'])\n",
    "        s1 += food['quantity']\n",
    "        print('s1 ===', s1)\n",
    "        meal_gr.setdefault(food['ingridient_name'],food['quantity'])\n",
    "        #meal_gr[food['ingridient_name']] += s1\n",
    "        #break\n",
    "    elif food['measure'] == 'шт':\n",
    "        print(\"food['quantity']2\", food['ingridient_name'])\n",
    "        s2 += food['quantity']\n",
    "        meal_thing.setdefault(food['ingridient_name'],s2)\n",
    "        #meal_thing[food['ingridient_name']] += food['quantity']\n",
    "    elif food['measure'] == 'мл':\n",
    "        print(\"food['quantity']3\", food['ingridient_name'])\n",
    "        s3 += food['quantity']\n",
    "        meal_ml.setdefault(food['ingridient_name'],s3)\n",
    "        meal_ml[food['ingridient_name']] += food['quantity']\n",
    "        \n",
    "#     if food['measure'] == 'гр':\n",
    "#         #s1 = 0\n",
    "#         #meal_gr.setdefault(food['ingridient_name'],s1)\n",
    "#         print(meal_gr)\n",
    "#         if food['measure'] not in meal_gr:\n",
    "#             meal_gr[food['ingridient_name']] = food['quantity']\n",
    "#         else:\n",
    "#             meal_gr[food['ingridient_name']] += food['quantity']\n",
    "#         if food['measure'] not in meal_ml:\n",
    "#             meal_ml[food['ingridient_name']] = food['quantity']\n",
    "#         else:\n",
    "#             meal_ml[food['ingridient_name']] += food['quantity']\n",
    "#         if food['measure'] not in meal_thing:\n",
    "#             meal_thing[food['ingridient_name']] = food['quantity']\n",
    "#         else:\n",
    "#             meal_thing[food['ingridient_name']] += food['quantity']\n",
    "            \n",
    "#                 elif food['measure'] == 'мл':\n",
    "#             s2 += food['quantity']\n",
    "#             meal_ml.setdefault(food['ingridient_name'],s2)\n",
    "#         elif food['measure'] == 'шт':\n",
    "#             s3 += food['quantity']\n",
    "#             meal_thing.setdefault(food['ingridient_name'],s3)\n",
    "tabl.append(meal_gr)\n",
    "tabl.append(meal_ml)  \n",
    "tabl.append(meal_thing)\n",
    "measuring['гр'] = meal_gr\n",
    "measuring['мл'] = meal_ml\n",
    "measuring['шт'] = meal_thing\n",
    "print(measuring)\n",
    "#count = int(input('Введите количество порций: '))\n",
    "for line in measuring.values():\n",
    "    for i, val in line.items():\n",
    "        print(val)"
   ]
  }
 ],
 "metadata": {
  "kernelspec": {
   "display_name": "Python 3",
   "language": "python",
   "name": "python3"
  },
  "language_info": {
   "codemirror_mode": {
    "name": "ipython",
    "version": 3
   },
   "file_extension": ".py",
   "mimetype": "text/x-python",
   "name": "python",
   "nbconvert_exporter": "python",
   "pygments_lexer": "ipython3",
   "version": "3.8.5"
  }
 },
 "nbformat": 4,
 "nbformat_minor": 4
}
