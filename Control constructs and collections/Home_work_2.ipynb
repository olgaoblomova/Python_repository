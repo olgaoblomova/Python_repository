{
 "cells": [
  {
   "cell_type": "code",
   "execution_count": 1,
   "metadata": {},
   "outputs": [
    {
     "name": "stdout",
     "output_type": "stream",
     "text": [
      "e\n"
     ]
    }
   ],
   "source": [
    "#Задание 1\n",
    "word = \"Freedom\"\n",
    "count = int(len(word)/2)\n",
    "if len(word)%2 == 0:\n",
    "    print(word[count-1:count+1])\n",
    "else:\n",
    "    print(word[count])"
   ]
  },
  {
   "cell_type": "code",
   "execution_count": 2,
   "metadata": {},
   "outputs": [
    {
     "name": "stdout",
     "output_type": "stream",
     "text": [
      "Введите целое число: 6\n",
      "Введите целое число: 7\n",
      "Введите целое число: 5\n",
      "Введите целое число: 8\n",
      "Введите целое число: 0\n",
      "Результат: 26\n"
     ]
    }
   ],
   "source": [
    "#Задание 2\n",
    "number = int(input(\"Введите целое число: \"))\n",
    "summa = number\n",
    "while number!= 0:\n",
    "    number = int(input(\"Введите целое число: \"))\n",
    "    summa += number\n",
    "else:\n",
    "    print('Результат:', summa)"
   ]
  },
  {
   "cell_type": "code",
   "execution_count": 3,
   "metadata": {},
   "outputs": [
    {
     "name": "stdout",
     "output_type": "stream",
     "text": [
      "Введите целое число: 5\n",
      "Введите целое число: 6\n",
      "Введите целое число: 5\n",
      "Введите целое число: 4\n",
      "Введите целое число: 0\n",
      "Результат: 20\n"
     ]
    }
   ],
   "source": [
    "# Задание 2 (второе решение)\n",
    "kit = []\n",
    "n = 0\n",
    "while True:\n",
    "    kit.append(int(input(\"Введите целое число: \")))\n",
    "    if kit[n] == 0:\n",
    "           break\n",
    "    else:\n",
    "        n += 1\n",
    "print('Результат:', sum(kit))"
   ]
  },
  {
   "cell_type": "code",
   "execution_count": 4,
   "metadata": {},
   "outputs": [
    {
     "name": "stdout",
     "output_type": "stream",
     "text": [
      "Идеальные пары:\n",
      "Виталий и Вера\n",
      "Даниил и Дарья\n",
      "Егор и Лиза\n",
      "Николай и Ольга\n",
      "Павел и Полина\n",
      "Степан и Светлана\n"
     ]
    }
   ],
   "source": [
    "#Задание 3\n",
    "boys = ['Павел', 'Егор', 'Степан', 'Даниил', 'Виталий', 'Николай']\n",
    "girls = ['Ольга', 'Полина', 'Лиза', 'Дарья', 'Вера', 'Светлана']\n",
    "\n",
    "if len(boys)==len(girls):\n",
    "    print('Идеальные пары:')\n",
    "    for item in list(zip(sorted(boys),sorted(girls))):\n",
    "        print(item[0] + ' и ' + item[1])\n",
    "else:\n",
    "    print('Внимание, кто-то может остаться без пары!')"
   ]
  },
  {
   "cell_type": "code",
   "execution_count": 5,
   "metadata": {},
   "outputs": [
    {
     "name": "stdout",
     "output_type": "stream",
     "text": [
      "Идеальные пары:\n",
      "Виталий и Вера\n",
      "Даниил и Дарья\n",
      "Егор и Лиза\n",
      "Николай и Ольга\n",
      "Павел и Полина\n",
      "Степан и Светлана\n"
     ]
    }
   ],
   "source": [
    "#Задание 3 (второе решение)\n",
    "boys = ['Павел', 'Егор', 'Степан', 'Даниил', 'Виталий', 'Николай']\n",
    "girls = ['Ольга', 'Полина', 'Лиза', 'Дарья', 'Вера', 'Светлана']\n",
    "boys_sort = sorted(boys)\n",
    "girls_sort = sorted(girls)\n",
    "if len(boys)==len(girls):\n",
    "    print('Идеальные пары:')\n",
    "    n=0\n",
    "    while n!=len(boys):\n",
    "        print(boys_sort[n] + ' и ' + girls_sort[n])\n",
    "        n=n+1\n",
    "else:\n",
    "    print('Внимание, кто-то может остаться без пары!')"
   ]
  },
  {
   "cell_type": "code",
   "execution_count": 6,
   "metadata": {},
   "outputs": [
    {
     "name": "stdout",
     "output_type": "stream",
     "text": [
      "Идеальные пары:\n",
      "Виталий и Вера\n",
      "Даниил и Дарья\n",
      "Егор и Лиза\n",
      "Николай и Ольга\n",
      "Павел и Полина\n",
      "Степан и Светлана\n"
     ]
    }
   ],
   "source": [
    "#Задание 3 (второе решение еще вариант)\n",
    "boys = ['Павел', 'Егор', 'Степан', 'Даниил', 'Виталий', 'Николай']\n",
    "girls = ['Ольга', 'Полина', 'Лиза', 'Дарья', 'Вера', 'Светлана']\n",
    "\n",
    "if len(boys)==len(girls):\n",
    "    boys.sort()\n",
    "    girls.sort()\n",
    "    print('Идеальные пары:')\n",
    "    n=0\n",
    "    while n!=len(boys):\n",
    "        print(boys[n] + ' и ' + girls[n])\n",
    "        n=n+1\n",
    "else:\n",
    "    print('Внимание, кто-то может остаться без пары!')"
   ]
  },
  {
   "cell_type": "code",
   "execution_count": 7,
   "metadata": {},
   "outputs": [
    {
     "name": "stdout",
     "output_type": "stream",
     "text": [
      "Средняя температура в странах:\n",
      "Thailand  - 23.9 C\n",
      "Germany  - 13.8 C\n",
      "Russia  - 3.7 C\n",
      "Poland  - 12.0 C\n"
     ]
    }
   ],
   "source": [
    "#Задание 4\n",
    "countries_temperature = [['Thailand', [75.2, 77, 78.8, 73.4, 68, 75.2, 77]],\n",
    "['Germany', [57.2, 55.4, 59, 59, 53.6,]],\n",
    "['Russia', [35.6, 37.4, 39.2, 41, 42.8, 39.2, 35.6]],\n",
    "['Poland', [50, 50, 53.6, 57.2, 55.4, 55.4]]]\n",
    "print('Средняя температура в странах:')\n",
    "for item_1 in countries_temperature:\n",
    "    sum_med = 0\n",
    "    for item_2 in item_1[1]:\n",
    "        sum_med += (item_2-32)/1.8\n",
    "    print(item_1[0], ' -', round(sum_med/(len(item_1[1])),1), 'C')       "
   ]
  },
  {
   "cell_type": "code",
   "execution_count": 8,
   "metadata": {},
   "outputs": [
    {
     "name": "stdout",
     "output_type": "stream",
     "text": [
      "Среднее количество просмотров на уникального пользователя 23.25\n"
     ]
    }
   ],
   "source": [
    "#Задача 5 Среднее количество просмотров на уникального пользователя\n",
    "#Решение с лекции, добавила корректный вывод\n",
    "stream = [\n",
    "    '2018-01-01,user1,3',\n",
    "    '2018-01-07,user1,4',\n",
    "    '2018-03-29,user1,1',\n",
    "    '2018-04-04,user1,13',\n",
    "    '2018-01-05,user2,7',\n",
    "    '2018-06-14,user3,4',\n",
    "    '2018-07-02,user3,10',\n",
    "    '2018-03-21,user4,19',\n",
    "    '2018-03-22,user4,4',\n",
    "    '2018-04-22,user4,8',\n",
    "    '2018-05-03,user4,9',\n",
    "    '2018-05-11,user4,11',\n",
    "]\n",
    "views = 0\n",
    "user_list = []\n",
    "for s in stream:\n",
    "    splitted_s = s.split(',')\n",
    "    views += int(splitted_s[2])\n",
    "    if splitted_s[1] not in user_list:                    \n",
    "        user_list.append(splitted_s[1])\n",
    "print('Среднее количество просмотров на уникального пользователя', round(views/len(user_list),2))"
   ]
  },
  {
   "cell_type": "code",
   "execution_count": 11,
   "metadata": {},
   "outputs": [
    {
     "name": "stdout",
     "output_type": "stream",
     "text": [
      "Введите несколько целых чисел через пробел: 7 6 5 4 4 6 4 4 8 7 6 5 7\n",
      "4 5 6 7 "
     ]
    }
   ],
   "source": [
    "#Задача 6\n",
    "stream = [\n",
    "    '2018-01-01,user1,3',\n",
    "    '2018-01-07,user1,4',\n",
    "    '2018-03-29,user1,1',\n",
    "    '2018-04-04,user1,13',\n",
    "    '2018-01-05,user2,7',\n",
    "    '2018-06-14,user3,4',\n",
    "    '2018-07-02,user3,10',\n",
    "    '2018-03-21,user4,19',\n",
    "    '2018-03-22,user4,4',\n",
    "    '2018-04-22,user4,8',\n",
    "    '2018-05-03,user4,9',\n",
    "    '2018-05-11,user4,11',\n",
    "]\n",
    "\n",
    "total = []\n",
    "number_str = input(\"Введите несколько целых чисел через пробел: \")\n",
    "set_values_ints = [int(i) for i in number_str.split(' ')]\n",
    "for number in set_values_ints:\n",
    "    if set_values_ints.count(number) != 1 and number not in total:\n",
    "        total.append(number)\n",
    "total = sorted(total)\n",
    "if len(total) != 0:\n",
    "    for t in total:\n",
    "        print(t,  end = ' ')\n",
    "else:\n",
    "    print('Повторяющихся значений нет')"
   ]
  }
 ],
 "metadata": {
  "kernelspec": {
   "display_name": "Python 3",
   "language": "python",
   "name": "python3"
  },
  "language_info": {
   "codemirror_mode": {
    "name": "ipython",
    "version": 3
   },
   "file_extension": ".py",
   "mimetype": "text/x-python",
   "name": "python",
   "nbconvert_exporter": "python",
   "pygments_lexer": "ipython3",
   "version": "3.8.5"
  }
 },
 "nbformat": 4,
 "nbformat_minor": 4
}
