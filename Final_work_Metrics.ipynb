{
  "nbformat": 4,
  "nbformat_minor": 0,
  "metadata": {
    "colab": {
      "name": "Final work Metrics.ipynb",
      "provenance": [],
      "collapsed_sections": [],
      "authorship_tag": "ABX9TyN74tbgt73oOYFcjrcSSdFK",
      "include_colab_link": true
    },
    "kernelspec": {
      "name": "python3",
      "display_name": "Python 3"
    },
    "language_info": {
      "name": "python"
    }
  },
  "cells": [
    {
      "cell_type": "markdown",
      "metadata": {
        "id": "view-in-github",
        "colab_type": "text"
      },
      "source": [
        "<a href=\"https://colab.research.google.com/github/olgaoblomova/Python_repository/blob/main/Final_work_Metrics.ipynb\" target=\"_parent\"><img src=\"https://colab.research.google.com/assets/colab-badge.svg\" alt=\"Open In Colab\"/></a>"
      ]
    },
    {
      "cell_type": "code",
      "metadata": {
        "id": "aDv_zhA-Xu41"
      },
      "source": [
        "import pandas as pd"
      ],
      "execution_count": null,
      "outputs": []
    },
    {
      "cell_type": "code",
      "metadata": {
        "id": "S5v5qi61YDeZ"
      },
      "source": [
        "df = pd.read_csv('Online Retail_.csv', dtype = {'CustomerID':str})"
      ],
      "execution_count": null,
      "outputs": []
    },
    {
      "cell_type": "code",
      "metadata": {
        "colab": {
          "base_uri": "https://localhost:8080/",
          "height": 417
        },
        "id": "u5HY9VwvjTxP",
        "outputId": "4a7d4c50-7832-46c2-9322-7f1b5d4360cb"
      },
      "source": [
        "df"
      ],
      "execution_count": null,
      "outputs": [
        {
          "output_type": "execute_result",
          "data": {
            "text/html": [
              "<div>\n",
              "<style scoped>\n",
              "    .dataframe tbody tr th:only-of-type {\n",
              "        vertical-align: middle;\n",
              "    }\n",
              "\n",
              "    .dataframe tbody tr th {\n",
              "        vertical-align: top;\n",
              "    }\n",
              "\n",
              "    .dataframe thead th {\n",
              "        text-align: right;\n",
              "    }\n",
              "</style>\n",
              "<table border=\"1\" class=\"dataframe\">\n",
              "  <thead>\n",
              "    <tr style=\"text-align: right;\">\n",
              "      <th></th>\n",
              "      <th>InvoiceNo</th>\n",
              "      <th>StockCode</th>\n",
              "      <th>Description</th>\n",
              "      <th>Quantity</th>\n",
              "      <th>InvoiceDate</th>\n",
              "      <th>UnitPrice</th>\n",
              "      <th>CustomerID</th>\n",
              "      <th>Country</th>\n",
              "    </tr>\n",
              "  </thead>\n",
              "  <tbody>\n",
              "    <tr>\n",
              "      <th>0</th>\n",
              "      <td>536365</td>\n",
              "      <td>84029E</td>\n",
              "      <td>RED WOOLLY HOTTIE WHITE HEART.</td>\n",
              "      <td>6</td>\n",
              "      <td>12/1/10 8:26</td>\n",
              "      <td>3.39</td>\n",
              "      <td>17850</td>\n",
              "      <td>United Kingdom</td>\n",
              "    </tr>\n",
              "    <tr>\n",
              "      <th>1</th>\n",
              "      <td>536367</td>\n",
              "      <td>84879</td>\n",
              "      <td>ASSORTED COLOUR BIRD ORNAMENT</td>\n",
              "      <td>32</td>\n",
              "      <td>12/1/10 8:34</td>\n",
              "      <td>1.69</td>\n",
              "      <td>13047</td>\n",
              "      <td>United Kingdom</td>\n",
              "    </tr>\n",
              "    <tr>\n",
              "      <th>2</th>\n",
              "      <td>536367</td>\n",
              "      <td>21755</td>\n",
              "      <td>LOVE BUILDING BLOCK WORD</td>\n",
              "      <td>3</td>\n",
              "      <td>12/1/10 8:34</td>\n",
              "      <td>5.95</td>\n",
              "      <td>13047</td>\n",
              "      <td>United Kingdom</td>\n",
              "    </tr>\n",
              "    <tr>\n",
              "      <th>3</th>\n",
              "      <td>536368</td>\n",
              "      <td>22914</td>\n",
              "      <td>BLUE COAT RACK PARIS FASHION</td>\n",
              "      <td>3</td>\n",
              "      <td>12/1/10 8:34</td>\n",
              "      <td>4.95</td>\n",
              "      <td>13047</td>\n",
              "      <td>United Kingdom</td>\n",
              "    </tr>\n",
              "    <tr>\n",
              "      <th>4</th>\n",
              "      <td>536373</td>\n",
              "      <td>84406B</td>\n",
              "      <td>CREAM CUPID HEARTS COAT HANGER</td>\n",
              "      <td>8</td>\n",
              "      <td>12/1/10 9:02</td>\n",
              "      <td>2.75</td>\n",
              "      <td>17850</td>\n",
              "      <td>United Kingdom</td>\n",
              "    </tr>\n",
              "    <tr>\n",
              "      <th>...</th>\n",
              "      <td>...</td>\n",
              "      <td>...</td>\n",
              "      <td>...</td>\n",
              "      <td>...</td>\n",
              "      <td>...</td>\n",
              "      <td>...</td>\n",
              "      <td>...</td>\n",
              "      <td>...</td>\n",
              "    </tr>\n",
              "    <tr>\n",
              "      <th>54209</th>\n",
              "      <td>581585</td>\n",
              "      <td>84832</td>\n",
              "      <td>ZINC WILLIE WINKIE  CANDLE STICK</td>\n",
              "      <td>24</td>\n",
              "      <td>12/9/11 12:31</td>\n",
              "      <td>0.85</td>\n",
              "      <td>15804</td>\n",
              "      <td>United Kingdom</td>\n",
              "    </tr>\n",
              "    <tr>\n",
              "      <th>54210</th>\n",
              "      <td>581585</td>\n",
              "      <td>23084</td>\n",
              "      <td>RABBIT NIGHT LIGHT</td>\n",
              "      <td>12</td>\n",
              "      <td>12/9/11 12:31</td>\n",
              "      <td>2.08</td>\n",
              "      <td>15804</td>\n",
              "      <td>United Kingdom</td>\n",
              "    </tr>\n",
              "    <tr>\n",
              "      <th>54211</th>\n",
              "      <td>581585</td>\n",
              "      <td>84692</td>\n",
              "      <td>BOX OF 24 COCKTAIL PARASOLS</td>\n",
              "      <td>25</td>\n",
              "      <td>12/9/11 12:31</td>\n",
              "      <td>0.42</td>\n",
              "      <td>15804</td>\n",
              "      <td>United Kingdom</td>\n",
              "    </tr>\n",
              "    <tr>\n",
              "      <th>54212</th>\n",
              "      <td>581587</td>\n",
              "      <td>22631</td>\n",
              "      <td>CIRCUS PARADE LUNCH BOX</td>\n",
              "      <td>12</td>\n",
              "      <td>12/9/11 12:50</td>\n",
              "      <td>1.95</td>\n",
              "      <td>12680</td>\n",
              "      <td>France</td>\n",
              "    </tr>\n",
              "    <tr>\n",
              "      <th>54213</th>\n",
              "      <td>581587</td>\n",
              "      <td>23255</td>\n",
              "      <td>CHILDRENS CUTLERY CIRCUS PARADE</td>\n",
              "      <td>4</td>\n",
              "      <td>12/9/11 12:50</td>\n",
              "      <td>4.15</td>\n",
              "      <td>12680</td>\n",
              "      <td>France</td>\n",
              "    </tr>\n",
              "  </tbody>\n",
              "</table>\n",
              "<p>54214 rows × 8 columns</p>\n",
              "</div>"
            ],
            "text/plain": [
              "      InvoiceNo StockCode  ... CustomerID         Country\n",
              "0        536365    84029E  ...      17850  United Kingdom\n",
              "1        536367     84879  ...      13047  United Kingdom\n",
              "2        536367     21755  ...      13047  United Kingdom\n",
              "3        536368     22914  ...      13047  United Kingdom\n",
              "4        536373    84406B  ...      17850  United Kingdom\n",
              "...         ...       ...  ...        ...             ...\n",
              "54209    581585     84832  ...      15804  United Kingdom\n",
              "54210    581585     23084  ...      15804  United Kingdom\n",
              "54211    581585     84692  ...      15804  United Kingdom\n",
              "54212    581587     22631  ...      12680          France\n",
              "54213    581587     23255  ...      12680          France\n",
              "\n",
              "[54214 rows x 8 columns]"
            ]
          },
          "metadata": {
            "tags": []
          },
          "execution_count": 3
        }
      ]
    },
    {
      "cell_type": "code",
      "metadata": {
        "colab": {
          "base_uri": "https://localhost:8080/"
        },
        "id": "FaV-6Q1HgitV",
        "outputId": "8c0d0ab4-9b6c-466f-a3a5-06b3710ce061"
      },
      "source": [
        "df.value_counts('Country').count()"
      ],
      "execution_count": null,
      "outputs": [
        {
          "output_type": "execute_result",
          "data": {
            "text/plain": [
              "37"
            ]
          },
          "metadata": {
            "tags": []
          },
          "execution_count": 4
        }
      ]
    },
    {
      "cell_type": "code",
      "metadata": {
        "colab": {
          "base_uri": "https://localhost:8080/"
        },
        "id": "yRxpD4meLW8f",
        "outputId": "427de19d-96d8-4060-aca9-4dfef62f2a80"
      },
      "source": [
        "df.info()"
      ],
      "execution_count": null,
      "outputs": [
        {
          "output_type": "stream",
          "text": [
            "<class 'pandas.core.frame.DataFrame'>\n",
            "RangeIndex: 54214 entries, 0 to 54213\n",
            "Data columns (total 8 columns):\n",
            " #   Column       Non-Null Count  Dtype  \n",
            "---  ------       --------------  -----  \n",
            " 0   InvoiceNo    54214 non-null  object \n",
            " 1   StockCode    54214 non-null  object \n",
            " 2   Description  54080 non-null  object \n",
            " 3   Quantity     54214 non-null  int64  \n",
            " 4   InvoiceDate  54214 non-null  object \n",
            " 5   UnitPrice    54214 non-null  float64\n",
            " 6   CustomerID   40643 non-null  object \n",
            " 7   Country      54214 non-null  object \n",
            "dtypes: float64(1), int64(1), object(6)\n",
            "memory usage: 3.3+ MB\n"
          ],
          "name": "stdout"
        }
      ]
    },
    {
      "cell_type": "markdown",
      "metadata": {
        "id": "Eja7wLutsDBH"
      },
      "source": [
        "Имеем незаполненные данные по столбцам Description и CustomerID.  Необходимо преобразовать столбец с датой в формат даты"
      ]
    },
    {
      "cell_type": "code",
      "metadata": {
        "id": "S8I9p8wr7JS0"
      },
      "source": [
        "from datetime import datetime"
      ],
      "execution_count": null,
      "outputs": []
    },
    {
      "cell_type": "code",
      "metadata": {
        "id": "qM-BbcXT7dl1"
      },
      "source": [
        "df['InvoiceDate'] = df['InvoiceDate'].apply(lambda d: datetime.strptime(d, '%m/%d/%y %H:%M'))"
      ],
      "execution_count": null,
      "outputs": []
    },
    {
      "cell_type": "code",
      "metadata": {
        "colab": {
          "base_uri": "https://localhost:8080/",
          "height": 417
        },
        "id": "qIK9orHlbj-K",
        "outputId": "2f45c4aa-4b26-4bfd-d055-cc50cab77317"
      },
      "source": [
        "df"
      ],
      "execution_count": null,
      "outputs": [
        {
          "output_type": "execute_result",
          "data": {
            "text/html": [
              "<div>\n",
              "<style scoped>\n",
              "    .dataframe tbody tr th:only-of-type {\n",
              "        vertical-align: middle;\n",
              "    }\n",
              "\n",
              "    .dataframe tbody tr th {\n",
              "        vertical-align: top;\n",
              "    }\n",
              "\n",
              "    .dataframe thead th {\n",
              "        text-align: right;\n",
              "    }\n",
              "</style>\n",
              "<table border=\"1\" class=\"dataframe\">\n",
              "  <thead>\n",
              "    <tr style=\"text-align: right;\">\n",
              "      <th></th>\n",
              "      <th>InvoiceNo</th>\n",
              "      <th>StockCode</th>\n",
              "      <th>Description</th>\n",
              "      <th>Quantity</th>\n",
              "      <th>InvoiceDate</th>\n",
              "      <th>UnitPrice</th>\n",
              "      <th>CustomerID</th>\n",
              "      <th>Country</th>\n",
              "    </tr>\n",
              "  </thead>\n",
              "  <tbody>\n",
              "    <tr>\n",
              "      <th>0</th>\n",
              "      <td>536365</td>\n",
              "      <td>84029E</td>\n",
              "      <td>RED WOOLLY HOTTIE WHITE HEART.</td>\n",
              "      <td>6</td>\n",
              "      <td>2010-12-01 08:26:00</td>\n",
              "      <td>3.39</td>\n",
              "      <td>17850</td>\n",
              "      <td>United Kingdom</td>\n",
              "    </tr>\n",
              "    <tr>\n",
              "      <th>1</th>\n",
              "      <td>536367</td>\n",
              "      <td>84879</td>\n",
              "      <td>ASSORTED COLOUR BIRD ORNAMENT</td>\n",
              "      <td>32</td>\n",
              "      <td>2010-12-01 08:34:00</td>\n",
              "      <td>1.69</td>\n",
              "      <td>13047</td>\n",
              "      <td>United Kingdom</td>\n",
              "    </tr>\n",
              "    <tr>\n",
              "      <th>2</th>\n",
              "      <td>536367</td>\n",
              "      <td>21755</td>\n",
              "      <td>LOVE BUILDING BLOCK WORD</td>\n",
              "      <td>3</td>\n",
              "      <td>2010-12-01 08:34:00</td>\n",
              "      <td>5.95</td>\n",
              "      <td>13047</td>\n",
              "      <td>United Kingdom</td>\n",
              "    </tr>\n",
              "    <tr>\n",
              "      <th>3</th>\n",
              "      <td>536368</td>\n",
              "      <td>22914</td>\n",
              "      <td>BLUE COAT RACK PARIS FASHION</td>\n",
              "      <td>3</td>\n",
              "      <td>2010-12-01 08:34:00</td>\n",
              "      <td>4.95</td>\n",
              "      <td>13047</td>\n",
              "      <td>United Kingdom</td>\n",
              "    </tr>\n",
              "    <tr>\n",
              "      <th>4</th>\n",
              "      <td>536373</td>\n",
              "      <td>84406B</td>\n",
              "      <td>CREAM CUPID HEARTS COAT HANGER</td>\n",
              "      <td>8</td>\n",
              "      <td>2010-12-01 09:02:00</td>\n",
              "      <td>2.75</td>\n",
              "      <td>17850</td>\n",
              "      <td>United Kingdom</td>\n",
              "    </tr>\n",
              "    <tr>\n",
              "      <th>...</th>\n",
              "      <td>...</td>\n",
              "      <td>...</td>\n",
              "      <td>...</td>\n",
              "      <td>...</td>\n",
              "      <td>...</td>\n",
              "      <td>...</td>\n",
              "      <td>...</td>\n",
              "      <td>...</td>\n",
              "    </tr>\n",
              "    <tr>\n",
              "      <th>54209</th>\n",
              "      <td>581585</td>\n",
              "      <td>84832</td>\n",
              "      <td>ZINC WILLIE WINKIE  CANDLE STICK</td>\n",
              "      <td>24</td>\n",
              "      <td>2011-12-09 12:31:00</td>\n",
              "      <td>0.85</td>\n",
              "      <td>15804</td>\n",
              "      <td>United Kingdom</td>\n",
              "    </tr>\n",
              "    <tr>\n",
              "      <th>54210</th>\n",
              "      <td>581585</td>\n",
              "      <td>23084</td>\n",
              "      <td>RABBIT NIGHT LIGHT</td>\n",
              "      <td>12</td>\n",
              "      <td>2011-12-09 12:31:00</td>\n",
              "      <td>2.08</td>\n",
              "      <td>15804</td>\n",
              "      <td>United Kingdom</td>\n",
              "    </tr>\n",
              "    <tr>\n",
              "      <th>54211</th>\n",
              "      <td>581585</td>\n",
              "      <td>84692</td>\n",
              "      <td>BOX OF 24 COCKTAIL PARASOLS</td>\n",
              "      <td>25</td>\n",
              "      <td>2011-12-09 12:31:00</td>\n",
              "      <td>0.42</td>\n",
              "      <td>15804</td>\n",
              "      <td>United Kingdom</td>\n",
              "    </tr>\n",
              "    <tr>\n",
              "      <th>54212</th>\n",
              "      <td>581587</td>\n",
              "      <td>22631</td>\n",
              "      <td>CIRCUS PARADE LUNCH BOX</td>\n",
              "      <td>12</td>\n",
              "      <td>2011-12-09 12:50:00</td>\n",
              "      <td>1.95</td>\n",
              "      <td>12680</td>\n",
              "      <td>France</td>\n",
              "    </tr>\n",
              "    <tr>\n",
              "      <th>54213</th>\n",
              "      <td>581587</td>\n",
              "      <td>23255</td>\n",
              "      <td>CHILDRENS CUTLERY CIRCUS PARADE</td>\n",
              "      <td>4</td>\n",
              "      <td>2011-12-09 12:50:00</td>\n",
              "      <td>4.15</td>\n",
              "      <td>12680</td>\n",
              "      <td>France</td>\n",
              "    </tr>\n",
              "  </tbody>\n",
              "</table>\n",
              "<p>54214 rows × 8 columns</p>\n",
              "</div>"
            ],
            "text/plain": [
              "      InvoiceNo StockCode  ... CustomerID         Country\n",
              "0        536365    84029E  ...      17850  United Kingdom\n",
              "1        536367     84879  ...      13047  United Kingdom\n",
              "2        536367     21755  ...      13047  United Kingdom\n",
              "3        536368     22914  ...      13047  United Kingdom\n",
              "4        536373    84406B  ...      17850  United Kingdom\n",
              "...         ...       ...  ...        ...             ...\n",
              "54209    581585     84832  ...      15804  United Kingdom\n",
              "54210    581585     23084  ...      15804  United Kingdom\n",
              "54211    581585     84692  ...      15804  United Kingdom\n",
              "54212    581587     22631  ...      12680          France\n",
              "54213    581587     23255  ...      12680          France\n",
              "\n",
              "[54214 rows x 8 columns]"
            ]
          },
          "metadata": {
            "tags": []
          },
          "execution_count": 8
        }
      ]
    },
    {
      "cell_type": "code",
      "metadata": {
        "colab": {
          "base_uri": "https://localhost:8080/"
        },
        "id": "45heMTbmYenw",
        "outputId": "af216f05-14f9-4c68-dc94-4a3f0e5ffcf8"
      },
      "source": [
        "df.info()"
      ],
      "execution_count": null,
      "outputs": [
        {
          "output_type": "stream",
          "text": [
            "<class 'pandas.core.frame.DataFrame'>\n",
            "RangeIndex: 54214 entries, 0 to 54213\n",
            "Data columns (total 8 columns):\n",
            " #   Column       Non-Null Count  Dtype         \n",
            "---  ------       --------------  -----         \n",
            " 0   InvoiceNo    54214 non-null  object        \n",
            " 1   StockCode    54214 non-null  object        \n",
            " 2   Description  54080 non-null  object        \n",
            " 3   Quantity     54214 non-null  int64         \n",
            " 4   InvoiceDate  54214 non-null  datetime64[ns]\n",
            " 5   UnitPrice    54214 non-null  float64       \n",
            " 6   CustomerID   40643 non-null  object        \n",
            " 7   Country      54214 non-null  object        \n",
            "dtypes: datetime64[ns](1), float64(1), int64(1), object(5)\n",
            "memory usage: 3.3+ MB\n"
          ],
          "name": "stdout"
        }
      ]
    },
    {
      "cell_type": "code",
      "metadata": {
        "colab": {
          "base_uri": "https://localhost:8080/"
        },
        "id": "dm6YCGIfNlMR",
        "outputId": "7d0f4f5c-339f-44b5-eba8-0ef3e5f723e4"
      },
      "source": [
        "df.duplicated('InvoiceNo')"
      ],
      "execution_count": null,
      "outputs": [
        {
          "output_type": "execute_result",
          "data": {
            "text/plain": [
              "0        False\n",
              "1        False\n",
              "2         True\n",
              "3        False\n",
              "4        False\n",
              "         ...  \n",
              "54209     True\n",
              "54210     True\n",
              "54211     True\n",
              "54212    False\n",
              "54213     True\n",
              "Length: 54214, dtype: bool"
            ]
          },
          "metadata": {
            "tags": []
          },
          "execution_count": 10
        }
      ]
    },
    {
      "cell_type": "code",
      "metadata": {
        "colab": {
          "base_uri": "https://localhost:8080/",
          "height": 417
        },
        "id": "evpXQP9escS_",
        "outputId": "e529630b-f176-47cf-e9a5-0431e17df2c3"
      },
      "source": [
        "df_null_Descr = df[df['Description'].isnull()]\n",
        "df_null_Descr"
      ],
      "execution_count": null,
      "outputs": [
        {
          "output_type": "execute_result",
          "data": {
            "text/html": [
              "<div>\n",
              "<style scoped>\n",
              "    .dataframe tbody tr th:only-of-type {\n",
              "        vertical-align: middle;\n",
              "    }\n",
              "\n",
              "    .dataframe tbody tr th {\n",
              "        vertical-align: top;\n",
              "    }\n",
              "\n",
              "    .dataframe thead th {\n",
              "        text-align: right;\n",
              "    }\n",
              "</style>\n",
              "<table border=\"1\" class=\"dataframe\">\n",
              "  <thead>\n",
              "    <tr style=\"text-align: right;\">\n",
              "      <th></th>\n",
              "      <th>InvoiceNo</th>\n",
              "      <th>StockCode</th>\n",
              "      <th>Description</th>\n",
              "      <th>Quantity</th>\n",
              "      <th>InvoiceDate</th>\n",
              "      <th>UnitPrice</th>\n",
              "      <th>CustomerID</th>\n",
              "      <th>Country</th>\n",
              "    </tr>\n",
              "  </thead>\n",
              "  <tbody>\n",
              "    <tr>\n",
              "      <th>204</th>\n",
              "      <td>536553</td>\n",
              "      <td>37461</td>\n",
              "      <td>NaN</td>\n",
              "      <td>3</td>\n",
              "      <td>2010-12-01 14:35:00</td>\n",
              "      <td>0.0</td>\n",
              "      <td>NaN</td>\n",
              "      <td>United Kingdom</td>\n",
              "    </tr>\n",
              "    <tr>\n",
              "      <th>730</th>\n",
              "      <td>536995</td>\n",
              "      <td>35951</td>\n",
              "      <td>NaN</td>\n",
              "      <td>57</td>\n",
              "      <td>2010-12-03 15:29:00</td>\n",
              "      <td>0.0</td>\n",
              "      <td>NaN</td>\n",
              "      <td>United Kingdom</td>\n",
              "    </tr>\n",
              "    <tr>\n",
              "      <th>731</th>\n",
              "      <td>536998</td>\n",
              "      <td>85067</td>\n",
              "      <td>NaN</td>\n",
              "      <td>-6</td>\n",
              "      <td>2010-12-03 15:30:00</td>\n",
              "      <td>0.0</td>\n",
              "      <td>NaN</td>\n",
              "      <td>United Kingdom</td>\n",
              "    </tr>\n",
              "    <tr>\n",
              "      <th>732</th>\n",
              "      <td>537005</td>\n",
              "      <td>21692</td>\n",
              "      <td>NaN</td>\n",
              "      <td>-70</td>\n",
              "      <td>2010-12-03 15:35:00</td>\n",
              "      <td>0.0</td>\n",
              "      <td>NaN</td>\n",
              "      <td>United Kingdom</td>\n",
              "    </tr>\n",
              "    <tr>\n",
              "      <th>733</th>\n",
              "      <td>537009</td>\n",
              "      <td>84534B</td>\n",
              "      <td>NaN</td>\n",
              "      <td>-80</td>\n",
              "      <td>2010-12-03 15:38:00</td>\n",
              "      <td>0.0</td>\n",
              "      <td>NaN</td>\n",
              "      <td>United Kingdom</td>\n",
              "    </tr>\n",
              "    <tr>\n",
              "      <th>...</th>\n",
              "      <td>...</td>\n",
              "      <td>...</td>\n",
              "      <td>...</td>\n",
              "      <td>...</td>\n",
              "      <td>...</td>\n",
              "      <td>...</td>\n",
              "      <td>...</td>\n",
              "      <td>...</td>\n",
              "    </tr>\n",
              "    <tr>\n",
              "      <th>48602</th>\n",
              "      <td>577608</td>\n",
              "      <td>35400</td>\n",
              "      <td>NaN</td>\n",
              "      <td>5</td>\n",
              "      <td>2011-11-21 09:22:00</td>\n",
              "      <td>0.0</td>\n",
              "      <td>NaN</td>\n",
              "      <td>United Kingdom</td>\n",
              "    </tr>\n",
              "    <tr>\n",
              "      <th>49770</th>\n",
              "      <td>578360</td>\n",
              "      <td>84971L</td>\n",
              "      <td>NaN</td>\n",
              "      <td>2</td>\n",
              "      <td>2011-11-24 10:36:00</td>\n",
              "      <td>0.0</td>\n",
              "      <td>NaN</td>\n",
              "      <td>United Kingdom</td>\n",
              "    </tr>\n",
              "    <tr>\n",
              "      <th>50021</th>\n",
              "      <td>578693</td>\n",
              "      <td>21811</td>\n",
              "      <td>NaN</td>\n",
              "      <td>1</td>\n",
              "      <td>2011-11-25 09:38:00</td>\n",
              "      <td>0.0</td>\n",
              "      <td>NaN</td>\n",
              "      <td>United Kingdom</td>\n",
              "    </tr>\n",
              "    <tr>\n",
              "      <th>52171</th>\n",
              "      <td>580359</td>\n",
              "      <td>20775</td>\n",
              "      <td>NaN</td>\n",
              "      <td>-35</td>\n",
              "      <td>2011-12-02 16:11:00</td>\n",
              "      <td>0.0</td>\n",
              "      <td>NaN</td>\n",
              "      <td>United Kingdom</td>\n",
              "    </tr>\n",
              "    <tr>\n",
              "      <th>53537</th>\n",
              "      <td>581209</td>\n",
              "      <td>21620</td>\n",
              "      <td>NaN</td>\n",
              "      <td>6</td>\n",
              "      <td>2011-12-07 18:35:00</td>\n",
              "      <td>0.0</td>\n",
              "      <td>NaN</td>\n",
              "      <td>United Kingdom</td>\n",
              "    </tr>\n",
              "  </tbody>\n",
              "</table>\n",
              "<p>134 rows × 8 columns</p>\n",
              "</div>"
            ],
            "text/plain": [
              "      InvoiceNo StockCode Description  ...  UnitPrice CustomerID         Country\n",
              "204      536553     37461         NaN  ...        0.0        NaN  United Kingdom\n",
              "730      536995     35951         NaN  ...        0.0        NaN  United Kingdom\n",
              "731      536998     85067         NaN  ...        0.0        NaN  United Kingdom\n",
              "732      537005     21692         NaN  ...        0.0        NaN  United Kingdom\n",
              "733      537009    84534B         NaN  ...        0.0        NaN  United Kingdom\n",
              "...         ...       ...         ...  ...        ...        ...             ...\n",
              "48602    577608     35400         NaN  ...        0.0        NaN  United Kingdom\n",
              "49770    578360    84971L         NaN  ...        0.0        NaN  United Kingdom\n",
              "50021    578693     21811         NaN  ...        0.0        NaN  United Kingdom\n",
              "52171    580359     20775         NaN  ...        0.0        NaN  United Kingdom\n",
              "53537    581209     21620         NaN  ...        0.0        NaN  United Kingdom\n",
              "\n",
              "[134 rows x 8 columns]"
            ]
          },
          "metadata": {
            "tags": []
          },
          "execution_count": 11
        }
      ]
    },
    {
      "cell_type": "code",
      "metadata": {
        "colab": {
          "base_uri": "https://localhost:8080/",
          "height": 49
        },
        "id": "8-hiodIitwW-",
        "outputId": "1f13ee53-01dd-4a28-8f2a-510c96a11a6d"
      },
      "source": [
        "df_null_Descr[df_null_Descr['UnitPrice']!=0]"
      ],
      "execution_count": null,
      "outputs": [
        {
          "output_type": "execute_result",
          "data": {
            "text/html": [
              "<div>\n",
              "<style scoped>\n",
              "    .dataframe tbody tr th:only-of-type {\n",
              "        vertical-align: middle;\n",
              "    }\n",
              "\n",
              "    .dataframe tbody tr th {\n",
              "        vertical-align: top;\n",
              "    }\n",
              "\n",
              "    .dataframe thead th {\n",
              "        text-align: right;\n",
              "    }\n",
              "</style>\n",
              "<table border=\"1\" class=\"dataframe\">\n",
              "  <thead>\n",
              "    <tr style=\"text-align: right;\">\n",
              "      <th></th>\n",
              "      <th>InvoiceNo</th>\n",
              "      <th>StockCode</th>\n",
              "      <th>Description</th>\n",
              "      <th>Quantity</th>\n",
              "      <th>InvoiceDate</th>\n",
              "      <th>UnitPrice</th>\n",
              "      <th>CustomerID</th>\n",
              "      <th>Country</th>\n",
              "    </tr>\n",
              "  </thead>\n",
              "  <tbody>\n",
              "  </tbody>\n",
              "</table>\n",
              "</div>"
            ],
            "text/plain": [
              "Empty DataFrame\n",
              "Columns: [InvoiceNo, StockCode, Description, Quantity, InvoiceDate, UnitPrice, CustomerID, Country]\n",
              "Index: []"
            ]
          },
          "metadata": {
            "tags": []
          },
          "execution_count": 12
        }
      ]
    },
    {
      "cell_type": "code",
      "metadata": {
        "colab": {
          "base_uri": "https://localhost:8080/"
        },
        "id": "az86eF2Cvv1W",
        "outputId": "a2a8a0fa-6e97-4a6c-95a7-1a4a9fac8fd2"
      },
      "source": [
        "df[df['Description'].isnull()].count()"
      ],
      "execution_count": null,
      "outputs": [
        {
          "output_type": "execute_result",
          "data": {
            "text/plain": [
              "InvoiceNo      134\n",
              "StockCode      134\n",
              "Description      0\n",
              "Quantity       134\n",
              "InvoiceDate    134\n",
              "UnitPrice      134\n",
              "CustomerID       0\n",
              "Country        134\n",
              "dtype: int64"
            ]
          },
          "metadata": {
            "tags": []
          },
          "execution_count": 13
        }
      ]
    },
    {
      "cell_type": "markdown",
      "metadata": {
        "id": "IwUTpNzmv3Xu"
      },
      "source": [
        "134 записи в столбце Description не содержат данных"
      ]
    },
    {
      "cell_type": "markdown",
      "metadata": {
        "id": "L_cZm5WJPf-2"
      },
      "source": [
        "Строки с пустыми значениями по столбцу Description имеют также пустые значения в поле цена UnitPrice. Принимаю решение удалить их (0,25 % от объема данных)"
      ]
    },
    {
      "cell_type": "code",
      "metadata": {
        "id": "26O-h58EQRGu"
      },
      "source": [
        "df.dropna(subset = ['Description'], inplace=True)"
      ],
      "execution_count": null,
      "outputs": []
    },
    {
      "cell_type": "code",
      "metadata": {
        "colab": {
          "base_uri": "https://localhost:8080/",
          "height": 417
        },
        "id": "7Ecv8jvlTMme",
        "outputId": "aa161181-4129-4f79-dff8-98e5ad98d306"
      },
      "source": [
        "df"
      ],
      "execution_count": null,
      "outputs": [
        {
          "output_type": "execute_result",
          "data": {
            "text/html": [
              "<div>\n",
              "<style scoped>\n",
              "    .dataframe tbody tr th:only-of-type {\n",
              "        vertical-align: middle;\n",
              "    }\n",
              "\n",
              "    .dataframe tbody tr th {\n",
              "        vertical-align: top;\n",
              "    }\n",
              "\n",
              "    .dataframe thead th {\n",
              "        text-align: right;\n",
              "    }\n",
              "</style>\n",
              "<table border=\"1\" class=\"dataframe\">\n",
              "  <thead>\n",
              "    <tr style=\"text-align: right;\">\n",
              "      <th></th>\n",
              "      <th>InvoiceNo</th>\n",
              "      <th>StockCode</th>\n",
              "      <th>Description</th>\n",
              "      <th>Quantity</th>\n",
              "      <th>InvoiceDate</th>\n",
              "      <th>UnitPrice</th>\n",
              "      <th>CustomerID</th>\n",
              "      <th>Country</th>\n",
              "    </tr>\n",
              "  </thead>\n",
              "  <tbody>\n",
              "    <tr>\n",
              "      <th>0</th>\n",
              "      <td>536365</td>\n",
              "      <td>84029E</td>\n",
              "      <td>RED WOOLLY HOTTIE WHITE HEART.</td>\n",
              "      <td>6</td>\n",
              "      <td>2010-12-01 08:26:00</td>\n",
              "      <td>3.39</td>\n",
              "      <td>17850</td>\n",
              "      <td>United Kingdom</td>\n",
              "    </tr>\n",
              "    <tr>\n",
              "      <th>1</th>\n",
              "      <td>536367</td>\n",
              "      <td>84879</td>\n",
              "      <td>ASSORTED COLOUR BIRD ORNAMENT</td>\n",
              "      <td>32</td>\n",
              "      <td>2010-12-01 08:34:00</td>\n",
              "      <td>1.69</td>\n",
              "      <td>13047</td>\n",
              "      <td>United Kingdom</td>\n",
              "    </tr>\n",
              "    <tr>\n",
              "      <th>2</th>\n",
              "      <td>536367</td>\n",
              "      <td>21755</td>\n",
              "      <td>LOVE BUILDING BLOCK WORD</td>\n",
              "      <td>3</td>\n",
              "      <td>2010-12-01 08:34:00</td>\n",
              "      <td>5.95</td>\n",
              "      <td>13047</td>\n",
              "      <td>United Kingdom</td>\n",
              "    </tr>\n",
              "    <tr>\n",
              "      <th>3</th>\n",
              "      <td>536368</td>\n",
              "      <td>22914</td>\n",
              "      <td>BLUE COAT RACK PARIS FASHION</td>\n",
              "      <td>3</td>\n",
              "      <td>2010-12-01 08:34:00</td>\n",
              "      <td>4.95</td>\n",
              "      <td>13047</td>\n",
              "      <td>United Kingdom</td>\n",
              "    </tr>\n",
              "    <tr>\n",
              "      <th>4</th>\n",
              "      <td>536373</td>\n",
              "      <td>84406B</td>\n",
              "      <td>CREAM CUPID HEARTS COAT HANGER</td>\n",
              "      <td>8</td>\n",
              "      <td>2010-12-01 09:02:00</td>\n",
              "      <td>2.75</td>\n",
              "      <td>17850</td>\n",
              "      <td>United Kingdom</td>\n",
              "    </tr>\n",
              "    <tr>\n",
              "      <th>...</th>\n",
              "      <td>...</td>\n",
              "      <td>...</td>\n",
              "      <td>...</td>\n",
              "      <td>...</td>\n",
              "      <td>...</td>\n",
              "      <td>...</td>\n",
              "      <td>...</td>\n",
              "      <td>...</td>\n",
              "    </tr>\n",
              "    <tr>\n",
              "      <th>54209</th>\n",
              "      <td>581585</td>\n",
              "      <td>84832</td>\n",
              "      <td>ZINC WILLIE WINKIE  CANDLE STICK</td>\n",
              "      <td>24</td>\n",
              "      <td>2011-12-09 12:31:00</td>\n",
              "      <td>0.85</td>\n",
              "      <td>15804</td>\n",
              "      <td>United Kingdom</td>\n",
              "    </tr>\n",
              "    <tr>\n",
              "      <th>54210</th>\n",
              "      <td>581585</td>\n",
              "      <td>23084</td>\n",
              "      <td>RABBIT NIGHT LIGHT</td>\n",
              "      <td>12</td>\n",
              "      <td>2011-12-09 12:31:00</td>\n",
              "      <td>2.08</td>\n",
              "      <td>15804</td>\n",
              "      <td>United Kingdom</td>\n",
              "    </tr>\n",
              "    <tr>\n",
              "      <th>54211</th>\n",
              "      <td>581585</td>\n",
              "      <td>84692</td>\n",
              "      <td>BOX OF 24 COCKTAIL PARASOLS</td>\n",
              "      <td>25</td>\n",
              "      <td>2011-12-09 12:31:00</td>\n",
              "      <td>0.42</td>\n",
              "      <td>15804</td>\n",
              "      <td>United Kingdom</td>\n",
              "    </tr>\n",
              "    <tr>\n",
              "      <th>54212</th>\n",
              "      <td>581587</td>\n",
              "      <td>22631</td>\n",
              "      <td>CIRCUS PARADE LUNCH BOX</td>\n",
              "      <td>12</td>\n",
              "      <td>2011-12-09 12:50:00</td>\n",
              "      <td>1.95</td>\n",
              "      <td>12680</td>\n",
              "      <td>France</td>\n",
              "    </tr>\n",
              "    <tr>\n",
              "      <th>54213</th>\n",
              "      <td>581587</td>\n",
              "      <td>23255</td>\n",
              "      <td>CHILDRENS CUTLERY CIRCUS PARADE</td>\n",
              "      <td>4</td>\n",
              "      <td>2011-12-09 12:50:00</td>\n",
              "      <td>4.15</td>\n",
              "      <td>12680</td>\n",
              "      <td>France</td>\n",
              "    </tr>\n",
              "  </tbody>\n",
              "</table>\n",
              "<p>54080 rows × 8 columns</p>\n",
              "</div>"
            ],
            "text/plain": [
              "      InvoiceNo StockCode  ... CustomerID         Country\n",
              "0        536365    84029E  ...      17850  United Kingdom\n",
              "1        536367     84879  ...      13047  United Kingdom\n",
              "2        536367     21755  ...      13047  United Kingdom\n",
              "3        536368     22914  ...      13047  United Kingdom\n",
              "4        536373    84406B  ...      17850  United Kingdom\n",
              "...         ...       ...  ...        ...             ...\n",
              "54209    581585     84832  ...      15804  United Kingdom\n",
              "54210    581585     23084  ...      15804  United Kingdom\n",
              "54211    581585     84692  ...      15804  United Kingdom\n",
              "54212    581587     22631  ...      12680          France\n",
              "54213    581587     23255  ...      12680          France\n",
              "\n",
              "[54080 rows x 8 columns]"
            ]
          },
          "metadata": {
            "tags": []
          },
          "execution_count": 15
        }
      ]
    },
    {
      "cell_type": "code",
      "metadata": {
        "colab": {
          "base_uri": "https://localhost:8080/",
          "height": 49
        },
        "id": "DhSUnSXDTUA2",
        "outputId": "0435006f-4634-41df-ac01-dc79b6efad60"
      },
      "source": [
        "df[df['Description'].isnull()]"
      ],
      "execution_count": null,
      "outputs": [
        {
          "output_type": "execute_result",
          "data": {
            "text/html": [
              "<div>\n",
              "<style scoped>\n",
              "    .dataframe tbody tr th:only-of-type {\n",
              "        vertical-align: middle;\n",
              "    }\n",
              "\n",
              "    .dataframe tbody tr th {\n",
              "        vertical-align: top;\n",
              "    }\n",
              "\n",
              "    .dataframe thead th {\n",
              "        text-align: right;\n",
              "    }\n",
              "</style>\n",
              "<table border=\"1\" class=\"dataframe\">\n",
              "  <thead>\n",
              "    <tr style=\"text-align: right;\">\n",
              "      <th></th>\n",
              "      <th>InvoiceNo</th>\n",
              "      <th>StockCode</th>\n",
              "      <th>Description</th>\n",
              "      <th>Quantity</th>\n",
              "      <th>InvoiceDate</th>\n",
              "      <th>UnitPrice</th>\n",
              "      <th>CustomerID</th>\n",
              "      <th>Country</th>\n",
              "    </tr>\n",
              "  </thead>\n",
              "  <tbody>\n",
              "  </tbody>\n",
              "</table>\n",
              "</div>"
            ],
            "text/plain": [
              "Empty DataFrame\n",
              "Columns: [InvoiceNo, StockCode, Description, Quantity, InvoiceDate, UnitPrice, CustomerID, Country]\n",
              "Index: []"
            ]
          },
          "metadata": {
            "tags": []
          },
          "execution_count": 16
        }
      ]
    },
    {
      "cell_type": "code",
      "metadata": {
        "colab": {
          "base_uri": "https://localhost:8080/",
          "height": 417
        },
        "id": "NwyY5IC3v0Rl",
        "outputId": "14409d78-95e3-49c4-a59c-3eb2c0d4b8d9"
      },
      "source": [
        "df[df['CustomerID'].isnull()]"
      ],
      "execution_count": null,
      "outputs": [
        {
          "output_type": "execute_result",
          "data": {
            "text/html": [
              "<div>\n",
              "<style scoped>\n",
              "    .dataframe tbody tr th:only-of-type {\n",
              "        vertical-align: middle;\n",
              "    }\n",
              "\n",
              "    .dataframe tbody tr th {\n",
              "        vertical-align: top;\n",
              "    }\n",
              "\n",
              "    .dataframe thead th {\n",
              "        text-align: right;\n",
              "    }\n",
              "</style>\n",
              "<table border=\"1\" class=\"dataframe\">\n",
              "  <thead>\n",
              "    <tr style=\"text-align: right;\">\n",
              "      <th></th>\n",
              "      <th>InvoiceNo</th>\n",
              "      <th>StockCode</th>\n",
              "      <th>Description</th>\n",
              "      <th>Quantity</th>\n",
              "      <th>InvoiceDate</th>\n",
              "      <th>UnitPrice</th>\n",
              "      <th>CustomerID</th>\n",
              "      <th>Country</th>\n",
              "    </tr>\n",
              "  </thead>\n",
              "  <tbody>\n",
              "    <tr>\n",
              "      <th>158</th>\n",
              "      <td>536544</td>\n",
              "      <td>21809</td>\n",
              "      <td>CHRISTMAS HANGING TREE WITH BELL</td>\n",
              "      <td>1</td>\n",
              "      <td>2010-12-01 14:32:00</td>\n",
              "      <td>2.51</td>\n",
              "      <td>NaN</td>\n",
              "      <td>United Kingdom</td>\n",
              "    </tr>\n",
              "    <tr>\n",
              "      <th>159</th>\n",
              "      <td>536544</td>\n",
              "      <td>21870</td>\n",
              "      <td>I CAN ONLY PLEASE ONE PERSON MUG</td>\n",
              "      <td>1</td>\n",
              "      <td>2010-12-01 14:32:00</td>\n",
              "      <td>3.36</td>\n",
              "      <td>NaN</td>\n",
              "      <td>United Kingdom</td>\n",
              "    </tr>\n",
              "    <tr>\n",
              "      <th>160</th>\n",
              "      <td>536544</td>\n",
              "      <td>21879</td>\n",
              "      <td>HEARTS GIFT TAPE</td>\n",
              "      <td>1</td>\n",
              "      <td>2010-12-01 14:32:00</td>\n",
              "      <td>1.66</td>\n",
              "      <td>NaN</td>\n",
              "      <td>United Kingdom</td>\n",
              "    </tr>\n",
              "    <tr>\n",
              "      <th>161</th>\n",
              "      <td>536544</td>\n",
              "      <td>21928</td>\n",
              "      <td>JUMBO BAG SCANDINAVIAN PAISLEY</td>\n",
              "      <td>1</td>\n",
              "      <td>2010-12-01 14:32:00</td>\n",
              "      <td>4.21</td>\n",
              "      <td>NaN</td>\n",
              "      <td>United Kingdom</td>\n",
              "    </tr>\n",
              "    <tr>\n",
              "      <th>162</th>\n",
              "      <td>536544</td>\n",
              "      <td>22069</td>\n",
              "      <td>BROWN  PIRATE TREASURE CHEST</td>\n",
              "      <td>1</td>\n",
              "      <td>2010-12-01 14:32:00</td>\n",
              "      <td>3.36</td>\n",
              "      <td>NaN</td>\n",
              "      <td>United Kingdom</td>\n",
              "    </tr>\n",
              "    <tr>\n",
              "      <th>...</th>\n",
              "      <td>...</td>\n",
              "      <td>...</td>\n",
              "      <td>...</td>\n",
              "      <td>...</td>\n",
              "      <td>...</td>\n",
              "      <td>...</td>\n",
              "      <td>...</td>\n",
              "      <td>...</td>\n",
              "    </tr>\n",
              "    <tr>\n",
              "      <th>54161</th>\n",
              "      <td>581498</td>\n",
              "      <td>48138</td>\n",
              "      <td>DOORMAT UNION FLAG</td>\n",
              "      <td>1</td>\n",
              "      <td>2011-12-09 10:26:00</td>\n",
              "      <td>14.13</td>\n",
              "      <td>NaN</td>\n",
              "      <td>United Kingdom</td>\n",
              "    </tr>\n",
              "    <tr>\n",
              "      <th>54162</th>\n",
              "      <td>581498</td>\n",
              "      <td>82482</td>\n",
              "      <td>WOODEN PICTURE FRAME WHITE FINISH</td>\n",
              "      <td>4</td>\n",
              "      <td>2011-12-09 10:26:00</td>\n",
              "      <td>4.96</td>\n",
              "      <td>NaN</td>\n",
              "      <td>United Kingdom</td>\n",
              "    </tr>\n",
              "    <tr>\n",
              "      <th>54163</th>\n",
              "      <td>581498</td>\n",
              "      <td>84032A</td>\n",
              "      <td>CHARLIE+LOLA PINK HOT WATER BOTTLE</td>\n",
              "      <td>4</td>\n",
              "      <td>2011-12-09 10:26:00</td>\n",
              "      <td>5.79</td>\n",
              "      <td>NaN</td>\n",
              "      <td>United Kingdom</td>\n",
              "    </tr>\n",
              "    <tr>\n",
              "      <th>54164</th>\n",
              "      <td>581498</td>\n",
              "      <td>84558a</td>\n",
              "      <td>3D DOG PICTURE PLAYING CARDS</td>\n",
              "      <td>1</td>\n",
              "      <td>2011-12-09 10:26:00</td>\n",
              "      <td>5.79</td>\n",
              "      <td>NaN</td>\n",
              "      <td>United Kingdom</td>\n",
              "    </tr>\n",
              "    <tr>\n",
              "      <th>54165</th>\n",
              "      <td>581498</td>\n",
              "      <td>85150</td>\n",
              "      <td>LADIES &amp; GENTLEMEN METAL SIGN</td>\n",
              "      <td>1</td>\n",
              "      <td>2011-12-09 10:26:00</td>\n",
              "      <td>4.96</td>\n",
              "      <td>NaN</td>\n",
              "      <td>United Kingdom</td>\n",
              "    </tr>\n",
              "  </tbody>\n",
              "</table>\n",
              "<p>13437 rows × 8 columns</p>\n",
              "</div>"
            ],
            "text/plain": [
              "      InvoiceNo StockCode  ... CustomerID         Country\n",
              "158      536544     21809  ...        NaN  United Kingdom\n",
              "159      536544     21870  ...        NaN  United Kingdom\n",
              "160      536544     21879  ...        NaN  United Kingdom\n",
              "161      536544     21928  ...        NaN  United Kingdom\n",
              "162      536544     22069  ...        NaN  United Kingdom\n",
              "...         ...       ...  ...        ...             ...\n",
              "54161    581498     48138  ...        NaN  United Kingdom\n",
              "54162    581498     82482  ...        NaN  United Kingdom\n",
              "54163    581498    84032A  ...        NaN  United Kingdom\n",
              "54164    581498    84558a  ...        NaN  United Kingdom\n",
              "54165    581498     85150  ...        NaN  United Kingdom\n",
              "\n",
              "[13437 rows x 8 columns]"
            ]
          },
          "metadata": {
            "tags": []
          },
          "execution_count": 17
        }
      ]
    },
    {
      "cell_type": "code",
      "metadata": {
        "colab": {
          "base_uri": "https://localhost:8080/"
        },
        "id": "iWhXazo3wSCl",
        "outputId": "1af46af5-002d-4fea-9d32-ef4482e200a9"
      },
      "source": [
        "df[df['CustomerID'].isnull()].count()"
      ],
      "execution_count": null,
      "outputs": [
        {
          "output_type": "execute_result",
          "data": {
            "text/plain": [
              "InvoiceNo      13437\n",
              "StockCode      13437\n",
              "Description    13437\n",
              "Quantity       13437\n",
              "InvoiceDate    13437\n",
              "UnitPrice      13437\n",
              "CustomerID         0\n",
              "Country        13437\n",
              "dtype: int64"
            ]
          },
          "metadata": {
            "tags": []
          },
          "execution_count": 18
        }
      ]
    },
    {
      "cell_type": "markdown",
      "metadata": {
        "id": "9jrA5Po0xboH"
      },
      "source": [
        "25% от первоначальных данных по столбцу CustomerID не заполнено, предполагаю, что покупки совершены незарегистрированными пользователями, заполню пропуски значением unregistered\n",
        "\n"
      ]
    },
    {
      "cell_type": "code",
      "metadata": {
        "id": "1Zdp2q7RwG3l"
      },
      "source": [
        "df['CustomerID'].fillna('unregistered', inplace=True)"
      ],
      "execution_count": null,
      "outputs": []
    },
    {
      "cell_type": "code",
      "metadata": {
        "colab": {
          "base_uri": "https://localhost:8080/",
          "height": 417
        },
        "id": "04EJxAgUwadF",
        "outputId": "aa2587d2-71c4-4c5a-87c8-6840e40061eb"
      },
      "source": [
        "df"
      ],
      "execution_count": null,
      "outputs": [
        {
          "output_type": "execute_result",
          "data": {
            "text/html": [
              "<div>\n",
              "<style scoped>\n",
              "    .dataframe tbody tr th:only-of-type {\n",
              "        vertical-align: middle;\n",
              "    }\n",
              "\n",
              "    .dataframe tbody tr th {\n",
              "        vertical-align: top;\n",
              "    }\n",
              "\n",
              "    .dataframe thead th {\n",
              "        text-align: right;\n",
              "    }\n",
              "</style>\n",
              "<table border=\"1\" class=\"dataframe\">\n",
              "  <thead>\n",
              "    <tr style=\"text-align: right;\">\n",
              "      <th></th>\n",
              "      <th>InvoiceNo</th>\n",
              "      <th>StockCode</th>\n",
              "      <th>Description</th>\n",
              "      <th>Quantity</th>\n",
              "      <th>InvoiceDate</th>\n",
              "      <th>UnitPrice</th>\n",
              "      <th>CustomerID</th>\n",
              "      <th>Country</th>\n",
              "    </tr>\n",
              "  </thead>\n",
              "  <tbody>\n",
              "    <tr>\n",
              "      <th>0</th>\n",
              "      <td>536365</td>\n",
              "      <td>84029E</td>\n",
              "      <td>RED WOOLLY HOTTIE WHITE HEART.</td>\n",
              "      <td>6</td>\n",
              "      <td>2010-12-01 08:26:00</td>\n",
              "      <td>3.39</td>\n",
              "      <td>17850</td>\n",
              "      <td>United Kingdom</td>\n",
              "    </tr>\n",
              "    <tr>\n",
              "      <th>1</th>\n",
              "      <td>536367</td>\n",
              "      <td>84879</td>\n",
              "      <td>ASSORTED COLOUR BIRD ORNAMENT</td>\n",
              "      <td>32</td>\n",
              "      <td>2010-12-01 08:34:00</td>\n",
              "      <td>1.69</td>\n",
              "      <td>13047</td>\n",
              "      <td>United Kingdom</td>\n",
              "    </tr>\n",
              "    <tr>\n",
              "      <th>2</th>\n",
              "      <td>536367</td>\n",
              "      <td>21755</td>\n",
              "      <td>LOVE BUILDING BLOCK WORD</td>\n",
              "      <td>3</td>\n",
              "      <td>2010-12-01 08:34:00</td>\n",
              "      <td>5.95</td>\n",
              "      <td>13047</td>\n",
              "      <td>United Kingdom</td>\n",
              "    </tr>\n",
              "    <tr>\n",
              "      <th>3</th>\n",
              "      <td>536368</td>\n",
              "      <td>22914</td>\n",
              "      <td>BLUE COAT RACK PARIS FASHION</td>\n",
              "      <td>3</td>\n",
              "      <td>2010-12-01 08:34:00</td>\n",
              "      <td>4.95</td>\n",
              "      <td>13047</td>\n",
              "      <td>United Kingdom</td>\n",
              "    </tr>\n",
              "    <tr>\n",
              "      <th>4</th>\n",
              "      <td>536373</td>\n",
              "      <td>84406B</td>\n",
              "      <td>CREAM CUPID HEARTS COAT HANGER</td>\n",
              "      <td>8</td>\n",
              "      <td>2010-12-01 09:02:00</td>\n",
              "      <td>2.75</td>\n",
              "      <td>17850</td>\n",
              "      <td>United Kingdom</td>\n",
              "    </tr>\n",
              "    <tr>\n",
              "      <th>...</th>\n",
              "      <td>...</td>\n",
              "      <td>...</td>\n",
              "      <td>...</td>\n",
              "      <td>...</td>\n",
              "      <td>...</td>\n",
              "      <td>...</td>\n",
              "      <td>...</td>\n",
              "      <td>...</td>\n",
              "    </tr>\n",
              "    <tr>\n",
              "      <th>54209</th>\n",
              "      <td>581585</td>\n",
              "      <td>84832</td>\n",
              "      <td>ZINC WILLIE WINKIE  CANDLE STICK</td>\n",
              "      <td>24</td>\n",
              "      <td>2011-12-09 12:31:00</td>\n",
              "      <td>0.85</td>\n",
              "      <td>15804</td>\n",
              "      <td>United Kingdom</td>\n",
              "    </tr>\n",
              "    <tr>\n",
              "      <th>54210</th>\n",
              "      <td>581585</td>\n",
              "      <td>23084</td>\n",
              "      <td>RABBIT NIGHT LIGHT</td>\n",
              "      <td>12</td>\n",
              "      <td>2011-12-09 12:31:00</td>\n",
              "      <td>2.08</td>\n",
              "      <td>15804</td>\n",
              "      <td>United Kingdom</td>\n",
              "    </tr>\n",
              "    <tr>\n",
              "      <th>54211</th>\n",
              "      <td>581585</td>\n",
              "      <td>84692</td>\n",
              "      <td>BOX OF 24 COCKTAIL PARASOLS</td>\n",
              "      <td>25</td>\n",
              "      <td>2011-12-09 12:31:00</td>\n",
              "      <td>0.42</td>\n",
              "      <td>15804</td>\n",
              "      <td>United Kingdom</td>\n",
              "    </tr>\n",
              "    <tr>\n",
              "      <th>54212</th>\n",
              "      <td>581587</td>\n",
              "      <td>22631</td>\n",
              "      <td>CIRCUS PARADE LUNCH BOX</td>\n",
              "      <td>12</td>\n",
              "      <td>2011-12-09 12:50:00</td>\n",
              "      <td>1.95</td>\n",
              "      <td>12680</td>\n",
              "      <td>France</td>\n",
              "    </tr>\n",
              "    <tr>\n",
              "      <th>54213</th>\n",
              "      <td>581587</td>\n",
              "      <td>23255</td>\n",
              "      <td>CHILDRENS CUTLERY CIRCUS PARADE</td>\n",
              "      <td>4</td>\n",
              "      <td>2011-12-09 12:50:00</td>\n",
              "      <td>4.15</td>\n",
              "      <td>12680</td>\n",
              "      <td>France</td>\n",
              "    </tr>\n",
              "  </tbody>\n",
              "</table>\n",
              "<p>54080 rows × 8 columns</p>\n",
              "</div>"
            ],
            "text/plain": [
              "      InvoiceNo StockCode  ... CustomerID         Country\n",
              "0        536365    84029E  ...      17850  United Kingdom\n",
              "1        536367     84879  ...      13047  United Kingdom\n",
              "2        536367     21755  ...      13047  United Kingdom\n",
              "3        536368     22914  ...      13047  United Kingdom\n",
              "4        536373    84406B  ...      17850  United Kingdom\n",
              "...         ...       ...  ...        ...             ...\n",
              "54209    581585     84832  ...      15804  United Kingdom\n",
              "54210    581585     23084  ...      15804  United Kingdom\n",
              "54211    581585     84692  ...      15804  United Kingdom\n",
              "54212    581587     22631  ...      12680          France\n",
              "54213    581587     23255  ...      12680          France\n",
              "\n",
              "[54080 rows x 8 columns]"
            ]
          },
          "metadata": {
            "tags": []
          },
          "execution_count": 20
        }
      ]
    },
    {
      "cell_type": "code",
      "metadata": {
        "colab": {
          "base_uri": "https://localhost:8080/"
        },
        "id": "6-0gtaRbxFTW",
        "outputId": "6ce53741-8032-498a-8e38-772efbd32082"
      },
      "source": [
        "df.info()"
      ],
      "execution_count": null,
      "outputs": [
        {
          "output_type": "stream",
          "text": [
            "<class 'pandas.core.frame.DataFrame'>\n",
            "Int64Index: 54080 entries, 0 to 54213\n",
            "Data columns (total 8 columns):\n",
            " #   Column       Non-Null Count  Dtype         \n",
            "---  ------       --------------  -----         \n",
            " 0   InvoiceNo    54080 non-null  object        \n",
            " 1   StockCode    54080 non-null  object        \n",
            " 2   Description  54080 non-null  object        \n",
            " 3   Quantity     54080 non-null  int64         \n",
            " 4   InvoiceDate  54080 non-null  datetime64[ns]\n",
            " 5   UnitPrice    54080 non-null  float64       \n",
            " 6   CustomerID   54080 non-null  object        \n",
            " 7   Country      54080 non-null  object        \n",
            "dtypes: datetime64[ns](1), float64(1), int64(1), object(5)\n",
            "memory usage: 3.7+ MB\n"
          ],
          "name": "stdout"
        }
      ]
    },
    {
      "cell_type": "code",
      "metadata": {
        "colab": {
          "base_uri": "https://localhost:8080/",
          "height": 49
        },
        "id": "DUfic76uxvRt",
        "outputId": "e23e2919-e62a-480f-b4d0-0af59b19f718"
      },
      "source": [
        "df[df['UnitPrice']<0]"
      ],
      "execution_count": null,
      "outputs": [
        {
          "output_type": "execute_result",
          "data": {
            "text/html": [
              "<div>\n",
              "<style scoped>\n",
              "    .dataframe tbody tr th:only-of-type {\n",
              "        vertical-align: middle;\n",
              "    }\n",
              "\n",
              "    .dataframe tbody tr th {\n",
              "        vertical-align: top;\n",
              "    }\n",
              "\n",
              "    .dataframe thead th {\n",
              "        text-align: right;\n",
              "    }\n",
              "</style>\n",
              "<table border=\"1\" class=\"dataframe\">\n",
              "  <thead>\n",
              "    <tr style=\"text-align: right;\">\n",
              "      <th></th>\n",
              "      <th>InvoiceNo</th>\n",
              "      <th>StockCode</th>\n",
              "      <th>Description</th>\n",
              "      <th>Quantity</th>\n",
              "      <th>InvoiceDate</th>\n",
              "      <th>UnitPrice</th>\n",
              "      <th>CustomerID</th>\n",
              "      <th>Country</th>\n",
              "    </tr>\n",
              "  </thead>\n",
              "  <tbody>\n",
              "  </tbody>\n",
              "</table>\n",
              "</div>"
            ],
            "text/plain": [
              "Empty DataFrame\n",
              "Columns: [InvoiceNo, StockCode, Description, Quantity, InvoiceDate, UnitPrice, CustomerID, Country]\n",
              "Index: []"
            ]
          },
          "metadata": {
            "tags": []
          },
          "execution_count": 22
        }
      ]
    },
    {
      "cell_type": "code",
      "metadata": {
        "colab": {
          "base_uri": "https://localhost:8080/",
          "height": 417
        },
        "id": "e-h3mrXux9K-",
        "outputId": "bef1edbc-494d-47d4-cd98-ff5f25f5f962"
      },
      "source": [
        "df[df['UnitPrice']==0]"
      ],
      "execution_count": null,
      "outputs": [
        {
          "output_type": "execute_result",
          "data": {
            "text/html": [
              "<div>\n",
              "<style scoped>\n",
              "    .dataframe tbody tr th:only-of-type {\n",
              "        vertical-align: middle;\n",
              "    }\n",
              "\n",
              "    .dataframe tbody tr th {\n",
              "        vertical-align: top;\n",
              "    }\n",
              "\n",
              "    .dataframe thead th {\n",
              "        text-align: right;\n",
              "    }\n",
              "</style>\n",
              "<table border=\"1\" class=\"dataframe\">\n",
              "  <thead>\n",
              "    <tr style=\"text-align: right;\">\n",
              "      <th></th>\n",
              "      <th>InvoiceNo</th>\n",
              "      <th>StockCode</th>\n",
              "      <th>Description</th>\n",
              "      <th>Quantity</th>\n",
              "      <th>InvoiceDate</th>\n",
              "      <th>UnitPrice</th>\n",
              "      <th>CustomerID</th>\n",
              "      <th>Country</th>\n",
              "    </tr>\n",
              "  </thead>\n",
              "  <tbody>\n",
              "    <tr>\n",
              "      <th>1424</th>\n",
              "      <td>537534</td>\n",
              "      <td>85064</td>\n",
              "      <td>CREAM SWEETHEART LETTER RACK</td>\n",
              "      <td>1</td>\n",
              "      <td>2010-12-07 11:48:00</td>\n",
              "      <td>0.0</td>\n",
              "      <td>unregistered</td>\n",
              "      <td>United Kingdom</td>\n",
              "    </tr>\n",
              "    <tr>\n",
              "      <th>1425</th>\n",
              "      <td>537534</td>\n",
              "      <td>22681</td>\n",
              "      <td>FRENCH BLUE METAL DOOR SIGN 6</td>\n",
              "      <td>2</td>\n",
              "      <td>2010-12-07 11:48:00</td>\n",
              "      <td>0.0</td>\n",
              "      <td>unregistered</td>\n",
              "      <td>United Kingdom</td>\n",
              "    </tr>\n",
              "    <tr>\n",
              "      <th>1426</th>\n",
              "      <td>537534</td>\n",
              "      <td>22520</td>\n",
              "      <td>CHILDS GARDEN TROWEL BLUE</td>\n",
              "      <td>1</td>\n",
              "      <td>2010-12-07 11:48:00</td>\n",
              "      <td>0.0</td>\n",
              "      <td>unregistered</td>\n",
              "      <td>United Kingdom</td>\n",
              "    </tr>\n",
              "    <tr>\n",
              "      <th>1427</th>\n",
              "      <td>537534</td>\n",
              "      <td>22371</td>\n",
              "      <td>AIRLINE BAG VINTAGE TOKYO 78</td>\n",
              "      <td>5</td>\n",
              "      <td>2010-12-07 11:48:00</td>\n",
              "      <td>0.0</td>\n",
              "      <td>unregistered</td>\n",
              "      <td>United Kingdom</td>\n",
              "    </tr>\n",
              "    <tr>\n",
              "      <th>1428</th>\n",
              "      <td>537534</td>\n",
              "      <td>21912</td>\n",
              "      <td>VINTAGE SNAKES &amp; LADDERS</td>\n",
              "      <td>1</td>\n",
              "      <td>2010-12-07 11:48:00</td>\n",
              "      <td>0.0</td>\n",
              "      <td>unregistered</td>\n",
              "      <td>United Kingdom</td>\n",
              "    </tr>\n",
              "    <tr>\n",
              "      <th>...</th>\n",
              "      <td>...</td>\n",
              "      <td>...</td>\n",
              "      <td>...</td>\n",
              "      <td>...</td>\n",
              "      <td>...</td>\n",
              "      <td>...</td>\n",
              "      <td>...</td>\n",
              "      <td>...</td>\n",
              "    </tr>\n",
              "    <tr>\n",
              "      <th>51407</th>\n",
              "      <td>579563</td>\n",
              "      <td>85135C</td>\n",
              "      <td>found</td>\n",
              "      <td>36</td>\n",
              "      <td>2011-11-30 11:41:00</td>\n",
              "      <td>0.0</td>\n",
              "      <td>unregistered</td>\n",
              "      <td>United Kingdom</td>\n",
              "    </tr>\n",
              "    <tr>\n",
              "      <th>51498</th>\n",
              "      <td>579732</td>\n",
              "      <td>35648</td>\n",
              "      <td>check</td>\n",
              "      <td>-10</td>\n",
              "      <td>2011-11-30 14:24:00</td>\n",
              "      <td>0.0</td>\n",
              "      <td>unregistered</td>\n",
              "      <td>United Kingdom</td>\n",
              "    </tr>\n",
              "    <tr>\n",
              "      <th>51508</th>\n",
              "      <td>579743</td>\n",
              "      <td>21810</td>\n",
              "      <td>check</td>\n",
              "      <td>-135</td>\n",
              "      <td>2011-11-30 14:36:00</td>\n",
              "      <td>0.0</td>\n",
              "      <td>unregistered</td>\n",
              "      <td>United Kingdom</td>\n",
              "    </tr>\n",
              "    <tr>\n",
              "      <th>53536</th>\n",
              "      <td>581207</td>\n",
              "      <td>21688</td>\n",
              "      <td>mixed up</td>\n",
              "      <td>-337</td>\n",
              "      <td>2011-12-07 18:34:00</td>\n",
              "      <td>0.0</td>\n",
              "      <td>unregistered</td>\n",
              "      <td>United Kingdom</td>\n",
              "    </tr>\n",
              "    <tr>\n",
              "      <th>53702</th>\n",
              "      <td>581226</td>\n",
              "      <td>23090</td>\n",
              "      <td>missing</td>\n",
              "      <td>-338</td>\n",
              "      <td>2011-12-08 09:56:00</td>\n",
              "      <td>0.0</td>\n",
              "      <td>unregistered</td>\n",
              "      <td>United Kingdom</td>\n",
              "    </tr>\n",
              "  </tbody>\n",
              "</table>\n",
              "<p>91 rows × 8 columns</p>\n",
              "</div>"
            ],
            "text/plain": [
              "      InvoiceNo StockCode  ...    CustomerID         Country\n",
              "1424     537534     85064  ...  unregistered  United Kingdom\n",
              "1425     537534     22681  ...  unregistered  United Kingdom\n",
              "1426     537534     22520  ...  unregistered  United Kingdom\n",
              "1427     537534     22371  ...  unregistered  United Kingdom\n",
              "1428     537534     21912  ...  unregistered  United Kingdom\n",
              "...         ...       ...  ...           ...             ...\n",
              "51407    579563    85135C  ...  unregistered  United Kingdom\n",
              "51498    579732     35648  ...  unregistered  United Kingdom\n",
              "51508    579743     21810  ...  unregistered  United Kingdom\n",
              "53536    581207     21688  ...  unregistered  United Kingdom\n",
              "53702    581226     23090  ...  unregistered  United Kingdom\n",
              "\n",
              "[91 rows x 8 columns]"
            ]
          },
          "metadata": {
            "tags": []
          },
          "execution_count": 23
        }
      ]
    },
    {
      "cell_type": "markdown",
      "metadata": {
        "id": "sPQ8vfaQUary"
      },
      "source": [
        "Как видим 91 строка с нулевыми ценами товаров еще осталась, кроме того в столбце Description ест строки где вместо описания товара посторонние записи и минусовые цены. Удаляю."
      ]
    },
    {
      "cell_type": "code",
      "metadata": {
        "id": "32ogb_FVVFw4"
      },
      "source": [
        "df.drop(df[df['UnitPrice']==0].index, axis = 0, inplace=True)"
      ],
      "execution_count": null,
      "outputs": []
    },
    {
      "cell_type": "code",
      "metadata": {
        "colab": {
          "base_uri": "https://localhost:8080/"
        },
        "id": "7p5NrOkoVKZ9",
        "outputId": "675d1549-2799-4e03-daba-bbb66c541d8a"
      },
      "source": [
        "df.info()"
      ],
      "execution_count": null,
      "outputs": [
        {
          "output_type": "stream",
          "text": [
            "<class 'pandas.core.frame.DataFrame'>\n",
            "Int64Index: 53989 entries, 0 to 54213\n",
            "Data columns (total 8 columns):\n",
            " #   Column       Non-Null Count  Dtype         \n",
            "---  ------       --------------  -----         \n",
            " 0   InvoiceNo    53989 non-null  object        \n",
            " 1   StockCode    53989 non-null  object        \n",
            " 2   Description  53989 non-null  object        \n",
            " 3   Quantity     53989 non-null  int64         \n",
            " 4   InvoiceDate  53989 non-null  datetime64[ns]\n",
            " 5   UnitPrice    53989 non-null  float64       \n",
            " 6   CustomerID   53989 non-null  object        \n",
            " 7   Country      53989 non-null  object        \n",
            "dtypes: datetime64[ns](1), float64(1), int64(1), object(5)\n",
            "memory usage: 3.7+ MB\n"
          ],
          "name": "stdout"
        }
      ]
    },
    {
      "cell_type": "code",
      "metadata": {
        "colab": {
          "base_uri": "https://localhost:8080/"
        },
        "id": "ALGhlkHDyNEV",
        "outputId": "510ab63d-5112-41be-f754-aba2b175d8bb"
      },
      "source": [
        "df[df['UnitPrice']==0].count()"
      ],
      "execution_count": null,
      "outputs": [
        {
          "output_type": "execute_result",
          "data": {
            "text/plain": [
              "InvoiceNo      0\n",
              "StockCode      0\n",
              "Description    0\n",
              "Quantity       0\n",
              "InvoiceDate    0\n",
              "UnitPrice      0\n",
              "CustomerID     0\n",
              "Country        0\n",
              "dtype: int64"
            ]
          },
          "metadata": {
            "tags": []
          },
          "execution_count": 26
        }
      ]
    },
    {
      "cell_type": "code",
      "metadata": {
        "colab": {
          "base_uri": "https://localhost:8080/",
          "height": 417
        },
        "id": "BEPy0aQFy0iW",
        "outputId": "b3e8e2f4-9b00-486c-d6d5-37988a9d6c68"
      },
      "source": [
        "df[df['Quantity']<0]"
      ],
      "execution_count": null,
      "outputs": [
        {
          "output_type": "execute_result",
          "data": {
            "text/html": [
              "<div>\n",
              "<style scoped>\n",
              "    .dataframe tbody tr th:only-of-type {\n",
              "        vertical-align: middle;\n",
              "    }\n",
              "\n",
              "    .dataframe tbody tr th {\n",
              "        vertical-align: top;\n",
              "    }\n",
              "\n",
              "    .dataframe thead th {\n",
              "        text-align: right;\n",
              "    }\n",
              "</style>\n",
              "<table border=\"1\" class=\"dataframe\">\n",
              "  <thead>\n",
              "    <tr style=\"text-align: right;\">\n",
              "      <th></th>\n",
              "      <th>InvoiceNo</th>\n",
              "      <th>StockCode</th>\n",
              "      <th>Description</th>\n",
              "      <th>Quantity</th>\n",
              "      <th>InvoiceDate</th>\n",
              "      <th>UnitPrice</th>\n",
              "      <th>CustomerID</th>\n",
              "      <th>Country</th>\n",
              "    </tr>\n",
              "  </thead>\n",
              "  <tbody>\n",
              "    <tr>\n",
              "      <th>19</th>\n",
              "      <td>C536383</td>\n",
              "      <td>35004C</td>\n",
              "      <td>SET OF 3 COLOURED  FLYING DUCKS</td>\n",
              "      <td>-1</td>\n",
              "      <td>2010-12-01 09:49:00</td>\n",
              "      <td>4.65</td>\n",
              "      <td>15311</td>\n",
              "      <td>United Kingdom</td>\n",
              "    </tr>\n",
              "    <tr>\n",
              "      <th>30</th>\n",
              "      <td>C536391</td>\n",
              "      <td>21983</td>\n",
              "      <td>PACK OF 12 BLUE PAISLEY TISSUES</td>\n",
              "      <td>-24</td>\n",
              "      <td>2010-12-01 10:24:00</td>\n",
              "      <td>0.29</td>\n",
              "      <td>17548</td>\n",
              "      <td>United Kingdom</td>\n",
              "    </tr>\n",
              "    <tr>\n",
              "      <th>31</th>\n",
              "      <td>C536391</td>\n",
              "      <td>21980</td>\n",
              "      <td>PACK OF 12 RED RETROSPOT TISSUES</td>\n",
              "      <td>-24</td>\n",
              "      <td>2010-12-01 10:24:00</td>\n",
              "      <td>0.29</td>\n",
              "      <td>17548</td>\n",
              "      <td>United Kingdom</td>\n",
              "    </tr>\n",
              "    <tr>\n",
              "      <th>202</th>\n",
              "      <td>C536548</td>\n",
              "      <td>20957</td>\n",
              "      <td>PORCELAIN HANGING BELL SMALL</td>\n",
              "      <td>-1</td>\n",
              "      <td>2010-12-01 14:33:00</td>\n",
              "      <td>1.45</td>\n",
              "      <td>12472</td>\n",
              "      <td>Germany</td>\n",
              "    </tr>\n",
              "    <tr>\n",
              "      <th>375</th>\n",
              "      <td>C536642</td>\n",
              "      <td>21463</td>\n",
              "      <td>MIRRORED DISCO BALL</td>\n",
              "      <td>-1</td>\n",
              "      <td>2010-12-02 11:56:00</td>\n",
              "      <td>5.95</td>\n",
              "      <td>14390</td>\n",
              "      <td>United Kingdom</td>\n",
              "    </tr>\n",
              "    <tr>\n",
              "      <th>...</th>\n",
              "      <td>...</td>\n",
              "      <td>...</td>\n",
              "      <td>...</td>\n",
              "      <td>...</td>\n",
              "      <td>...</td>\n",
              "      <td>...</td>\n",
              "      <td>...</td>\n",
              "      <td>...</td>\n",
              "    </tr>\n",
              "    <tr>\n",
              "      <th>53704</th>\n",
              "      <td>C581229</td>\n",
              "      <td>79191C</td>\n",
              "      <td>RETRO PLASTIC ELEPHANT TRAY</td>\n",
              "      <td>-24</td>\n",
              "      <td>2011-12-08 10:14:00</td>\n",
              "      <td>0.85</td>\n",
              "      <td>12558</td>\n",
              "      <td>USA</td>\n",
              "    </tr>\n",
              "    <tr>\n",
              "      <th>53705</th>\n",
              "      <td>C581229</td>\n",
              "      <td>21507</td>\n",
              "      <td>ELEPHANT BIRTHDAY CARD</td>\n",
              "      <td>-12</td>\n",
              "      <td>2011-12-08 10:14:00</td>\n",
              "      <td>0.42</td>\n",
              "      <td>12558</td>\n",
              "      <td>USA</td>\n",
              "    </tr>\n",
              "    <tr>\n",
              "      <th>53765</th>\n",
              "      <td>C581322</td>\n",
              "      <td>22666</td>\n",
              "      <td>RECIPE BOX PANTRY YELLOW DESIGN</td>\n",
              "      <td>-1</td>\n",
              "      <td>2011-12-08 11:51:00</td>\n",
              "      <td>2.95</td>\n",
              "      <td>18223</td>\n",
              "      <td>United Kingdom</td>\n",
              "    </tr>\n",
              "    <tr>\n",
              "      <th>53770</th>\n",
              "      <td>C581330</td>\n",
              "      <td>22959</td>\n",
              "      <td>WRAP CHRISTMAS VILLAGE</td>\n",
              "      <td>-25</td>\n",
              "      <td>2011-12-08 11:57:00</td>\n",
              "      <td>0.42</td>\n",
              "      <td>15877</td>\n",
              "      <td>United Kingdom</td>\n",
              "    </tr>\n",
              "    <tr>\n",
              "      <th>53998</th>\n",
              "      <td>C581465</td>\n",
              "      <td>22171</td>\n",
              "      <td>3 HOOK PHOTO SHELF ANTIQUE WHITE</td>\n",
              "      <td>-1</td>\n",
              "      <td>2011-12-08 18:59:00</td>\n",
              "      <td>8.50</td>\n",
              "      <td>15755</td>\n",
              "      <td>United Kingdom</td>\n",
              "    </tr>\n",
              "  </tbody>\n",
              "</table>\n",
              "<p>960 rows × 8 columns</p>\n",
              "</div>"
            ],
            "text/plain": [
              "      InvoiceNo StockCode  ... CustomerID         Country\n",
              "19      C536383    35004C  ...      15311  United Kingdom\n",
              "30      C536391     21983  ...      17548  United Kingdom\n",
              "31      C536391     21980  ...      17548  United Kingdom\n",
              "202     C536548     20957  ...      12472         Germany\n",
              "375     C536642     21463  ...      14390  United Kingdom\n",
              "...         ...       ...  ...        ...             ...\n",
              "53704   C581229    79191C  ...      12558             USA\n",
              "53705   C581229     21507  ...      12558             USA\n",
              "53765   C581322     22666  ...      18223  United Kingdom\n",
              "53770   C581330     22959  ...      15877  United Kingdom\n",
              "53998   C581465     22171  ...      15755  United Kingdom\n",
              "\n",
              "[960 rows x 8 columns]"
            ]
          },
          "metadata": {
            "tags": []
          },
          "execution_count": 27
        }
      ]
    },
    {
      "cell_type": "code",
      "metadata": {
        "colab": {
          "base_uri": "https://localhost:8080/"
        },
        "id": "WJUL6Wzsy_Xd",
        "outputId": "1e2f2b76-3ef9-4869-a04f-a15fb1ce3509"
      },
      "source": [
        "df[df['Quantity']<0].count()"
      ],
      "execution_count": null,
      "outputs": [
        {
          "output_type": "execute_result",
          "data": {
            "text/plain": [
              "InvoiceNo      960\n",
              "StockCode      960\n",
              "Description    960\n",
              "Quantity       960\n",
              "InvoiceDate    960\n",
              "UnitPrice      960\n",
              "CustomerID     960\n",
              "Country        960\n",
              "dtype: int64"
            ]
          },
          "metadata": {
            "tags": []
          },
          "execution_count": 28
        }
      ]
    },
    {
      "cell_type": "markdown",
      "metadata": {
        "id": "XenqyimszN32"
      },
      "source": [
        "960 строки имеют отрицательное значение в столбце Quantity"
      ]
    },
    {
      "cell_type": "markdown",
      "metadata": {
        "id": "gerLJEXiziBO"
      },
      "source": [
        "Вероятно данные по количеству некорректно записывались.Возможно так записывались возвраты, но проанализировав несколько строк по ID покупателя, не нашла изначально проданных этому покупателю этих наименований товара. Принимаю решение поменять знак на положительный в этих строках."
      ]
    },
    {
      "cell_type": "code",
      "metadata": {
        "id": "fCMFzcztzx8G"
      },
      "source": [
        "def change_sign(d):\n",
        "  if d > 0:\n",
        "    return d\n",
        "  else:\n",
        "    return d*(-1)"
      ],
      "execution_count": null,
      "outputs": []
    },
    {
      "cell_type": "code",
      "metadata": {
        "id": "Hrin33wR0_Jd"
      },
      "source": [
        "df['Quantity'] = df['Quantity'].apply(change_sign)"
      ],
      "execution_count": null,
      "outputs": []
    },
    {
      "cell_type": "code",
      "metadata": {
        "colab": {
          "base_uri": "https://localhost:8080/",
          "height": 417
        },
        "id": "Jx2bKaqY1gf1",
        "outputId": "77a3e69c-2c26-42f1-962c-f37b5d376d92"
      },
      "source": [
        "df"
      ],
      "execution_count": null,
      "outputs": [
        {
          "output_type": "execute_result",
          "data": {
            "text/html": [
              "<div>\n",
              "<style scoped>\n",
              "    .dataframe tbody tr th:only-of-type {\n",
              "        vertical-align: middle;\n",
              "    }\n",
              "\n",
              "    .dataframe tbody tr th {\n",
              "        vertical-align: top;\n",
              "    }\n",
              "\n",
              "    .dataframe thead th {\n",
              "        text-align: right;\n",
              "    }\n",
              "</style>\n",
              "<table border=\"1\" class=\"dataframe\">\n",
              "  <thead>\n",
              "    <tr style=\"text-align: right;\">\n",
              "      <th></th>\n",
              "      <th>InvoiceNo</th>\n",
              "      <th>StockCode</th>\n",
              "      <th>Description</th>\n",
              "      <th>Quantity</th>\n",
              "      <th>InvoiceDate</th>\n",
              "      <th>UnitPrice</th>\n",
              "      <th>CustomerID</th>\n",
              "      <th>Country</th>\n",
              "    </tr>\n",
              "  </thead>\n",
              "  <tbody>\n",
              "    <tr>\n",
              "      <th>0</th>\n",
              "      <td>536365</td>\n",
              "      <td>84029E</td>\n",
              "      <td>RED WOOLLY HOTTIE WHITE HEART.</td>\n",
              "      <td>6</td>\n",
              "      <td>2010-12-01 08:26:00</td>\n",
              "      <td>3.39</td>\n",
              "      <td>17850</td>\n",
              "      <td>United Kingdom</td>\n",
              "    </tr>\n",
              "    <tr>\n",
              "      <th>1</th>\n",
              "      <td>536367</td>\n",
              "      <td>84879</td>\n",
              "      <td>ASSORTED COLOUR BIRD ORNAMENT</td>\n",
              "      <td>32</td>\n",
              "      <td>2010-12-01 08:34:00</td>\n",
              "      <td>1.69</td>\n",
              "      <td>13047</td>\n",
              "      <td>United Kingdom</td>\n",
              "    </tr>\n",
              "    <tr>\n",
              "      <th>2</th>\n",
              "      <td>536367</td>\n",
              "      <td>21755</td>\n",
              "      <td>LOVE BUILDING BLOCK WORD</td>\n",
              "      <td>3</td>\n",
              "      <td>2010-12-01 08:34:00</td>\n",
              "      <td>5.95</td>\n",
              "      <td>13047</td>\n",
              "      <td>United Kingdom</td>\n",
              "    </tr>\n",
              "    <tr>\n",
              "      <th>3</th>\n",
              "      <td>536368</td>\n",
              "      <td>22914</td>\n",
              "      <td>BLUE COAT RACK PARIS FASHION</td>\n",
              "      <td>3</td>\n",
              "      <td>2010-12-01 08:34:00</td>\n",
              "      <td>4.95</td>\n",
              "      <td>13047</td>\n",
              "      <td>United Kingdom</td>\n",
              "    </tr>\n",
              "    <tr>\n",
              "      <th>4</th>\n",
              "      <td>536373</td>\n",
              "      <td>84406B</td>\n",
              "      <td>CREAM CUPID HEARTS COAT HANGER</td>\n",
              "      <td>8</td>\n",
              "      <td>2010-12-01 09:02:00</td>\n",
              "      <td>2.75</td>\n",
              "      <td>17850</td>\n",
              "      <td>United Kingdom</td>\n",
              "    </tr>\n",
              "    <tr>\n",
              "      <th>...</th>\n",
              "      <td>...</td>\n",
              "      <td>...</td>\n",
              "      <td>...</td>\n",
              "      <td>...</td>\n",
              "      <td>...</td>\n",
              "      <td>...</td>\n",
              "      <td>...</td>\n",
              "      <td>...</td>\n",
              "    </tr>\n",
              "    <tr>\n",
              "      <th>54209</th>\n",
              "      <td>581585</td>\n",
              "      <td>84832</td>\n",
              "      <td>ZINC WILLIE WINKIE  CANDLE STICK</td>\n",
              "      <td>24</td>\n",
              "      <td>2011-12-09 12:31:00</td>\n",
              "      <td>0.85</td>\n",
              "      <td>15804</td>\n",
              "      <td>United Kingdom</td>\n",
              "    </tr>\n",
              "    <tr>\n",
              "      <th>54210</th>\n",
              "      <td>581585</td>\n",
              "      <td>23084</td>\n",
              "      <td>RABBIT NIGHT LIGHT</td>\n",
              "      <td>12</td>\n",
              "      <td>2011-12-09 12:31:00</td>\n",
              "      <td>2.08</td>\n",
              "      <td>15804</td>\n",
              "      <td>United Kingdom</td>\n",
              "    </tr>\n",
              "    <tr>\n",
              "      <th>54211</th>\n",
              "      <td>581585</td>\n",
              "      <td>84692</td>\n",
              "      <td>BOX OF 24 COCKTAIL PARASOLS</td>\n",
              "      <td>25</td>\n",
              "      <td>2011-12-09 12:31:00</td>\n",
              "      <td>0.42</td>\n",
              "      <td>15804</td>\n",
              "      <td>United Kingdom</td>\n",
              "    </tr>\n",
              "    <tr>\n",
              "      <th>54212</th>\n",
              "      <td>581587</td>\n",
              "      <td>22631</td>\n",
              "      <td>CIRCUS PARADE LUNCH BOX</td>\n",
              "      <td>12</td>\n",
              "      <td>2011-12-09 12:50:00</td>\n",
              "      <td>1.95</td>\n",
              "      <td>12680</td>\n",
              "      <td>France</td>\n",
              "    </tr>\n",
              "    <tr>\n",
              "      <th>54213</th>\n",
              "      <td>581587</td>\n",
              "      <td>23255</td>\n",
              "      <td>CHILDRENS CUTLERY CIRCUS PARADE</td>\n",
              "      <td>4</td>\n",
              "      <td>2011-12-09 12:50:00</td>\n",
              "      <td>4.15</td>\n",
              "      <td>12680</td>\n",
              "      <td>France</td>\n",
              "    </tr>\n",
              "  </tbody>\n",
              "</table>\n",
              "<p>53989 rows × 8 columns</p>\n",
              "</div>"
            ],
            "text/plain": [
              "      InvoiceNo StockCode  ... CustomerID         Country\n",
              "0        536365    84029E  ...      17850  United Kingdom\n",
              "1        536367     84879  ...      13047  United Kingdom\n",
              "2        536367     21755  ...      13047  United Kingdom\n",
              "3        536368     22914  ...      13047  United Kingdom\n",
              "4        536373    84406B  ...      17850  United Kingdom\n",
              "...         ...       ...  ...        ...             ...\n",
              "54209    581585     84832  ...      15804  United Kingdom\n",
              "54210    581585     23084  ...      15804  United Kingdom\n",
              "54211    581585     84692  ...      15804  United Kingdom\n",
              "54212    581587     22631  ...      12680          France\n",
              "54213    581587     23255  ...      12680          France\n",
              "\n",
              "[53989 rows x 8 columns]"
            ]
          },
          "metadata": {
            "tags": []
          },
          "execution_count": 31
        }
      ]
    },
    {
      "cell_type": "code",
      "metadata": {
        "colab": {
          "base_uri": "https://localhost:8080/",
          "height": 49
        },
        "id": "Omt14MFk1nLG",
        "outputId": "f9af7da8-3d67-471e-8fb8-1e09780d7e6a"
      },
      "source": [
        "df[df['Quantity']<0]"
      ],
      "execution_count": null,
      "outputs": [
        {
          "output_type": "execute_result",
          "data": {
            "text/html": [
              "<div>\n",
              "<style scoped>\n",
              "    .dataframe tbody tr th:only-of-type {\n",
              "        vertical-align: middle;\n",
              "    }\n",
              "\n",
              "    .dataframe tbody tr th {\n",
              "        vertical-align: top;\n",
              "    }\n",
              "\n",
              "    .dataframe thead th {\n",
              "        text-align: right;\n",
              "    }\n",
              "</style>\n",
              "<table border=\"1\" class=\"dataframe\">\n",
              "  <thead>\n",
              "    <tr style=\"text-align: right;\">\n",
              "      <th></th>\n",
              "      <th>InvoiceNo</th>\n",
              "      <th>StockCode</th>\n",
              "      <th>Description</th>\n",
              "      <th>Quantity</th>\n",
              "      <th>InvoiceDate</th>\n",
              "      <th>UnitPrice</th>\n",
              "      <th>CustomerID</th>\n",
              "      <th>Country</th>\n",
              "    </tr>\n",
              "  </thead>\n",
              "  <tbody>\n",
              "  </tbody>\n",
              "</table>\n",
              "</div>"
            ],
            "text/plain": [
              "Empty DataFrame\n",
              "Columns: [InvoiceNo, StockCode, Description, Quantity, InvoiceDate, UnitPrice, CustomerID, Country]\n",
              "Index: []"
            ]
          },
          "metadata": {
            "tags": []
          },
          "execution_count": 32
        }
      ]
    },
    {
      "cell_type": "code",
      "metadata": {
        "colab": {
          "base_uri": "https://localhost:8080/",
          "height": 295
        },
        "id": "AQAVAaHF2p5G",
        "outputId": "763301ab-644c-4eab-f497-805e398cc65a"
      },
      "source": [
        "df.describe()"
      ],
      "execution_count": null,
      "outputs": [
        {
          "output_type": "execute_result",
          "data": {
            "text/html": [
              "<div>\n",
              "<style scoped>\n",
              "    .dataframe tbody tr th:only-of-type {\n",
              "        vertical-align: middle;\n",
              "    }\n",
              "\n",
              "    .dataframe tbody tr th {\n",
              "        vertical-align: top;\n",
              "    }\n",
              "\n",
              "    .dataframe thead th {\n",
              "        text-align: right;\n",
              "    }\n",
              "</style>\n",
              "<table border=\"1\" class=\"dataframe\">\n",
              "  <thead>\n",
              "    <tr style=\"text-align: right;\">\n",
              "      <th></th>\n",
              "      <th>Quantity</th>\n",
              "      <th>UnitPrice</th>\n",
              "    </tr>\n",
              "  </thead>\n",
              "  <tbody>\n",
              "    <tr>\n",
              "      <th>count</th>\n",
              "      <td>53989.000000</td>\n",
              "      <td>53989.000000</td>\n",
              "    </tr>\n",
              "    <tr>\n",
              "      <th>mean</th>\n",
              "      <td>10.489692</td>\n",
              "      <td>4.325292</td>\n",
              "    </tr>\n",
              "    <tr>\n",
              "      <th>std</th>\n",
              "      <td>38.294949</td>\n",
              "      <td>47.933260</td>\n",
              "    </tr>\n",
              "    <tr>\n",
              "      <th>min</th>\n",
              "      <td>1.000000</td>\n",
              "      <td>0.001000</td>\n",
              "    </tr>\n",
              "    <tr>\n",
              "      <th>25%</th>\n",
              "      <td>1.000000</td>\n",
              "      <td>1.250000</td>\n",
              "    </tr>\n",
              "    <tr>\n",
              "      <th>50%</th>\n",
              "      <td>3.000000</td>\n",
              "      <td>2.100000</td>\n",
              "    </tr>\n",
              "    <tr>\n",
              "      <th>75%</th>\n",
              "      <td>10.000000</td>\n",
              "      <td>4.130000</td>\n",
              "    </tr>\n",
              "    <tr>\n",
              "      <th>max</th>\n",
              "      <td>2400.000000</td>\n",
              "      <td>6930.000000</td>\n",
              "    </tr>\n",
              "  </tbody>\n",
              "</table>\n",
              "</div>"
            ],
            "text/plain": [
              "           Quantity     UnitPrice\n",
              "count  53989.000000  53989.000000\n",
              "mean      10.489692      4.325292\n",
              "std       38.294949     47.933260\n",
              "min        1.000000      0.001000\n",
              "25%        1.000000      1.250000\n",
              "50%        3.000000      2.100000\n",
              "75%       10.000000      4.130000\n",
              "max     2400.000000   6930.000000"
            ]
          },
          "metadata": {
            "tags": []
          },
          "execution_count": 33
        }
      ]
    },
    {
      "cell_type": "code",
      "metadata": {
        "colab": {
          "base_uri": "https://localhost:8080/",
          "height": 417
        },
        "id": "AD6Rru9Y3zDs",
        "outputId": "166d8b5b-f410-4d19-fe9b-3fe87143962c"
      },
      "source": [
        "df"
      ],
      "execution_count": null,
      "outputs": [
        {
          "output_type": "execute_result",
          "data": {
            "text/html": [
              "<div>\n",
              "<style scoped>\n",
              "    .dataframe tbody tr th:only-of-type {\n",
              "        vertical-align: middle;\n",
              "    }\n",
              "\n",
              "    .dataframe tbody tr th {\n",
              "        vertical-align: top;\n",
              "    }\n",
              "\n",
              "    .dataframe thead th {\n",
              "        text-align: right;\n",
              "    }\n",
              "</style>\n",
              "<table border=\"1\" class=\"dataframe\">\n",
              "  <thead>\n",
              "    <tr style=\"text-align: right;\">\n",
              "      <th></th>\n",
              "      <th>InvoiceNo</th>\n",
              "      <th>StockCode</th>\n",
              "      <th>Description</th>\n",
              "      <th>Quantity</th>\n",
              "      <th>InvoiceDate</th>\n",
              "      <th>UnitPrice</th>\n",
              "      <th>CustomerID</th>\n",
              "      <th>Country</th>\n",
              "    </tr>\n",
              "  </thead>\n",
              "  <tbody>\n",
              "    <tr>\n",
              "      <th>0</th>\n",
              "      <td>536365</td>\n",
              "      <td>84029E</td>\n",
              "      <td>RED WOOLLY HOTTIE WHITE HEART.</td>\n",
              "      <td>6</td>\n",
              "      <td>2010-12-01 08:26:00</td>\n",
              "      <td>3.39</td>\n",
              "      <td>17850</td>\n",
              "      <td>United Kingdom</td>\n",
              "    </tr>\n",
              "    <tr>\n",
              "      <th>1</th>\n",
              "      <td>536367</td>\n",
              "      <td>84879</td>\n",
              "      <td>ASSORTED COLOUR BIRD ORNAMENT</td>\n",
              "      <td>32</td>\n",
              "      <td>2010-12-01 08:34:00</td>\n",
              "      <td>1.69</td>\n",
              "      <td>13047</td>\n",
              "      <td>United Kingdom</td>\n",
              "    </tr>\n",
              "    <tr>\n",
              "      <th>2</th>\n",
              "      <td>536367</td>\n",
              "      <td>21755</td>\n",
              "      <td>LOVE BUILDING BLOCK WORD</td>\n",
              "      <td>3</td>\n",
              "      <td>2010-12-01 08:34:00</td>\n",
              "      <td>5.95</td>\n",
              "      <td>13047</td>\n",
              "      <td>United Kingdom</td>\n",
              "    </tr>\n",
              "    <tr>\n",
              "      <th>3</th>\n",
              "      <td>536368</td>\n",
              "      <td>22914</td>\n",
              "      <td>BLUE COAT RACK PARIS FASHION</td>\n",
              "      <td>3</td>\n",
              "      <td>2010-12-01 08:34:00</td>\n",
              "      <td>4.95</td>\n",
              "      <td>13047</td>\n",
              "      <td>United Kingdom</td>\n",
              "    </tr>\n",
              "    <tr>\n",
              "      <th>4</th>\n",
              "      <td>536373</td>\n",
              "      <td>84406B</td>\n",
              "      <td>CREAM CUPID HEARTS COAT HANGER</td>\n",
              "      <td>8</td>\n",
              "      <td>2010-12-01 09:02:00</td>\n",
              "      <td>2.75</td>\n",
              "      <td>17850</td>\n",
              "      <td>United Kingdom</td>\n",
              "    </tr>\n",
              "    <tr>\n",
              "      <th>...</th>\n",
              "      <td>...</td>\n",
              "      <td>...</td>\n",
              "      <td>...</td>\n",
              "      <td>...</td>\n",
              "      <td>...</td>\n",
              "      <td>...</td>\n",
              "      <td>...</td>\n",
              "      <td>...</td>\n",
              "    </tr>\n",
              "    <tr>\n",
              "      <th>54209</th>\n",
              "      <td>581585</td>\n",
              "      <td>84832</td>\n",
              "      <td>ZINC WILLIE WINKIE  CANDLE STICK</td>\n",
              "      <td>24</td>\n",
              "      <td>2011-12-09 12:31:00</td>\n",
              "      <td>0.85</td>\n",
              "      <td>15804</td>\n",
              "      <td>United Kingdom</td>\n",
              "    </tr>\n",
              "    <tr>\n",
              "      <th>54210</th>\n",
              "      <td>581585</td>\n",
              "      <td>23084</td>\n",
              "      <td>RABBIT NIGHT LIGHT</td>\n",
              "      <td>12</td>\n",
              "      <td>2011-12-09 12:31:00</td>\n",
              "      <td>2.08</td>\n",
              "      <td>15804</td>\n",
              "      <td>United Kingdom</td>\n",
              "    </tr>\n",
              "    <tr>\n",
              "      <th>54211</th>\n",
              "      <td>581585</td>\n",
              "      <td>84692</td>\n",
              "      <td>BOX OF 24 COCKTAIL PARASOLS</td>\n",
              "      <td>25</td>\n",
              "      <td>2011-12-09 12:31:00</td>\n",
              "      <td>0.42</td>\n",
              "      <td>15804</td>\n",
              "      <td>United Kingdom</td>\n",
              "    </tr>\n",
              "    <tr>\n",
              "      <th>54212</th>\n",
              "      <td>581587</td>\n",
              "      <td>22631</td>\n",
              "      <td>CIRCUS PARADE LUNCH BOX</td>\n",
              "      <td>12</td>\n",
              "      <td>2011-12-09 12:50:00</td>\n",
              "      <td>1.95</td>\n",
              "      <td>12680</td>\n",
              "      <td>France</td>\n",
              "    </tr>\n",
              "    <tr>\n",
              "      <th>54213</th>\n",
              "      <td>581587</td>\n",
              "      <td>23255</td>\n",
              "      <td>CHILDRENS CUTLERY CIRCUS PARADE</td>\n",
              "      <td>4</td>\n",
              "      <td>2011-12-09 12:50:00</td>\n",
              "      <td>4.15</td>\n",
              "      <td>12680</td>\n",
              "      <td>France</td>\n",
              "    </tr>\n",
              "  </tbody>\n",
              "</table>\n",
              "<p>53989 rows × 8 columns</p>\n",
              "</div>"
            ],
            "text/plain": [
              "      InvoiceNo StockCode  ... CustomerID         Country\n",
              "0        536365    84029E  ...      17850  United Kingdom\n",
              "1        536367     84879  ...      13047  United Kingdom\n",
              "2        536367     21755  ...      13047  United Kingdom\n",
              "3        536368     22914  ...      13047  United Kingdom\n",
              "4        536373    84406B  ...      17850  United Kingdom\n",
              "...         ...       ...  ...        ...             ...\n",
              "54209    581585     84832  ...      15804  United Kingdom\n",
              "54210    581585     23084  ...      15804  United Kingdom\n",
              "54211    581585     84692  ...      15804  United Kingdom\n",
              "54212    581587     22631  ...      12680          France\n",
              "54213    581587     23255  ...      12680          France\n",
              "\n",
              "[53989 rows x 8 columns]"
            ]
          },
          "metadata": {
            "tags": []
          },
          "execution_count": 34
        }
      ]
    },
    {
      "cell_type": "markdown",
      "metadata": {
        "id": "b3wui_QHXG3t"
      },
      "source": [
        "Очищенный файл выгружаю в csv-формат для построения дашборда\"\"\"\"\"\"\"\"\"\"\"\"\"\"\"\"\"\"\"\"\"\"\"\"\"\"\"\"\"\"\"\"\"\"\"\"\"\"\"\"\"\"\"\"\"\"\"\"\"\"\"\"\"\"\"\"\"\"\"\"\"\"\"\"\"\"\"\"\"\"\"\"\"\"\"\"\"\"\"\"\"\"\"\"\"\"\"\"\"\"\"\""
      ]
    },
    {
      "cell_type": "code",
      "metadata": {
        "id": "RT9EH94JXzhS"
      },
      "source": [
        "df.to_csv(\"output.csv\", index = False, line_terminator ='\\n',)"
      ],
      "execution_count": null,
      "outputs": []
    },
    {
      "cell_type": "markdown",
      "metadata": {
        "id": "MEPl8oof1i78"
      },
      "source": [
        "Проверю корректность выгруженных данных"
      ]
    },
    {
      "cell_type": "code",
      "metadata": {
        "id": "OtIEg2PQYKc1"
      },
      "source": [
        "dff = pd.read_csv('output.csv')"
      ],
      "execution_count": null,
      "outputs": []
    },
    {
      "cell_type": "code",
      "metadata": {
        "colab": {
          "base_uri": "https://localhost:8080/",
          "height": 417
        },
        "id": "UqlzJePdkYzM",
        "outputId": "30844dfd-082b-4621-9978-50e2616b5fdd"
      },
      "source": [
        "dff"
      ],
      "execution_count": null,
      "outputs": [
        {
          "output_type": "execute_result",
          "data": {
            "text/html": [
              "<div>\n",
              "<style scoped>\n",
              "    .dataframe tbody tr th:only-of-type {\n",
              "        vertical-align: middle;\n",
              "    }\n",
              "\n",
              "    .dataframe tbody tr th {\n",
              "        vertical-align: top;\n",
              "    }\n",
              "\n",
              "    .dataframe thead th {\n",
              "        text-align: right;\n",
              "    }\n",
              "</style>\n",
              "<table border=\"1\" class=\"dataframe\">\n",
              "  <thead>\n",
              "    <tr style=\"text-align: right;\">\n",
              "      <th></th>\n",
              "      <th>InvoiceNo</th>\n",
              "      <th>StockCode</th>\n",
              "      <th>Description</th>\n",
              "      <th>Quantity</th>\n",
              "      <th>InvoiceDate</th>\n",
              "      <th>UnitPrice</th>\n",
              "      <th>CustomerID</th>\n",
              "      <th>Country</th>\n",
              "    </tr>\n",
              "  </thead>\n",
              "  <tbody>\n",
              "    <tr>\n",
              "      <th>0</th>\n",
              "      <td>536365</td>\n",
              "      <td>84029E</td>\n",
              "      <td>RED WOOLLY HOTTIE WHITE HEART.</td>\n",
              "      <td>6</td>\n",
              "      <td>2010-12-01 08:26:00</td>\n",
              "      <td>3.39</td>\n",
              "      <td>17850</td>\n",
              "      <td>United Kingdom</td>\n",
              "    </tr>\n",
              "    <tr>\n",
              "      <th>1</th>\n",
              "      <td>536367</td>\n",
              "      <td>84879</td>\n",
              "      <td>ASSORTED COLOUR BIRD ORNAMENT</td>\n",
              "      <td>32</td>\n",
              "      <td>2010-12-01 08:34:00</td>\n",
              "      <td>1.69</td>\n",
              "      <td>13047</td>\n",
              "      <td>United Kingdom</td>\n",
              "    </tr>\n",
              "    <tr>\n",
              "      <th>2</th>\n",
              "      <td>536367</td>\n",
              "      <td>21755</td>\n",
              "      <td>LOVE BUILDING BLOCK WORD</td>\n",
              "      <td>3</td>\n",
              "      <td>2010-12-01 08:34:00</td>\n",
              "      <td>5.95</td>\n",
              "      <td>13047</td>\n",
              "      <td>United Kingdom</td>\n",
              "    </tr>\n",
              "    <tr>\n",
              "      <th>3</th>\n",
              "      <td>536368</td>\n",
              "      <td>22914</td>\n",
              "      <td>BLUE COAT RACK PARIS FASHION</td>\n",
              "      <td>3</td>\n",
              "      <td>2010-12-01 08:34:00</td>\n",
              "      <td>4.95</td>\n",
              "      <td>13047</td>\n",
              "      <td>United Kingdom</td>\n",
              "    </tr>\n",
              "    <tr>\n",
              "      <th>4</th>\n",
              "      <td>536373</td>\n",
              "      <td>84406B</td>\n",
              "      <td>CREAM CUPID HEARTS COAT HANGER</td>\n",
              "      <td>8</td>\n",
              "      <td>2010-12-01 09:02:00</td>\n",
              "      <td>2.75</td>\n",
              "      <td>17850</td>\n",
              "      <td>United Kingdom</td>\n",
              "    </tr>\n",
              "    <tr>\n",
              "      <th>...</th>\n",
              "      <td>...</td>\n",
              "      <td>...</td>\n",
              "      <td>...</td>\n",
              "      <td>...</td>\n",
              "      <td>...</td>\n",
              "      <td>...</td>\n",
              "      <td>...</td>\n",
              "      <td>...</td>\n",
              "    </tr>\n",
              "    <tr>\n",
              "      <th>53984</th>\n",
              "      <td>581585</td>\n",
              "      <td>84832</td>\n",
              "      <td>ZINC WILLIE WINKIE  CANDLE STICK</td>\n",
              "      <td>24</td>\n",
              "      <td>2011-12-09 12:31:00</td>\n",
              "      <td>0.85</td>\n",
              "      <td>15804</td>\n",
              "      <td>United Kingdom</td>\n",
              "    </tr>\n",
              "    <tr>\n",
              "      <th>53985</th>\n",
              "      <td>581585</td>\n",
              "      <td>23084</td>\n",
              "      <td>RABBIT NIGHT LIGHT</td>\n",
              "      <td>12</td>\n",
              "      <td>2011-12-09 12:31:00</td>\n",
              "      <td>2.08</td>\n",
              "      <td>15804</td>\n",
              "      <td>United Kingdom</td>\n",
              "    </tr>\n",
              "    <tr>\n",
              "      <th>53986</th>\n",
              "      <td>581585</td>\n",
              "      <td>84692</td>\n",
              "      <td>BOX OF 24 COCKTAIL PARASOLS</td>\n",
              "      <td>25</td>\n",
              "      <td>2011-12-09 12:31:00</td>\n",
              "      <td>0.42</td>\n",
              "      <td>15804</td>\n",
              "      <td>United Kingdom</td>\n",
              "    </tr>\n",
              "    <tr>\n",
              "      <th>53987</th>\n",
              "      <td>581587</td>\n",
              "      <td>22631</td>\n",
              "      <td>CIRCUS PARADE LUNCH BOX</td>\n",
              "      <td>12</td>\n",
              "      <td>2011-12-09 12:50:00</td>\n",
              "      <td>1.95</td>\n",
              "      <td>12680</td>\n",
              "      <td>France</td>\n",
              "    </tr>\n",
              "    <tr>\n",
              "      <th>53988</th>\n",
              "      <td>581587</td>\n",
              "      <td>23255</td>\n",
              "      <td>CHILDRENS CUTLERY CIRCUS PARADE</td>\n",
              "      <td>4</td>\n",
              "      <td>2011-12-09 12:50:00</td>\n",
              "      <td>4.15</td>\n",
              "      <td>12680</td>\n",
              "      <td>France</td>\n",
              "    </tr>\n",
              "  </tbody>\n",
              "</table>\n",
              "<p>53989 rows × 8 columns</p>\n",
              "</div>"
            ],
            "text/plain": [
              "      InvoiceNo StockCode  ... CustomerID         Country\n",
              "0        536365    84029E  ...      17850  United Kingdom\n",
              "1        536367     84879  ...      13047  United Kingdom\n",
              "2        536367     21755  ...      13047  United Kingdom\n",
              "3        536368     22914  ...      13047  United Kingdom\n",
              "4        536373    84406B  ...      17850  United Kingdom\n",
              "...         ...       ...  ...        ...             ...\n",
              "53984    581585     84832  ...      15804  United Kingdom\n",
              "53985    581585     23084  ...      15804  United Kingdom\n",
              "53986    581585     84692  ...      15804  United Kingdom\n",
              "53987    581587     22631  ...      12680          France\n",
              "53988    581587     23255  ...      12680          France\n",
              "\n",
              "[53989 rows x 8 columns]"
            ]
          },
          "metadata": {
            "tags": []
          },
          "execution_count": 37
        }
      ]
    },
    {
      "cell_type": "code",
      "metadata": {
        "colab": {
          "base_uri": "https://localhost:8080/",
          "height": 295
        },
        "id": "O1PcuXPMpowr",
        "outputId": "9bf83cac-3e59-4219-f1da-5bc9e210b9d3"
      },
      "source": [
        "dff.describe()"
      ],
      "execution_count": null,
      "outputs": [
        {
          "output_type": "execute_result",
          "data": {
            "text/html": [
              "<div>\n",
              "<style scoped>\n",
              "    .dataframe tbody tr th:only-of-type {\n",
              "        vertical-align: middle;\n",
              "    }\n",
              "\n",
              "    .dataframe tbody tr th {\n",
              "        vertical-align: top;\n",
              "    }\n",
              "\n",
              "    .dataframe thead th {\n",
              "        text-align: right;\n",
              "    }\n",
              "</style>\n",
              "<table border=\"1\" class=\"dataframe\">\n",
              "  <thead>\n",
              "    <tr style=\"text-align: right;\">\n",
              "      <th></th>\n",
              "      <th>Quantity</th>\n",
              "      <th>UnitPrice</th>\n",
              "    </tr>\n",
              "  </thead>\n",
              "  <tbody>\n",
              "    <tr>\n",
              "      <th>count</th>\n",
              "      <td>53989.000000</td>\n",
              "      <td>53989.000000</td>\n",
              "    </tr>\n",
              "    <tr>\n",
              "      <th>mean</th>\n",
              "      <td>10.489692</td>\n",
              "      <td>4.325292</td>\n",
              "    </tr>\n",
              "    <tr>\n",
              "      <th>std</th>\n",
              "      <td>38.294949</td>\n",
              "      <td>47.933260</td>\n",
              "    </tr>\n",
              "    <tr>\n",
              "      <th>min</th>\n",
              "      <td>1.000000</td>\n",
              "      <td>0.001000</td>\n",
              "    </tr>\n",
              "    <tr>\n",
              "      <th>25%</th>\n",
              "      <td>1.000000</td>\n",
              "      <td>1.250000</td>\n",
              "    </tr>\n",
              "    <tr>\n",
              "      <th>50%</th>\n",
              "      <td>3.000000</td>\n",
              "      <td>2.100000</td>\n",
              "    </tr>\n",
              "    <tr>\n",
              "      <th>75%</th>\n",
              "      <td>10.000000</td>\n",
              "      <td>4.130000</td>\n",
              "    </tr>\n",
              "    <tr>\n",
              "      <th>max</th>\n",
              "      <td>2400.000000</td>\n",
              "      <td>6930.000000</td>\n",
              "    </tr>\n",
              "  </tbody>\n",
              "</table>\n",
              "</div>"
            ],
            "text/plain": [
              "           Quantity     UnitPrice\n",
              "count  53989.000000  53989.000000\n",
              "mean      10.489692      4.325292\n",
              "std       38.294949     47.933260\n",
              "min        1.000000      0.001000\n",
              "25%        1.000000      1.250000\n",
              "50%        3.000000      2.100000\n",
              "75%       10.000000      4.130000\n",
              "max     2400.000000   6930.000000"
            ]
          },
          "metadata": {
            "tags": []
          },
          "execution_count": 38
        }
      ]
    },
    {
      "cell_type": "markdown",
      "metadata": {
        "id": "DHeJvcVL4IRC"
      },
      "source": [
        "Для предварительной оценки показателей добавлю столбец с итоговой суммой"
      ]
    },
    {
      "cell_type": "code",
      "metadata": {
        "id": "UuR32FUDg1Kk"
      },
      "source": [
        "df['total_price']=df.apply(lambda d: d['UnitPrice']*d['Quantity'], axis=1)"
      ],
      "execution_count": null,
      "outputs": []
    },
    {
      "cell_type": "code",
      "metadata": {
        "colab": {
          "base_uri": "https://localhost:8080/"
        },
        "id": "v48eVkxYkcZM",
        "outputId": "a36115b1-298c-4669-d984-7f15e4e9a324"
      },
      "source": [
        "df['total_price'].sum()"
      ],
      "execution_count": null,
      "outputs": [
        {
          "output_type": "execute_result",
          "data": {
            "text/plain": [
              "1112240.091"
            ]
          },
          "metadata": {
            "tags": []
          },
          "execution_count": 40
        }
      ]
    },
    {
      "cell_type": "code",
      "metadata": {
        "colab": {
          "base_uri": "https://localhost:8080/",
          "height": 1000
        },
        "id": "iL5qEZI3mFTV",
        "outputId": "b860b1d7-cdbf-4c33-bf93-833af2fd9ccd"
      },
      "source": [
        "df.groupby('Country').sum('total_price').sort_values('total_price',  ascending=False)"
      ],
      "execution_count": null,
      "outputs": [
        {
          "output_type": "execute_result",
          "data": {
            "text/html": [
              "<div>\n",
              "<style scoped>\n",
              "    .dataframe tbody tr th:only-of-type {\n",
              "        vertical-align: middle;\n",
              "    }\n",
              "\n",
              "    .dataframe tbody tr th {\n",
              "        vertical-align: top;\n",
              "    }\n",
              "\n",
              "    .dataframe thead th {\n",
              "        text-align: right;\n",
              "    }\n",
              "</style>\n",
              "<table border=\"1\" class=\"dataframe\">\n",
              "  <thead>\n",
              "    <tr style=\"text-align: right;\">\n",
              "      <th></th>\n",
              "      <th>Quantity</th>\n",
              "      <th>UnitPrice</th>\n",
              "      <th>total_price</th>\n",
              "    </tr>\n",
              "    <tr>\n",
              "      <th>Country</th>\n",
              "      <th></th>\n",
              "      <th></th>\n",
              "      <th></th>\n",
              "    </tr>\n",
              "  </thead>\n",
              "  <tbody>\n",
              "    <tr>\n",
              "      <th>United Kingdom</th>\n",
              "      <td>469211</td>\n",
              "      <td>208411.791</td>\n",
              "      <td>939628.821</td>\n",
              "    </tr>\n",
              "    <tr>\n",
              "      <th>EIRE</th>\n",
              "      <td>14765</td>\n",
              "      <td>5489.260</td>\n",
              "      <td>30574.080</td>\n",
              "    </tr>\n",
              "    <tr>\n",
              "      <th>Netherlands</th>\n",
              "      <td>20943</td>\n",
              "      <td>824.160</td>\n",
              "      <td>26710.580</td>\n",
              "    </tr>\n",
              "    <tr>\n",
              "      <th>Germany</th>\n",
              "      <td>12443</td>\n",
              "      <td>4384.710</td>\n",
              "      <td>24893.120</td>\n",
              "    </tr>\n",
              "    <tr>\n",
              "      <th>France</th>\n",
              "      <td>11742</td>\n",
              "      <td>2929.530</td>\n",
              "      <td>20149.970</td>\n",
              "    </tr>\n",
              "    <tr>\n",
              "      <th>Australia</th>\n",
              "      <td>10045</td>\n",
              "      <td>334.340</td>\n",
              "      <td>17240.220</td>\n",
              "    </tr>\n",
              "    <tr>\n",
              "      <th>Switzerland</th>\n",
              "      <td>3543</td>\n",
              "      <td>607.900</td>\n",
              "      <td>6222.500</td>\n",
              "    </tr>\n",
              "    <tr>\n",
              "      <th>Sweden</th>\n",
              "      <td>4680</td>\n",
              "      <td>211.880</td>\n",
              "      <td>6124.520</td>\n",
              "    </tr>\n",
              "    <tr>\n",
              "      <th>Spain</th>\n",
              "      <td>2938</td>\n",
              "      <td>912.480</td>\n",
              "      <td>5986.860</td>\n",
              "    </tr>\n",
              "    <tr>\n",
              "      <th>Portugal</th>\n",
              "      <td>1832</td>\n",
              "      <td>1821.550</td>\n",
              "      <td>4557.790</td>\n",
              "    </tr>\n",
              "    <tr>\n",
              "      <th>Belgium</th>\n",
              "      <td>2406</td>\n",
              "      <td>764.920</td>\n",
              "      <td>4101.260</td>\n",
              "    </tr>\n",
              "    <tr>\n",
              "      <th>Norway</th>\n",
              "      <td>1798</td>\n",
              "      <td>1096.410</td>\n",
              "      <td>3859.900</td>\n",
              "    </tr>\n",
              "    <tr>\n",
              "      <th>Hong Kong</th>\n",
              "      <td>374</td>\n",
              "      <td>2675.050</td>\n",
              "      <td>3462.770</td>\n",
              "    </tr>\n",
              "    <tr>\n",
              "      <th>Channel Islands</th>\n",
              "      <td>1567</td>\n",
              "      <td>431.670</td>\n",
              "      <td>2877.950</td>\n",
              "    </tr>\n",
              "    <tr>\n",
              "      <th>Japan</th>\n",
              "      <td>1594</td>\n",
              "      <td>72.090</td>\n",
              "      <td>2326.780</td>\n",
              "    </tr>\n",
              "    <tr>\n",
              "      <th>Denmark</th>\n",
              "      <td>742</td>\n",
              "      <td>113.990</td>\n",
              "      <td>2058.840</td>\n",
              "    </tr>\n",
              "    <tr>\n",
              "      <th>Finland</th>\n",
              "      <td>1017</td>\n",
              "      <td>299.850</td>\n",
              "      <td>2040.600</td>\n",
              "    </tr>\n",
              "    <tr>\n",
              "      <th>Italy</th>\n",
              "      <td>766</td>\n",
              "      <td>333.550</td>\n",
              "      <td>1512.320</td>\n",
              "    </tr>\n",
              "    <tr>\n",
              "      <th>Cyprus</th>\n",
              "      <td>852</td>\n",
              "      <td>503.620</td>\n",
              "      <td>1378.640</td>\n",
              "    </tr>\n",
              "    <tr>\n",
              "      <th>Singapore</th>\n",
              "      <td>374</td>\n",
              "      <td>297.230</td>\n",
              "      <td>1045.680</td>\n",
              "    </tr>\n",
              "    <tr>\n",
              "      <th>Austria</th>\n",
              "      <td>449</td>\n",
              "      <td>161.840</td>\n",
              "      <td>1036.270</td>\n",
              "    </tr>\n",
              "    <tr>\n",
              "      <th>Poland</th>\n",
              "      <td>469</td>\n",
              "      <td>165.090</td>\n",
              "      <td>918.250</td>\n",
              "    </tr>\n",
              "    <tr>\n",
              "      <th>Israel</th>\n",
              "      <td>331</td>\n",
              "      <td>193.750</td>\n",
              "      <td>531.720</td>\n",
              "    </tr>\n",
              "    <tr>\n",
              "      <th>Unspecified</th>\n",
              "      <td>292</td>\n",
              "      <td>126.910</td>\n",
              "      <td>520.220</td>\n",
              "    </tr>\n",
              "    <tr>\n",
              "      <th>Greece</th>\n",
              "      <td>158</td>\n",
              "      <td>49.460</td>\n",
              "      <td>490.820</td>\n",
              "    </tr>\n",
              "    <tr>\n",
              "      <th>USA</th>\n",
              "      <td>282</td>\n",
              "      <td>61.350</td>\n",
              "      <td>479.620</td>\n",
              "    </tr>\n",
              "    <tr>\n",
              "      <th>Malta</th>\n",
              "      <td>46</td>\n",
              "      <td>76.300</td>\n",
              "      <td>293.700</td>\n",
              "    </tr>\n",
              "    <tr>\n",
              "      <th>Lithuania</th>\n",
              "      <td>104</td>\n",
              "      <td>19.300</td>\n",
              "      <td>291.600</td>\n",
              "    </tr>\n",
              "    <tr>\n",
              "      <th>Iceland</th>\n",
              "      <td>161</td>\n",
              "      <td>45.730</td>\n",
              "      <td>271.790</td>\n",
              "    </tr>\n",
              "    <tr>\n",
              "      <th>Canada</th>\n",
              "      <td>226</td>\n",
              "      <td>18.770</td>\n",
              "      <td>214.140</td>\n",
              "    </tr>\n",
              "    <tr>\n",
              "      <th>United Arab Emirates</th>\n",
              "      <td>38</td>\n",
              "      <td>18.030</td>\n",
              "      <td>96.420</td>\n",
              "    </tr>\n",
              "    <tr>\n",
              "      <th>Czech Republic</th>\n",
              "      <td>36</td>\n",
              "      <td>4.900</td>\n",
              "      <td>82.200</td>\n",
              "    </tr>\n",
              "    <tr>\n",
              "      <th>European Community</th>\n",
              "      <td>33</td>\n",
              "      <td>26.500</td>\n",
              "      <td>80.900</td>\n",
              "    </tr>\n",
              "    <tr>\n",
              "      <th>Brazil</th>\n",
              "      <td>28</td>\n",
              "      <td>18.450</td>\n",
              "      <td>79.800</td>\n",
              "    </tr>\n",
              "    <tr>\n",
              "      <th>RSA</th>\n",
              "      <td>29</td>\n",
              "      <td>7.920</td>\n",
              "      <td>42.140</td>\n",
              "    </tr>\n",
              "    <tr>\n",
              "      <th>Lebanon</th>\n",
              "      <td>8</td>\n",
              "      <td>4.950</td>\n",
              "      <td>39.600</td>\n",
              "    </tr>\n",
              "    <tr>\n",
              "      <th>Bahrain</th>\n",
              "      <td>6</td>\n",
              "      <td>2.950</td>\n",
              "      <td>17.700</td>\n",
              "    </tr>\n",
              "  </tbody>\n",
              "</table>\n",
              "</div>"
            ],
            "text/plain": [
              "                      Quantity   UnitPrice  total_price\n",
              "Country                                                \n",
              "United Kingdom          469211  208411.791   939628.821\n",
              "EIRE                     14765    5489.260    30574.080\n",
              "Netherlands              20943     824.160    26710.580\n",
              "Germany                  12443    4384.710    24893.120\n",
              "France                   11742    2929.530    20149.970\n",
              "Australia                10045     334.340    17240.220\n",
              "Switzerland               3543     607.900     6222.500\n",
              "Sweden                    4680     211.880     6124.520\n",
              "Spain                     2938     912.480     5986.860\n",
              "Portugal                  1832    1821.550     4557.790\n",
              "Belgium                   2406     764.920     4101.260\n",
              "Norway                    1798    1096.410     3859.900\n",
              "Hong Kong                  374    2675.050     3462.770\n",
              "Channel Islands           1567     431.670     2877.950\n",
              "Japan                     1594      72.090     2326.780\n",
              "Denmark                    742     113.990     2058.840\n",
              "Finland                   1017     299.850     2040.600\n",
              "Italy                      766     333.550     1512.320\n",
              "Cyprus                     852     503.620     1378.640\n",
              "Singapore                  374     297.230     1045.680\n",
              "Austria                    449     161.840     1036.270\n",
              "Poland                     469     165.090      918.250\n",
              "Israel                     331     193.750      531.720\n",
              "Unspecified                292     126.910      520.220\n",
              "Greece                     158      49.460      490.820\n",
              "USA                        282      61.350      479.620\n",
              "Malta                       46      76.300      293.700\n",
              "Lithuania                  104      19.300      291.600\n",
              "Iceland                    161      45.730      271.790\n",
              "Canada                     226      18.770      214.140\n",
              "United Arab Emirates        38      18.030       96.420\n",
              "Czech Republic              36       4.900       82.200\n",
              "European Community          33      26.500       80.900\n",
              "Brazil                      28      18.450       79.800\n",
              "RSA                         29       7.920       42.140\n",
              "Lebanon                      8       4.950       39.600\n",
              "Bahrain                      6       2.950       17.700"
            ]
          },
          "metadata": {
            "tags": []
          },
          "execution_count": 41
        }
      ]
    },
    {
      "cell_type": "code",
      "metadata": {
        "id": "CfJCE-B3o9jM"
      },
      "source": [
        "df_invoice = df.groupby(['InvoiceNo']).sum('total_price').reset_index()"
      ],
      "execution_count": null,
      "outputs": []
    },
    {
      "cell_type": "code",
      "metadata": {
        "colab": {
          "base_uri": "https://localhost:8080/",
          "height": 417
        },
        "id": "gZS9YcqizBSW",
        "outputId": "9a7e008f-ed12-43ad-ef22-a90d5ea4dd19"
      },
      "source": [
        "df_invoice"
      ],
      "execution_count": null,
      "outputs": [
        {
          "output_type": "execute_result",
          "data": {
            "text/html": [
              "<div>\n",
              "<style scoped>\n",
              "    .dataframe tbody tr th:only-of-type {\n",
              "        vertical-align: middle;\n",
              "    }\n",
              "\n",
              "    .dataframe tbody tr th {\n",
              "        vertical-align: top;\n",
              "    }\n",
              "\n",
              "    .dataframe thead th {\n",
              "        text-align: right;\n",
              "    }\n",
              "</style>\n",
              "<table border=\"1\" class=\"dataframe\">\n",
              "  <thead>\n",
              "    <tr style=\"text-align: right;\">\n",
              "      <th></th>\n",
              "      <th>InvoiceNo</th>\n",
              "      <th>Quantity</th>\n",
              "      <th>UnitPrice</th>\n",
              "      <th>total_price</th>\n",
              "    </tr>\n",
              "  </thead>\n",
              "  <tbody>\n",
              "    <tr>\n",
              "      <th>0</th>\n",
              "      <td>536365</td>\n",
              "      <td>6</td>\n",
              "      <td>3.39</td>\n",
              "      <td>20.34</td>\n",
              "    </tr>\n",
              "    <tr>\n",
              "      <th>1</th>\n",
              "      <td>536367</td>\n",
              "      <td>35</td>\n",
              "      <td>7.64</td>\n",
              "      <td>71.93</td>\n",
              "    </tr>\n",
              "    <tr>\n",
              "      <th>2</th>\n",
              "      <td>536368</td>\n",
              "      <td>3</td>\n",
              "      <td>4.95</td>\n",
              "      <td>14.85</td>\n",
              "    </tr>\n",
              "    <tr>\n",
              "      <th>3</th>\n",
              "      <td>536373</td>\n",
              "      <td>8</td>\n",
              "      <td>2.75</td>\n",
              "      <td>22.00</td>\n",
              "    </tr>\n",
              "    <tr>\n",
              "      <th>4</th>\n",
              "      <td>536375</td>\n",
              "      <td>6</td>\n",
              "      <td>2.55</td>\n",
              "      <td>15.30</td>\n",
              "    </tr>\n",
              "    <tr>\n",
              "      <th>...</th>\n",
              "      <td>...</td>\n",
              "      <td>...</td>\n",
              "      <td>...</td>\n",
              "      <td>...</td>\n",
              "    </tr>\n",
              "    <tr>\n",
              "      <th>14675</th>\n",
              "      <td>C581228</td>\n",
              "      <td>24</td>\n",
              "      <td>6.75</td>\n",
              "      <td>162.00</td>\n",
              "    </tr>\n",
              "    <tr>\n",
              "      <th>14676</th>\n",
              "      <td>C581229</td>\n",
              "      <td>36</td>\n",
              "      <td>1.27</td>\n",
              "      <td>25.44</td>\n",
              "    </tr>\n",
              "    <tr>\n",
              "      <th>14677</th>\n",
              "      <td>C581322</td>\n",
              "      <td>1</td>\n",
              "      <td>2.95</td>\n",
              "      <td>2.95</td>\n",
              "    </tr>\n",
              "    <tr>\n",
              "      <th>14678</th>\n",
              "      <td>C581330</td>\n",
              "      <td>25</td>\n",
              "      <td>0.42</td>\n",
              "      <td>10.50</td>\n",
              "    </tr>\n",
              "    <tr>\n",
              "      <th>14679</th>\n",
              "      <td>C581465</td>\n",
              "      <td>1</td>\n",
              "      <td>8.50</td>\n",
              "      <td>8.50</td>\n",
              "    </tr>\n",
              "  </tbody>\n",
              "</table>\n",
              "<p>14680 rows × 4 columns</p>\n",
              "</div>"
            ],
            "text/plain": [
              "      InvoiceNo  Quantity  UnitPrice  total_price\n",
              "0        536365         6       3.39        20.34\n",
              "1        536367        35       7.64        71.93\n",
              "2        536368         3       4.95        14.85\n",
              "3        536373         8       2.75        22.00\n",
              "4        536375         6       2.55        15.30\n",
              "...         ...       ...        ...          ...\n",
              "14675   C581228        24       6.75       162.00\n",
              "14676   C581229        36       1.27        25.44\n",
              "14677   C581322         1       2.95         2.95\n",
              "14678   C581330        25       0.42        10.50\n",
              "14679   C581465         1       8.50         8.50\n",
              "\n",
              "[14680 rows x 4 columns]"
            ]
          },
          "metadata": {
            "tags": []
          },
          "execution_count": 43
        }
      ]
    },
    {
      "cell_type": "code",
      "metadata": {
        "id": "NN8lvrWbzJwK"
      },
      "source": [
        "df_invoice = df_invoice[['InvoiceNo','total_price']]"
      ],
      "execution_count": null,
      "outputs": []
    },
    {
      "cell_type": "markdown",
      "metadata": {
        "id": "2j4VtjU_9t2f"
      },
      "source": [
        "Объем продаж за все время"
      ]
    },
    {
      "cell_type": "code",
      "metadata": {
        "colab": {
          "base_uri": "https://localhost:8080/"
        },
        "id": "c_pLk0RS-mLC",
        "outputId": "a5cd2964-38df-465f-c541-f5fceb991421"
      },
      "source": [
        "df_invoice['total_price'].sum()"
      ],
      "execution_count": null,
      "outputs": [
        {
          "output_type": "execute_result",
          "data": {
            "text/plain": [
              "1112240.091"
            ]
          },
          "metadata": {
            "tags": []
          },
          "execution_count": 45
        }
      ]
    },
    {
      "cell_type": "markdown",
      "metadata": {
        "id": "DVP9c2h59z3i"
      },
      "source": [
        "Количество чеков за все время"
      ]
    },
    {
      "cell_type": "code",
      "metadata": {
        "id": "zSCMGiJG_i2i",
        "colab": {
          "base_uri": "https://localhost:8080/"
        },
        "outputId": "9b7962e6-d0f6-4804-9a4c-1702cd7a4080"
      },
      "source": [
        "df_invoice['total_price'].count()"
      ],
      "execution_count": null,
      "outputs": [
        {
          "output_type": "execute_result",
          "data": {
            "text/plain": [
              "14680"
            ]
          },
          "metadata": {
            "tags": []
          },
          "execution_count": 46
        }
      ]
    },
    {
      "cell_type": "markdown",
      "metadata": {
        "id": "CXGSix1G93c3"
      },
      "source": [
        "Средний чек"
      ]
    },
    {
      "cell_type": "code",
      "metadata": {
        "colab": {
          "base_uri": "https://localhost:8080/"
        },
        "id": "D8kMDZGiqSID",
        "outputId": "ba8fac90-87a8-4e3b-c11f-60a8aaeb616c"
      },
      "source": [
        "df_invoice['total_price'].mean()"
      ],
      "execution_count": null,
      "outputs": [
        {
          "output_type": "execute_result",
          "data": {
            "text/plain": [
              "75.76567377384171"
            ]
          },
          "metadata": {
            "tags": []
          },
          "execution_count": 47
        }
      ]
    },
    {
      "cell_type": "code",
      "metadata": {
        "id": "AF2KNNicyWbj"
      },
      "source": [
        "df_invoice.to_csv(\"output_invoice.csv\", index = False, line_terminator ='\\n',)"
      ],
      "execution_count": null,
      "outputs": []
    },
    {
      "cell_type": "code",
      "metadata": {
        "colab": {
          "base_uri": "https://localhost:8080/",
          "height": 447
        },
        "id": "6BNaIyiR8VyQ",
        "outputId": "483a7409-4737-409f-e354-54c4f62384d6"
      },
      "source": [
        "df.groupby(['CustomerID']).sum()"
      ],
      "execution_count": null,
      "outputs": [
        {
          "output_type": "execute_result",
          "data": {
            "text/html": [
              "<div>\n",
              "<style scoped>\n",
              "    .dataframe tbody tr th:only-of-type {\n",
              "        vertical-align: middle;\n",
              "    }\n",
              "\n",
              "    .dataframe tbody tr th {\n",
              "        vertical-align: top;\n",
              "    }\n",
              "\n",
              "    .dataframe thead th {\n",
              "        text-align: right;\n",
              "    }\n",
              "</style>\n",
              "<table border=\"1\" class=\"dataframe\">\n",
              "  <thead>\n",
              "    <tr style=\"text-align: right;\">\n",
              "      <th></th>\n",
              "      <th>Quantity</th>\n",
              "      <th>UnitPrice</th>\n",
              "      <th>total_price</th>\n",
              "    </tr>\n",
              "    <tr>\n",
              "      <th>CustomerID</th>\n",
              "      <th></th>\n",
              "      <th></th>\n",
              "      <th></th>\n",
              "    </tr>\n",
              "  </thead>\n",
              "  <tbody>\n",
              "    <tr>\n",
              "      <th>12347</th>\n",
              "      <td>161</td>\n",
              "      <td>45.73</td>\n",
              "      <td>271.79</td>\n",
              "    </tr>\n",
              "    <tr>\n",
              "      <th>12348</th>\n",
              "      <td>144</td>\n",
              "      <td>1.80</td>\n",
              "      <td>163.20</td>\n",
              "    </tr>\n",
              "    <tr>\n",
              "      <th>12349</th>\n",
              "      <td>83</td>\n",
              "      <td>17.50</td>\n",
              "      <td>106.84</td>\n",
              "    </tr>\n",
              "    <tr>\n",
              "      <th>12350</th>\n",
              "      <td>36</td>\n",
              "      <td>4.15</td>\n",
              "      <td>49.80</td>\n",
              "    </tr>\n",
              "    <tr>\n",
              "      <th>12352</th>\n",
              "      <td>26</td>\n",
              "      <td>110.00</td>\n",
              "      <td>184.40</td>\n",
              "    </tr>\n",
              "    <tr>\n",
              "      <th>...</th>\n",
              "      <td>...</td>\n",
              "      <td>...</td>\n",
              "      <td>...</td>\n",
              "    </tr>\n",
              "    <tr>\n",
              "      <th>18281</th>\n",
              "      <td>10</td>\n",
              "      <td>1.65</td>\n",
              "      <td>16.50</td>\n",
              "    </tr>\n",
              "    <tr>\n",
              "      <th>18282</th>\n",
              "      <td>9</td>\n",
              "      <td>2.55</td>\n",
              "      <td>22.95</td>\n",
              "    </tr>\n",
              "    <tr>\n",
              "      <th>18283</th>\n",
              "      <td>148</td>\n",
              "      <td>116.46</td>\n",
              "      <td>215.30</td>\n",
              "    </tr>\n",
              "    <tr>\n",
              "      <th>18287</th>\n",
              "      <td>124</td>\n",
              "      <td>11.93</td>\n",
              "      <td>158.88</td>\n",
              "    </tr>\n",
              "    <tr>\n",
              "      <th>unregistered</th>\n",
              "      <td>43671</td>\n",
              "      <td>92295.86</td>\n",
              "      <td>187861.16</td>\n",
              "    </tr>\n",
              "  </tbody>\n",
              "</table>\n",
              "<p>3820 rows × 3 columns</p>\n",
              "</div>"
            ],
            "text/plain": [
              "              Quantity  UnitPrice  total_price\n",
              "CustomerID                                    \n",
              "12347              161      45.73       271.79\n",
              "12348              144       1.80       163.20\n",
              "12349               83      17.50       106.84\n",
              "12350               36       4.15        49.80\n",
              "12352               26     110.00       184.40\n",
              "...                ...        ...          ...\n",
              "18281               10       1.65        16.50\n",
              "18282                9       2.55        22.95\n",
              "18283              148     116.46       215.30\n",
              "18287              124      11.93       158.88\n",
              "unregistered     43671   92295.86    187861.16\n",
              "\n",
              "[3820 rows x 3 columns]"
            ]
          },
          "metadata": {
            "tags": []
          },
          "execution_count": 49
        }
      ]
    },
    {
      "cell_type": "code",
      "metadata": {
        "colab": {
          "base_uri": "https://localhost:8080/",
          "height": 447
        },
        "id": "NhiUniER-Egy",
        "outputId": "1453f250-7865-4a57-a629-87c39ec0fb80"
      },
      "source": [
        "df_quanitity_position = df[df['CustomerID']!='unregistered'].groupby(['CustomerID','InvoiceDate']).count()\n",
        "df_quanitity_position"
      ],
      "execution_count": null,
      "outputs": [
        {
          "output_type": "execute_result",
          "data": {
            "text/html": [
              "<div>\n",
              "<style scoped>\n",
              "    .dataframe tbody tr th:only-of-type {\n",
              "        vertical-align: middle;\n",
              "    }\n",
              "\n",
              "    .dataframe tbody tr th {\n",
              "        vertical-align: top;\n",
              "    }\n",
              "\n",
              "    .dataframe thead th {\n",
              "        text-align: right;\n",
              "    }\n",
              "</style>\n",
              "<table border=\"1\" class=\"dataframe\">\n",
              "  <thead>\n",
              "    <tr style=\"text-align: right;\">\n",
              "      <th></th>\n",
              "      <th></th>\n",
              "      <th>InvoiceNo</th>\n",
              "      <th>StockCode</th>\n",
              "      <th>Description</th>\n",
              "      <th>Quantity</th>\n",
              "      <th>UnitPrice</th>\n",
              "      <th>Country</th>\n",
              "      <th>total_price</th>\n",
              "    </tr>\n",
              "    <tr>\n",
              "      <th>CustomerID</th>\n",
              "      <th>InvoiceDate</th>\n",
              "      <th></th>\n",
              "      <th></th>\n",
              "      <th></th>\n",
              "      <th></th>\n",
              "      <th></th>\n",
              "      <th></th>\n",
              "      <th></th>\n",
              "    </tr>\n",
              "  </thead>\n",
              "  <tbody>\n",
              "    <tr>\n",
              "      <th rowspan=\"5\" valign=\"top\">12347</th>\n",
              "      <th>2010-12-07 14:57:00</th>\n",
              "      <td>4</td>\n",
              "      <td>4</td>\n",
              "      <td>4</td>\n",
              "      <td>4</td>\n",
              "      <td>4</td>\n",
              "      <td>4</td>\n",
              "      <td>4</td>\n",
              "    </tr>\n",
              "    <tr>\n",
              "      <th>2011-01-26 14:30:00</th>\n",
              "      <td>2</td>\n",
              "      <td>2</td>\n",
              "      <td>2</td>\n",
              "      <td>2</td>\n",
              "      <td>2</td>\n",
              "      <td>2</td>\n",
              "      <td>2</td>\n",
              "    </tr>\n",
              "    <tr>\n",
              "      <th>2011-04-07 10:43:00</th>\n",
              "      <td>3</td>\n",
              "      <td>3</td>\n",
              "      <td>3</td>\n",
              "      <td>3</td>\n",
              "      <td>3</td>\n",
              "      <td>3</td>\n",
              "      <td>3</td>\n",
              "    </tr>\n",
              "    <tr>\n",
              "      <th>2011-10-31 12:25:00</th>\n",
              "      <td>4</td>\n",
              "      <td>4</td>\n",
              "      <td>4</td>\n",
              "      <td>4</td>\n",
              "      <td>4</td>\n",
              "      <td>4</td>\n",
              "      <td>4</td>\n",
              "    </tr>\n",
              "    <tr>\n",
              "      <th>2011-12-07 15:52:00</th>\n",
              "      <td>2</td>\n",
              "      <td>2</td>\n",
              "      <td>2</td>\n",
              "      <td>2</td>\n",
              "      <td>2</td>\n",
              "      <td>2</td>\n",
              "      <td>2</td>\n",
              "    </tr>\n",
              "    <tr>\n",
              "      <th>...</th>\n",
              "      <th>...</th>\n",
              "      <td>...</td>\n",
              "      <td>...</td>\n",
              "      <td>...</td>\n",
              "      <td>...</td>\n",
              "      <td>...</td>\n",
              "      <td>...</td>\n",
              "      <td>...</td>\n",
              "    </tr>\n",
              "    <tr>\n",
              "      <th rowspan=\"3\" valign=\"top\">18283</th>\n",
              "      <th>2011-11-23 13:27:00</th>\n",
              "      <td>12</td>\n",
              "      <td>12</td>\n",
              "      <td>12</td>\n",
              "      <td>12</td>\n",
              "      <td>12</td>\n",
              "      <td>12</td>\n",
              "      <td>12</td>\n",
              "    </tr>\n",
              "    <tr>\n",
              "      <th>2011-11-30 12:59:00</th>\n",
              "      <td>4</td>\n",
              "      <td>4</td>\n",
              "      <td>4</td>\n",
              "      <td>4</td>\n",
              "      <td>4</td>\n",
              "      <td>4</td>\n",
              "      <td>4</td>\n",
              "    </tr>\n",
              "    <tr>\n",
              "      <th>2011-12-06 12:02:00</th>\n",
              "      <td>2</td>\n",
              "      <td>2</td>\n",
              "      <td>2</td>\n",
              "      <td>2</td>\n",
              "      <td>2</td>\n",
              "      <td>2</td>\n",
              "      <td>2</td>\n",
              "    </tr>\n",
              "    <tr>\n",
              "      <th rowspan=\"2\" valign=\"top\">18287</th>\n",
              "      <th>2011-05-22 10:39:00</th>\n",
              "      <td>4</td>\n",
              "      <td>4</td>\n",
              "      <td>4</td>\n",
              "      <td>4</td>\n",
              "      <td>4</td>\n",
              "      <td>4</td>\n",
              "      <td>4</td>\n",
              "    </tr>\n",
              "    <tr>\n",
              "      <th>2011-10-12 10:23:00</th>\n",
              "      <td>2</td>\n",
              "      <td>2</td>\n",
              "      <td>2</td>\n",
              "      <td>2</td>\n",
              "      <td>2</td>\n",
              "      <td>2</td>\n",
              "      <td>2</td>\n",
              "    </tr>\n",
              "  </tbody>\n",
              "</table>\n",
              "<p>13660 rows × 7 columns</p>\n",
              "</div>"
            ],
            "text/plain": [
              "                                InvoiceNo  StockCode  ...  Country  total_price\n",
              "CustomerID InvoiceDate                                ...                      \n",
              "12347      2010-12-07 14:57:00          4          4  ...        4            4\n",
              "           2011-01-26 14:30:00          2          2  ...        2            2\n",
              "           2011-04-07 10:43:00          3          3  ...        3            3\n",
              "           2011-10-31 12:25:00          4          4  ...        4            4\n",
              "           2011-12-07 15:52:00          2          2  ...        2            2\n",
              "...                                   ...        ...  ...      ...          ...\n",
              "18283      2011-11-23 13:27:00         12         12  ...       12           12\n",
              "           2011-11-30 12:59:00          4          4  ...        4            4\n",
              "           2011-12-06 12:02:00          2          2  ...        2            2\n",
              "18287      2011-05-22 10:39:00          4          4  ...        4            4\n",
              "           2011-10-12 10:23:00          2          2  ...        2            2\n",
              "\n",
              "[13660 rows x 7 columns]"
            ]
          },
          "metadata": {
            "tags": []
          },
          "execution_count": 50
        }
      ]
    },
    {
      "cell_type": "markdown",
      "metadata": {
        "id": "GWSr1kMZAyEW"
      },
      "source": [
        "Среднее количество позиций в чеке среди зарегистрированных пользователей"
      ]
    },
    {
      "cell_type": "code",
      "metadata": {
        "colab": {
          "base_uri": "https://localhost:8080/"
        },
        "id": "uYd6yA57AnTm",
        "outputId": "ba47d642-ab35-4347-bba1-a960febc8d06"
      },
      "source": [
        "df_quanitity_position['InvoiceNo'].mean()"
      ],
      "execution_count": null,
      "outputs": [
        {
          "output_type": "execute_result",
          "data": {
            "text/plain": [
              "2.9750366032210835"
            ]
          },
          "metadata": {
            "tags": []
          },
          "execution_count": 51
        }
      ]
    }
  ]
}