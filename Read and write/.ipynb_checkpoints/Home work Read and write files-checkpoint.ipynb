{
 "cells": [
  {
   "cell_type": "code",
   "execution_count": 26,
   "metadata": {},
   "outputs": [],
   "source": [
    "# Читаем все строчки файла в список (т. е. в оперативную память) этот блок не нужен после правко преподавателя\n",
    "f = open('purchase_log.txt', 'r', encoding='utf-8')\n",
    "\n",
    "content = f.readlines()\n",
    "\n",
    "f.close()\n",
    "#del(content[0])"
   ]
  },
  {
   "cell_type": "code",
   "execution_count": 27,
   "metadata": {},
   "outputs": [
    {
     "data": {
      "text/plain": [
       "['{\"user_id\": \"user_id\", \"category\": \"category\"}\\n',\n",
       " '{\"user_id\": \"1840e0b9d4\", \"category\": \"Продукты\"}\\n',\n",
       " '{\"user_id\": \"4e4f90fcfb\", \"category\": \"Электроника\"}\\n',\n",
       " '{\"user_id\": \"afea8d72fc\", \"category\": \"Электроника\"}\\n',\n",
       " '{\"user_id\": \"373a6055fe\", \"category\": \"Бытовая техника\"}\\n',\n",
       " '{\"user_id\": \"9b2ab046f3\", \"category\": \"Электроника\"}\\n',\n",
       " '{\"user_id\": \"9f39d307c3\", \"category\": \"Электроника\"}\\n',\n",
       " '{\"user_id\": \"44edeffc91\", \"category\": \"Продукты\"}\\n',\n",
       " '{\"user_id\": \"704474fa2d\", \"category\": \"Продукты\"}\\n',\n",
       " '{\"user_id\": \"1de31be403\", \"category\": \"Бытовая техника\"}\\n']"
      ]
     },
     "execution_count": 27,
     "metadata": {},
     "output_type": "execute_result"
    }
   ],
   "source": [
    "#Просмотр содержимого первых 10 строк этот тоже\n",
    "content[:10]"
   ]
  },
  {
   "cell_type": "code",
   "execution_count": 30,
   "metadata": {},
   "outputs": [],
   "source": [
    "# Начало здесь\n",
    "import json"
   ]
  },
  {
   "cell_type": "code",
   "execution_count": 31,
   "metadata": {},
   "outputs": [],
   "source": [
    "# Создаю словарь purchases вида:{‘1840e0b9d4’: ‘Продукты’, …} после правок преподавателя -читать файл построчно\n",
    "purchases = {}\n",
    "with open('purchase_log.txt', encoding='utf-8') as f:\n",
    "    f.readline()\n",
    "    for line in f:\n",
    "        #for el in content:\n",
    "        line = json.loads(line)\n",
    "        purchases.setdefault(line['user_id'], line['category'])"
   ]
  },
  {
   "cell_type": "code",
   "execution_count": 32,
   "metadata": {},
   "outputs": [
    {
     "name": "stdout",
     "output_type": "stream",
     "text": [
      "Продукты\n"
     ]
    }
   ],
   "source": [
    "print(purchases[\"704474fa2d\"])"
   ]
  },
  {
   "cell_type": "code",
   "execution_count": 33,
   "metadata": {},
   "outputs": [],
   "source": [
    "# Записываю с помощью контекстного менеджера в файл funnel.csv визиты из файла visit_log.csv, в которых были покупки с указанием категории\n",
    "with open('visit_log.csv', 'r') as f:\n",
    "    with open('funnel.csv', 'w') as f_write:\n",
    "        for line in f:\n",
    "            line1 = line.strip().split(',')\n",
    "            if line1[0] in purchases:\n",
    "                val = line.strip() + ','+ purchases[line1[0]] + '\\n'\n",
    "                f_write.write(val)"
   ]
  },
  {
   "cell_type": "code",
   "execution_count": 34,
   "metadata": {},
   "outputs": [],
   "source": [
    "# Открываю записанный файл для чтения (посмотреть что получилось)\n",
    "f = open('funnel.csv', 'r')"
   ]
  },
  {
   "cell_type": "code",
   "execution_count": 35,
   "metadata": {},
   "outputs": [
    {
     "data": {
      "text/plain": [
       "'1840e0b9d4,other,Продукты\\n'"
      ]
     },
     "execution_count": 35,
     "metadata": {},
     "output_type": "execute_result"
    }
   ],
   "source": [
    "# Читаю первую строчку\n",
    "f.readline()"
   ]
  },
  {
   "cell_type": "code",
   "execution_count": 36,
   "metadata": {},
   "outputs": [],
   "source": [
    "#Закрываю файл\n",
    "f.close()"
   ]
  }
 ],
 "metadata": {
  "kernelspec": {
   "display_name": "Python 3",
   "language": "python",
   "name": "python3"
  },
  "language_info": {
   "codemirror_mode": {
    "name": "ipython",
    "version": 3
   },
   "file_extension": ".py",
   "mimetype": "text/x-python",
   "name": "python",
   "nbconvert_exporter": "python",
   "pygments_lexer": "ipython3",
   "version": "3.8.5"
  }
 },
 "nbformat": 4,
 "nbformat_minor": 4
}
