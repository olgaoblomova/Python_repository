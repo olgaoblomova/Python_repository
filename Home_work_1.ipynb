{
 "cells": [
  {
   "cell_type": "code",
   "execution_count": 10,
   "metadata": {},
   "outputs": [
    {
     "name": "stdout",
     "output_type": "stream",
     "text": [
      "Фраза 2 длиннее фразы 1\n"
     ]
    }
   ],
   "source": [
    "##Задание 1\n",
    "phrase_1 = \"Семь раз отмерь, один отрежь.\"\n",
    "phrase_2 = \"Один за всех, и все за одного.\"\n",
    "if len(phrase_1) > len(phrase_2):\n",
    "    print(\"Фраза 1 длиннее фразы 2\")\n",
    "elif len(phrase_1) < len(phrase_2):\n",
    "    print(\"Фраза 2 длиннее фразы 1\")\n",
    "else:\n",
    "    print(\"Фразы равны\")"
   ]
  },
  {
   "cell_type": "code",
   "execution_count": 2,
   "metadata": {},
   "outputs": [
    {
     "name": "stdout",
     "output_type": "stream",
     "text": [
      "Обычный год\n"
     ]
    }
   ],
   "source": [
    "##Задание 2\n",
    "year = 2011\n",
    "if year%4 != 0:\n",
    "    print (\"Обычный год\")\n",
    "else:\n",
    "    if year%100 == 0 and year%400 != 0:\n",
    "        print(\"Обычный год\")\n",
    "    else:\n",
    "        print(\"Високосный год\")"
   ]
  },
  {
   "cell_type": "code",
   "execution_count": 13,
   "metadata": {},
   "outputs": [
    {
     "name": "stdout",
     "output_type": "stream",
     "text": [
      "Введите день: 28\n",
      "Введите месяц: Апрель\n",
      "Ваш знак Зодиака Телец\n"
     ]
    }
   ],
   "source": [
    "##Задание 3\n",
    "day = int(input(\"Введите день: \"))\n",
    "month = str(input(\"Введите месяц: \"))\n",
    "if  (month == 'Март' and 21 <= day <= 31) or (month == 'Апрель' and day <= 20):\n",
    "    print (\"Ваш знак Зодиака Овен\")\n",
    "elif (month == 'Апрель' and 21 <= day <= 30) or (month == 'Май' and day <=21):\n",
    "    print (\"Ваш знак Зодиака Телец\")\n",
    "elif (month == 'Май' and 22 <= day <= 31) or (month == 'Июнь' and day <=21):\n",
    "    print (\"Ваш знак Зодиака Близнецы\")\n",
    "elif (month == 'Июнь' and 22 <= day <= 30) or (month == 'Июль' and day <=22):\n",
    "    print (\"Ваш знак Зодиака Рак\")\n",
    "elif (month == 'Июль' and 23 <= day <= 31) or (month == 'Август' and day <=21):\n",
    "    print (\"Ваш знак Зодиака Лев\")\n",
    "elif (month == 'Август' and 22 <= day <= 31) or (month == 'Сентябрь' and day <=23):\n",
    "    print (\"Ваш знак Зодиака Дева\")\n",
    "elif (month == 'Сентябрь' and 24 <= day <= 30) or (month == 'Октябрь' and day <=23):\n",
    "    print (\"Ваш знак Зодиака Весы\")\n",
    "elif (month == 'Октябрь' and 24 <= day <= 31) or (month == 'Ноябрь' and day <=22):\n",
    "    print (\"Ваш знак Зодиака Скорпион\")\n",
    "elif (month == 'Ноябрь' and 23 <= day <= 30) or (month == 'Декабрь' and day <=22):\n",
    "    print (\"Ваш знак Зодиака Стрелец\")\n",
    "elif (month == 'Декабрь' and 23 <= day <= 31) or (month == 'Январь' and day <=20):\n",
    "    print (\"Ваш знак Зодиака Козерог\")\n",
    "elif (month == 'Январь' and 21 <= day <= 31) or (month == 'Февраль' and day <=19):\n",
    "    print (\"Ваш знак Зодиака Водолей\")\n",
    "elif (month == 'Февраль' and 20 <= day <= 29) or (month == 'Март' and day <=20):\n",
    "    print (\"Ваш знак Зодиака Рыбы\")\n",
    "else:\n",
    "    print ('Введены некорректые данные, попробуйте снова')"
   ]
  },
  {
   "cell_type": "code",
   "execution_count": 24,
   "metadata": {},
   "outputs": [
    {
     "name": "stdout",
     "output_type": "stream",
     "text": [
      "Упаковка для лыж\n"
     ]
    }
   ],
   "source": [
    "#Задание 4\n",
    "width = 10\n",
    "length = 210\n",
    "height = 5\n",
    "if width < 15 and length < 15 and height < 15:\n",
    "    print (\"Коробка №1\")\n",
    "elif 15 < width < 50 or 15 < length < 50 or 15 < height < 50:\n",
    "    print (\"коробка №2\")\n",
    "elif length > 200:\n",
    "    print (\"Упаковка для лыж\")\n",
    "else:\n",
    "    print (\"Стандартная коробка №3\")"
   ]
  },
  {
   "cell_type": "code",
   "execution_count": 28,
   "metadata": {},
   "outputs": [
    {
     "name": "stdout",
     "output_type": "stream",
     "text": [
      "Счастливый билет\n"
     ]
    }
   ],
   "source": [
    "#Задание 5\n",
    "number = 153315\n",
    "if (number//100000 + number//10000%10 + number//1000%10) == (number//100%10 + number//10%10 + number%10):\n",
    "    print (\"Счастливый билет\")\n",
    "else:\n",
    "    print (\"Несчастливый билет\")"
   ]
  },
  {
   "cell_type": "code",
   "execution_count": 34,
   "metadata": {},
   "outputs": [
    {
     "name": "stdout",
     "output_type": "stream",
     "text": [
      "Введите тип фигуры: Треугольник\n",
      "Введите длину стороны 1: 4\n",
      "Введите длину стороны 2: 5\n",
      "Введите длину стороны 3: 6\n",
      "Площадь треугольника: 9.921567416492215\n"
     ]
    }
   ],
   "source": [
    "#Задание 6\n",
    "type_figure = str(input(\"Введите тип фигуры: \"))\n",
    "if type_figure ==\"Круг\":\n",
    "    radius = int(input(\"Введите радиус: \"))\n",
    "    print (\"Площадь круга:\", 3.14*radius**2)\n",
    "elif type_figure == \"Треугольник\":\n",
    "    side_1 = int(input(\"Введите длину стороны 1: \"))\n",
    "    side_2 = int(input(\"Введите длину стороны 2: \"))\n",
    "    side_3 = int(input(\"Введите длину стороны 3: \"))\n",
    "    p = (side_1 + side_2 + side_3)/2\n",
    "    s = (p*(p-side_1)*(p-side_2)*(p-side_3))**0.5\n",
    "    print (\"Площадь треугольника:\", s)\n",
    "elif type_figure == \"Прямоугольник\":\n",
    "    side_1 = int(input(\"Введите длину стороны 1: \"))\n",
    "    side_2 = int(input(\"Введите длину стороны 2: \"))\n",
    "    print (\"Площадь прямоугольника: \", side_1*side_2 )\n",
    "else:\n",
    "    print ('Введены некорректые данные, попробуйте снова')"
   ]
  },
  {
   "cell_type": "code",
   "execution_count": null,
   "metadata": {},
   "outputs": [],
   "source": []
  }
 ],
 "metadata": {
  "kernelspec": {
   "display_name": "Python 3",
   "language": "python",
   "name": "python3"
  },
  "language_info": {
   "codemirror_mode": {
    "name": "ipython",
    "version": 3
   },
   "file_extension": ".py",
   "mimetype": "text/x-python",
   "name": "python",
   "nbconvert_exporter": "python",
   "pygments_lexer": "ipython3",
   "version": "3.8.8"
  }
 },
 "nbformat": 4,
 "nbformat_minor": 4
}
