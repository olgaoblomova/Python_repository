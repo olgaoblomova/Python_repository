{
 "cells": [
  {
   "cell_type": "code",
   "execution_count": 1,
   "metadata": {},
   "outputs": [],
   "source": [
    "#Задача 1\n",
    "documents = [\n",
    "{'type': 'passport', 'number': '2207 876234', 'name': 'Василий Гупкин'},\n",
    "{'type': 'invoice', 'number': '11-2', 'name': 'Геннадий Покемонов'},\n",
    "{'type': 'insurance', 'number': '10006', 'name': 'Аристарх Павлов'}  \n",
    "]\n",
    "\n",
    "directories = {\n",
    "'1': ['2207 876234', '11-2'],\n",
    "'2': ['10006'],\n",
    "'3': []\n",
    "}\n",
    "\n"
   ]
  },
  {
   "cell_type": "code",
   "execution_count": 3,
   "metadata": {},
   "outputs": [
    {
     "name": "stdout",
     "output_type": "stream",
     "text": [
      "Введите номер документа: 10006\n",
      "Владелец документа:  Аристарх Павлов\n"
     ]
    }
   ],
   "source": [
    "#П.1 Поиск ФИО по номеру документа\n",
    "def get_name(docum, user_input = input('Введите номер документа: ')):\n",
    "    \"\"\"\n",
    "    Поиск ФИО по номеру документа\n",
    "    \"\"\"\n",
    "    n = ''\n",
    "    for doc in docum:\n",
    "        if doc['number'] == user_input:\n",
    "            n = doc['name']\n",
    "            break\n",
    "    if n == '':\n",
    "        print('Документ не найден в базе')\n",
    "    else:\n",
    "        print('Владелец документа: ', doc['name'])\n",
    "get_name(documents)"
   ]
  },
  {
   "cell_type": "code",
   "execution_count": 2,
   "metadata": {},
   "outputs": [
    {
     "data": {
      "text/plain": [
       "['Василий Гупкин', 'Геннадий Покемонов', 'Аристарх Павлов']"
      ]
     },
     "execution_count": 2,
     "metadata": {},
     "output_type": "execute_result"
    }
   ],
   "source": [
    "#П.1 Поиск значения поля в списке словарей, возвращает список значений\n",
    "def finder(docum, param):\n",
    "    \"\"\"\n",
    "     Поиск значения поля в списке словарей, возвращает список значений\n",
    "    \"\"\"\n",
    "    n = ''\n",
    "    list_param =[]\n",
    "    for doc in docum:\n",
    "        n = doc[param]\n",
    "        list_param.append(n)\n",
    "    return list_param\n",
    "finder(documents,'name')"
   ]
  },
  {
   "cell_type": "code",
   "execution_count": 4,
   "metadata": {},
   "outputs": [
    {
     "name": "stdout",
     "output_type": "stream",
     "text": [
      "Введите номер документа: 10006\n"
     ]
    },
    {
     "data": {
      "text/plain": [
       "'2'"
      ]
     },
     "execution_count": 4,
     "metadata": {},
     "output_type": "execute_result"
    }
   ],
   "source": [
    "#П.2 Поиск полки общий   \n",
    "def finder_shelf(director, num_doc):\n",
    "    \"\"\"\n",
    "    Поиск полки, возвращает номер полки\n",
    "    \"\"\"\n",
    "    for num, direct in director.items():\n",
    "        for line in direct:\n",
    "            if line == num_doc:\n",
    "                return num\n",
    "finder_shelf(directories,input('Введите номер документа: '))"
   ]
  },
  {
   "cell_type": "code",
   "execution_count": 5,
   "metadata": {},
   "outputs": [
    {
     "name": "stdout",
     "output_type": "stream",
     "text": [
      "Введите номер документа: 2207 876234\n",
      "Документ хранится на полке:  1\n"
     ]
    }
   ],
   "source": [
    "#Интерактивный поиск полки\n",
    "def get_shelf():\n",
    "    \"\"\"\n",
    "    Интерактивный поиск полки\n",
    "    \"\"\"\n",
    "    n = finder_shelf(directories, input('Введите номер документа: '))\n",
    "    if n == None:\n",
    "        print('Документ не найден в базе')\n",
    "    else:\n",
    "        print('Документ хранится на полке: ', n)\n",
    "\n",
    "get_shelf()"
   ]
  },
  {
   "cell_type": "code",
   "execution_count": 6,
   "metadata": {},
   "outputs": [
    {
     "name": "stdout",
     "output_type": "stream",
     "text": [
      "№: 2207 876234, тип: passport, владелец: Василий Гупкин, полка хранения: 1\n",
      "№: 11-2, тип: invoice, владелец: Геннадий Покемонов, полка хранения: 1\n",
      "№: 10006, тип: insurance, владелец: Аристарх Павлов, полка хранения: 2\n"
     ]
    }
   ],
   "source": [
    "# П.3 Результат:\n",
    "\n",
    "# №: 2207 876234, тип: passport, владелец: Василий Гупкин, полка хранения: 1\n",
    "# №: 11-2, тип: invoice, владелец: Геннадий Покемонов, полка хранения: 1\n",
    "# №: 10006, тип: insurance, владелец: Аристарх Павлов, полка хранения: 2\n",
    "def get_result(docum, direct):\n",
    "    \"\"\"\n",
    "    Выводит на экран полную информацию по всем документам\n",
    "    \"\"\"\n",
    "    for doc in docum:\n",
    "        list_result = [finder(docum,'number'), finder(docum,'type'), finder(docum, 'name')]\n",
    "    for i in range(0,len(list_result[0])):\n",
    "        print(f'№: {list_result[0][i]}, тип: {list_result[1][i]}, владелец: {list_result[2][i]}, полка хранения: {finder_shelf(direct, list_result[0][i])}')\n",
    "                      \n",
    "get_result(documents,directories)"
   ]
  },
  {
   "cell_type": "code",
   "execution_count": 7,
   "metadata": {},
   "outputs": [
    {
     "data": {
      "text/plain": [
       "['1', '2', '3']"
      ]
     },
     "execution_count": 7,
     "metadata": {},
     "output_type": "execute_result"
    }
   ],
   "source": [
    "# Функция сортировки строкового списка из чисел:\n",
    "def sort_list(direct):\n",
    "    \"\"\"\n",
    "    Функция сортировки строкового списка из чисел\n",
    "    \"\"\"\n",
    "    list_d = list(dict.keys(directories))\n",
    "    for i, item in enumerate(list_d):\n",
    "        list_d[i] = int(item)\n",
    "    list_d.sort()\n",
    "    for i, item in enumerate(list_d):\n",
    "        list_d[i] = str(item)\n",
    "    return list_d\n",
    "sort_list(directories)"
   ]
  },
  {
   "cell_type": "code",
   "execution_count": 9,
   "metadata": {},
   "outputs": [
    {
     "name": "stdout",
     "output_type": "stream",
     "text": [
      "Введите номер полки: 8\n",
      "Полка добавлена. Текущий перечень полок: 1, 2, 3, 4, 8\n"
     ]
    }
   ],
   "source": [
    " # П.4 Добавление полки\n",
    "def add_shelf(direct, num_shelf = input('Введите номер полки: ')):\n",
    "    \"\"\"\n",
    "    Добавление полки\n",
    "    \"\"\"\n",
    "    list_d = sort_list(direct)\n",
    "    if num_shelf in list_d:\n",
    "        print(f\"Такая полка уже существует.Текущий перечень полок: {', '.join(list_d)}\")\n",
    "    else:\n",
    "        direct.setdefault(num_shelf,[])\n",
    "        list_d = sort_list(direct)\n",
    "        print(f\"Полка добавлена. Текущий перечень полок: {', '.join(list_d)}\")\n",
    "add_shelf(directories)"
   ]
  },
  {
   "cell_type": "code",
   "execution_count": 10,
   "metadata": {},
   "outputs": [
    {
     "name": "stdout",
     "output_type": "stream",
     "text": [
      "Введите номер полки: 8\n",
      "Полка удалена. Текущий перечень полок: 1, 2, 3, 4\n"
     ]
    }
   ],
   "source": [
    "## П.5 Удаление пустой полки\n",
    "def del_shelf(direct, num_shelf = input('Введите номер полки: ')):\n",
    "    \"\"\"\n",
    "    Удаление пустой полки\n",
    "    \"\"\"\n",
    "    list_d = sort_list(direct)\n",
    "    if num_shelf not in list_d:\n",
    "        print(f\"Такой полки не существует. Текущий перечень полок: {', '.join(list_d)}\")\n",
    "        return\n",
    "    if len(direct[num_shelf]) == 0:\n",
    "        del(direct[num_shelf])\n",
    "        list_d = sort_list(direct)\n",
    "        print(f\"Полка удалена. Текущий перечень полок: {', '.join(list_d)}\")\n",
    "    else:\n",
    "        print(f\"На полке есть документы, удалите их перед удалением полки. Текущий перечень полок: {', '.join(list_d)}\")\n",
    "del_shelf(directories)"
   ]
  },
  {
   "cell_type": "code",
   "execution_count": 11,
   "metadata": {},
   "outputs": [
    {
     "name": "stdout",
     "output_type": "stream",
     "text": [
      "Введите команду: p\n",
      "Введите номер документа: 11-2\n",
      "Владелец документа:  Геннадий Покемонов\n",
      "Введите команду: as\n",
      "Введите номер полки: 6\n",
      "Полка добавлена. Текущий перечень полок: 1, 2, 3, 4, 6\n",
      "Введите команду: l\n",
      "№: 2207 876234, тип: passport, владелец: Василий Гупкин, полка хранения: 1\n",
      "№: 11-2, тип: invoice, владелец: Геннадий Покемонов, полка хранения: 1\n",
      "№: 10006, тип: insurance, владелец: Аристарх Павлов, полка хранения: 2\n",
      "Введите команду: quit\n",
      "Работа завершена!\n"
     ]
    }
   ],
   "source": [
    "def main(docum, direct):\n",
    "    list_input = ['p', 's', 'l', 'as', 'ds', 'quit']\n",
    "    while True:\n",
    "        user_input = input('Введите команду: ')\n",
    "        if user_input not in list_input:\n",
    "            print('Некорректная команда, повторите ввод: ')\n",
    "        elif user_input == 'p':\n",
    "            get_name(docum, input('Введите номер документа: '))\n",
    "        elif user_input == 's':\n",
    "            get_shelf()    \n",
    "        elif user_input == 'l':\n",
    "            get_result(docum, direct)\n",
    "        elif user_input == 'as':\n",
    "            add_shelf(direct, input('Введите номер полки: '))\n",
    "        elif user_input == 'ds':\n",
    "            del_shelf(direct, input('Введите номер полки: '))\n",
    "        elif user_input == 'quit':\n",
    "            print('Работа завершена!')\n",
    "            break\n",
    "            \n",
    "main(documents, directories)"
   ]
  }
 ],
 "metadata": {
  "kernelspec": {
   "display_name": "Python 3",
   "language": "python",
   "name": "python3"
  },
  "language_info": {
   "codemirror_mode": {
    "name": "ipython",
    "version": 3
   },
   "file_extension": ".py",
   "mimetype": "text/x-python",
   "name": "python",
   "nbconvert_exporter": "python",
   "pygments_lexer": "ipython3",
   "version": "3.8.5"
  }
 },
 "nbformat": 4,
 "nbformat_minor": 4
}
