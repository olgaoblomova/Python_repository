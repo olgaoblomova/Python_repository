{
 "cells": [
  {
   "cell_type": "code",
   "execution_count": 1,
   "metadata": {},
   "outputs": [],
   "source": [
    "import numpy as np"
   ]
  },
  {
   "cell_type": "code",
   "execution_count": 3,
   "metadata": {},
   "outputs": [
    {
     "name": "stdout",
     "output_type": "stream",
     "text": [
      "[6 7 9]\n"
     ]
    }
   ],
   "source": [
    "#Пробую сгенерить 3 числа в интервале от 0 до 9\n",
    "random_number = np.random.randint(0, 10,3)\n",
    "print(random_number)"
   ]
  },
  {
   "cell_type": "code",
   "execution_count": 3,
   "metadata": {},
   "outputs": [
    {
     "name": "stdout",
     "output_type": "stream",
     "text": [
      "затрачено: 1000000 рублей выигрыш: 802801 рублей\n",
      "В среднем за одну игру можно выиграть/проиграть -0.197199 рублей\n"
     ]
    }
   ],
   "source": [
    "#Смоделирую выпадение 3-х целых чисел на игровом автомате в количестве миллион раз,\n",
    "#на меньших значениях очень большой разброс значений получается\n",
    "np.random.seed(17)\n",
    "gain = 0 #выигрыш\n",
    "quantity_of_games = 1000000 #количество игр\n",
    "pay = 1 #плата за 1 игру\n",
    "for i in range(quantity_of_games):\n",
    "    random_number = np.random.randint(0, 10,3)\n",
    "    rn = str(random_number[0]) + str(random_number[1]) + str(random_number[2])\n",
    "    if rn == '777':\n",
    "        gain += 200\n",
    "    elif rn == '999':\n",
    "        gain += 100\n",
    "    elif rn == '555':\n",
    "        gain += 50\n",
    "    elif rn == '333':\n",
    "        gain += 15\n",
    "    elif rn == '111':\n",
    "        gain += 10\n",
    "    elif rn[1:] == '77':\n",
    "        gain += 5\n",
    "    elif rn[2:] == '7':\n",
    "        gain += 3\n",
    "    elif rn[1:] == '00':\n",
    "        gain += 2\n",
    "    elif rn[2:] == '0':\n",
    "        gain += 1\n",
    "p_g = gain/quantity_of_games-pay # средний проигрыш/выигрыш\n",
    "print('затрачено:', pay*quantity_of_games, 'рублей', 'выигрыш:', gain, 'рублей' )\n",
    "print('В среднем за одну игру можно выиграть/проиграть', p_g, 'рублей')"
   ]
  },
  {
   "cell_type": "code",
   "execution_count": 5,
   "metadata": {},
   "outputs": [
    {
     "name": "stdout",
     "output_type": "stream",
     "text": [
      "В среднем за одну игру можно проиграть!: -0.18999999999999995 рублей\n"
     ]
    }
   ],
   "source": [
    "#Рассчитаю по формуле полной вероятности выигрыш/проигрыш\n",
    "p = 200*1/1000+100*1/1000+50*1/1000+15*1/1000+10*1/1000+5*(10/1000-1/1000)+3*(100/1000-10/1000)+2*10/1000+1*100/1000-1\n",
    "print('В среднем за одну игру можно проиграть!:', p, 'рублей')"
   ]
  },
  {
   "cell_type": "code",
   "execution_count": 7,
   "metadata": {},
   "outputs": [
    {
     "name": "stdout",
     "output_type": "stream",
     "text": [
      "В среднем за одну игру можно проиграть!: -0.20000000000000007 рублей\n"
     ]
    }
   ],
   "source": [
    "#Версия Булыгина\n",
    "p = 0.001*(200 + 100 + 50 + 15 + 10) + (9/1000)*5 + (10/1000)*2 + ((99-9)/1000)*3 + ((100-10)/1000)*1-1\n",
    "print('В среднем за одну игру можно проиграть!:', p, 'рублей')\n",
    "#У меня была неверно посчитана вероятность выпада 0 на конце."
   ]
  },
  {
   "cell_type": "markdown",
   "metadata": {},
   "source": [
    "Игра невыгодна, в среднем ПРОИГРЫШ составит около 19-20 копеек за игру!!! Это же подтверждает расчет по формуле полной вероятности."
   ]
  }
 ],
 "metadata": {
  "kernelspec": {
   "display_name": "Python 3",
   "language": "python",
   "name": "python3"
  },
  "language_info": {
   "codemirror_mode": {
    "name": "ipython",
    "version": 3
   },
   "file_extension": ".py",
   "mimetype": "text/x-python",
   "name": "python",
   "nbconvert_exporter": "python",
   "pygments_lexer": "ipython3",
   "version": "3.8.5"
  }
 },
 "nbformat": 4,
 "nbformat_minor": 4
}
