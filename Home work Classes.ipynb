{
 "cells": [
  {
   "cell_type": "markdown",
   "metadata": {},
   "source": [
    "📘ЗАДАЧА 1"
   ]
  },
  {
   "cell_type": "code",
   "execution_count": 63,
   "metadata": {},
   "outputs": [],
   "source": [
    "# Задача 1\n",
    "'''\n",
    "Напишите функцию, которая возвращает название валюты (поле ‘Name’)\n",
    "с максимальным значением курса с помощью сервиса https://www.cbr-xml-daily.ru/daily_json.js\n",
    "'''\n",
    "import requests"
   ]
  },
  {
   "cell_type": "code",
   "execution_count": 64,
   "metadata": {},
   "outputs": [],
   "source": [
    "import json"
   ]
  },
  {
   "cell_type": "code",
   "execution_count": 65,
   "metadata": {},
   "outputs": [
    {
     "name": "stdout",
     "output_type": "stream",
     "text": [
      "СДР (специальные права заимствования) 106.752\n"
     ]
    }
   ],
   "source": [
    "def max_value_currency():\n",
    "    \"\"\"\n",
    "    Функция возвращает название валюты (поле ‘Name’)\n",
    "    с максимальным значением курса с помощью сервиса https://www.cbr-xml-daily.ru/daily_json.js\n",
    "    \"\"\"\n",
    "    list_value = []\n",
    "    dict_name_value = {}\n",
    "    req_list = requests.get('https://www.cbr-xml-daily.ru/daily_json.js').json()\n",
    "    for line in req_list['Valute'].values():\n",
    "        list_value.append(line['Value'])\n",
    "        dict_name_value.setdefault(line['Name'],line['Value'])\n",
    "    value_max = max(list_value)\n",
    "    for key, value in dict_name_value.items():\n",
    "        if value ==  value_max:\n",
    "            print(key, value)\n",
    "max_value_currency()"
   ]
  },
  {
   "cell_type": "code",
   "execution_count": 66,
   "metadata": {},
   "outputs": [],
   "source": [
    "?max_value_currency"
   ]
  },
  {
   "cell_type": "markdown",
   "metadata": {},
   "source": [
    "📘 ЗАДАЧА 2"
   ]
  },
  {
   "cell_type": "code",
   "execution_count": 1,
   "metadata": {},
   "outputs": [],
   "source": [
    "# Задача 2\n",
    "'''\n",
    "Добавьте в класс Rate параметр diff (со значениями True или False), который в случае значения True\n",
    "в методах курсов валют (eur, usd итд) будет возвращать не курс валюты, а изменение по сравнению в прошлым значением.\n",
    "Считайте, self.diff будет принимать значение True только при возврате значения курса. При отображении всей информации\n",
    "о валюте он не используется.\n",
    "'''\n",
    "from libs.exchange import Rate"
   ]
  },
  {
   "cell_type": "code",
   "execution_count": 4,
   "metadata": {},
   "outputs": [],
   "source": [
    "import sys\n",
    "sys.path.append('C:\\\\Users\\\\ASUS\\\\Desktop\\\\Netologiya\\\\Python\\\\Python_class\\\\')"
   ]
  },
  {
   "cell_type": "code",
   "execution_count": 5,
   "metadata": {},
   "outputs": [
    {
     "data": {
      "text/plain": [
       "['C:\\\\Users\\\\ASUS\\\\Desktop\\\\Netologiya\\\\Python_repository',\n",
       " 'C:\\\\Users\\\\ASUS\\\\anaconda3\\\\python38.zip',\n",
       " 'C:\\\\Users\\\\ASUS\\\\anaconda3\\\\DLLs',\n",
       " 'C:\\\\Users\\\\ASUS\\\\anaconda3\\\\lib',\n",
       " 'C:\\\\Users\\\\ASUS\\\\anaconda3',\n",
       " '',\n",
       " 'C:\\\\Users\\\\ASUS\\\\anaconda3\\\\lib\\\\site-packages',\n",
       " 'C:\\\\Users\\\\ASUS\\\\anaconda3\\\\lib\\\\site-packages\\\\win32',\n",
       " 'C:\\\\Users\\\\ASUS\\\\anaconda3\\\\lib\\\\site-packages\\\\win32\\\\lib',\n",
       " 'C:\\\\Users\\\\ASUS\\\\anaconda3\\\\lib\\\\site-packages\\\\Pythonwin',\n",
       " 'C:\\\\Users\\\\ASUS\\\\anaconda3\\\\lib\\\\site-packages\\\\IPython\\\\extensions',\n",
       " 'C:\\\\Users\\\\ASUS\\\\.ipython',\n",
       " 'C:\\\\Users\\\\ASUS\\\\Desktop\\\\Netologiya\\\\Python\\\\Python_class\\\\']"
      ]
     },
     "execution_count": 5,
     "metadata": {},
     "output_type": "execute_result"
    }
   ],
   "source": [
    "sys.path"
   ]
  },
  {
   "cell_type": "code",
   "execution_count": 34,
   "metadata": {},
   "outputs": [],
   "source": [
    "class Rate_different(Rate):\n",
    "    \"\"\"\n",
    "        дочерняя функция от Rate с добавленным параметром diff (со значениями True или False),\n",
    "        который в случае значения True в методах курсов валют (eur, usd И AZN) возвращает не курс валюты,\n",
    "        а изменение по сравнению в прошлым значением.\n",
    "        \"\"\"\n",
    "    def __init__(self, diff, format_ = 'value'):\n",
    "        #super().__init__(self, format_ = 'value')  \n",
    "        self.diff = diff\n",
    "        self.format = format_\n",
    "        \n",
    "    def currency(self, CharCode = 'EUR'):\n",
    "        input_format = self.format\n",
    "        if self.diff:\n",
    "            \"\"\"Возвращает  изменение курса валюты по сравнению в прошлым значением\"\"\"\n",
    "            self.format = 'full'\n",
    "            rez = round(self.make_format(CharCode)['Value'] - self.make_format(CharCode)['Previous'],4)\n",
    "            self.format = input_format \n",
    "            return  rez\n",
    "        else:\n",
    "            \"\"\"Возвращает курс валюты на сегодня в формате self.format\"\"\"\n",
    "            return self.make_format(CharCode)\n",
    "    def euro(self, CharCode = 'EUR'):\n",
    "        return self.currency('EUR')\n",
    "    \n",
    "    def usd(self, CharCode = 'USD'):\n",
    "        return self.currency('USD')\n",
    "    \n",
    "    def AZN(self, CharCode = 'AZN'):\n",
    "        return self.currency('AZN')"
   ]
  },
  {
   "cell_type": "code",
   "execution_count": 39,
   "metadata": {},
   "outputs": [],
   "source": [
    "r = Rate_different(True)"
   ]
  },
  {
   "cell_type": "code",
   "execution_count": 36,
   "metadata": {},
   "outputs": [
    {
     "data": {
      "text/plain": [
       "'value'"
      ]
     },
     "execution_count": 36,
     "metadata": {},
     "output_type": "execute_result"
    }
   ],
   "source": [
    "r.format"
   ]
  },
  {
   "cell_type": "code",
   "execution_count": 37,
   "metadata": {},
   "outputs": [],
   "source": [
    "r.format = 'value'"
   ]
  },
  {
   "cell_type": "code",
   "execution_count": 24,
   "metadata": {},
   "outputs": [],
   "source": [
    "r.format = 'full'"
   ]
  },
  {
   "cell_type": "code",
   "execution_count": 29,
   "metadata": {},
   "outputs": [
    {
     "data": {
      "text/plain": [
       "89.6604"
      ]
     },
     "execution_count": 29,
     "metadata": {},
     "output_type": "execute_result"
    }
   ],
   "source": [
    "r.make_format('EUR')"
   ]
  },
  {
   "cell_type": "code",
   "execution_count": 40,
   "metadata": {},
   "outputs": [
    {
     "data": {
      "text/plain": [
       "89.6604"
      ]
     },
     "execution_count": 40,
     "metadata": {},
     "output_type": "execute_result"
    }
   ],
   "source": [
    "r.eur()"
   ]
  },
  {
   "cell_type": "code",
   "execution_count": 41,
   "metadata": {},
   "outputs": [
    {
     "data": {
      "text/plain": [
       "-0.0188"
      ]
     },
     "execution_count": 41,
     "metadata": {},
     "output_type": "execute_result"
    }
   ],
   "source": [
    "r.AZN()"
   ]
  },
  {
   "cell_type": "code",
   "execution_count": 42,
   "metadata": {},
   "outputs": [
    {
     "data": {
      "text/plain": [
       "0.0116"
      ]
     },
     "execution_count": 42,
     "metadata": {},
     "output_type": "execute_result"
    }
   ],
   "source": [
    "r.usd()"
   ]
  },
  {
   "cell_type": "markdown",
   "metadata": {},
   "source": [
    "📘 ЗАДАЧА 3 "
   ]
  },
  {
   "cell_type": "code",
   "execution_count": 48,
   "metadata": {},
   "outputs": [],
   "source": [
    "#Родительский класс\n",
    "class Employee:\n",
    "    def __init__(self, name, seniority):\n",
    "        self.name = name\n",
    "        self.seniority = seniority\n",
    "        \n",
    "        self.grade = 1\n",
    "    \n",
    "    def grade_up(self):\n",
    "        \"\"\"Повышает уровень сотрудника\"\"\"\n",
    "        self.grade += 1\n",
    "    \n",
    "    def publish_grade(self):\n",
    "        \"\"\"Публикация результатов аккредитации сотрудников\"\"\"\n",
    "        print(self.name, self.grade)\n",
    "    \n",
    "    def check_if_it_is_time_for_upgrade(self):\n",
    "        pass\n",
    "    \n"
   ]
  },
  {
   "cell_type": "code",
   "execution_count": 49,
   "metadata": {},
   "outputs": [],
   "source": [
    "# Задание 3\n",
    "'''\n",
    "Напишите класс Designer, который учитывает количество международных премий.\n",
    "Подсказки в коде занятия в разделе “Домашнее задание задача 3”.\n",
    "Напишите класс Designer, который учитывает количество международных премий\n",
    "для дизайнеров (из презентации: “Повышение на 1 грейд за каждые 7 баллов.\n",
    "Получение международной премии – это +2 балла”). Считайте, что при выходе\n",
    "на работу сотрудник уже имеет две премии и их количество не меняется со стажем\n",
    "(конечно если хотите это можно вручную менять).\n",
    "\n",
    "Класс Designer пишется по аналогии с классом Developer из материалов занятия.\n",
    "Комментарий про его условия Вика написала выше: “Повышение на 1 грейд за каждые 7 баллов.\n",
    "Получение международной премии – это +2 балла”\n",
    "'''\n",
    "class Designer(Employee):\n",
    "    def __init__(self, name, seniority, international_award = 2):\n",
    "        super().__init__(name, seniority)\n",
    "        self.international_award = international_award\n",
    "    \n",
    "    def check_if_it_is_time_for_upgrade(self):\n",
    "        # для каждой аккредитации увеличиваем счетчик на 1\n",
    "        # пока считаем, что все дизайнеры проходят аккредитацию\n",
    "        #seniority_begin =  self.international_award*2\n",
    "        self.seniority += 1\n",
    "        \n",
    "        # условие повышения сотрудника из презентации\n",
    "        if (self.seniority + self.international_award*2)% 7 == 0:\n",
    "            self.grade_up()\n",
    "        \n",
    "        # публикация результатов\n",
    "        return self.publish_grade()"
   ]
  },
  {
   "cell_type": "code",
   "execution_count": 50,
   "metadata": {},
   "outputs": [],
   "source": [
    "Poli = Designer('Полина',0)"
   ]
  },
  {
   "cell_type": "code",
   "execution_count": 51,
   "metadata": {},
   "outputs": [
    {
     "data": {
      "text/plain": [
       "2"
      ]
     },
     "execution_count": 51,
     "metadata": {},
     "output_type": "execute_result"
    }
   ],
   "source": [
    "Poli.international_award"
   ]
  },
  {
   "cell_type": "code",
   "execution_count": 52,
   "metadata": {},
   "outputs": [
    {
     "data": {
      "text/plain": [
       "0"
      ]
     },
     "execution_count": 52,
     "metadata": {},
     "output_type": "execute_result"
    }
   ],
   "source": [
    "Poli.seniority"
   ]
  },
  {
   "cell_type": "code",
   "execution_count": 53,
   "metadata": {},
   "outputs": [
    {
     "data": {
      "text/plain": [
       "1"
      ]
     },
     "execution_count": 53,
     "metadata": {},
     "output_type": "execute_result"
    }
   ],
   "source": [
    "Poli.grade"
   ]
  },
  {
   "cell_type": "code",
   "execution_count": 54,
   "metadata": {},
   "outputs": [
    {
     "name": "stdout",
     "output_type": "stream",
     "text": [
      "Полина 1\n",
      "Полина 1\n",
      "Полина 2\n",
      "Полина 2\n",
      "Полина 2\n",
      "Полина 2\n",
      "Полина 2\n",
      "Полина 2\n",
      "Полина 2\n",
      "Полина 3\n",
      "Полина 3\n",
      "Полина 3\n",
      "Полина 3\n",
      "Полина 3\n",
      "Полина 3\n",
      "Полина 3\n",
      "Полина 4\n",
      "Полина 4\n",
      "Полина 4\n",
      "Полина 4\n",
      "Полина 4\n",
      "Полина 4\n",
      "Полина 4\n",
      "Полина 5\n",
      "Полина 5\n"
     ]
    }
   ],
   "source": [
    "for i in range(25):\n",
    "    Poli.check_if_it_is_time_for_upgrade()"
   ]
  }
 ],
 "metadata": {
  "kernelspec": {
   "display_name": "Python 3",
   "language": "python",
   "name": "python3"
  },
  "language_info": {
   "codemirror_mode": {
    "name": "ipython",
    "version": 3
   },
   "file_extension": ".py",
   "mimetype": "text/x-python",
   "name": "python",
   "nbconvert_exporter": "python",
   "pygments_lexer": "ipython3",
   "version": "3.8.5"
  }
 },
 "nbformat": 4,
 "nbformat_minor": 4
}
